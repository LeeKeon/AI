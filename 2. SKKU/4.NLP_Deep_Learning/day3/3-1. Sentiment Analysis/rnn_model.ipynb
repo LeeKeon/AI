{
 "cells": [
  {
   "cell_type": "code",
   "execution_count": 1,
   "metadata": {},
   "outputs": [
    {
     "name": "stderr",
     "output_type": "stream",
     "text": [
      "/etc/anaconda3/lib/python3.6/site-packages/h5py/__init__.py:36: FutureWarning: Conversion of the second argument of issubdtype from `float` to `np.floating` is deprecated. In future, it will be treated as `np.float64 == np.dtype(float).type`.\n",
      "  from ._conv import register_converters as _register_converters\n"
     ]
    }
   ],
   "source": [
    "# -*- coding: utf-8 -*-\n",
    "\n",
    "import tensorflow as tf\n",
    "from tensorflow.contrib import rnn"
   ]
  },
  {
   "cell_type": "code",
   "execution_count": null,
   "metadata": {},
   "outputs": [],
   "source": [
    "# Write your code here\n",
    "class Model(object):\n",
    "    def __init__(self, max_len=200, emb_dim=128, hidden_dim=128, vocab_size=10000,\n",
    "                 class_size=2, use_clip=True, learning_rate=0.01, end_token=\"<eos>\"):\n",
    "        self.initializer = tf.random_uniform_initializer(-0.1, 0.1)\n",
    "        self.max_len = max_len\n",
    "        self.emb_dim = emb_dim\n",
    "        self.hidden_dim = hidden_dim\n",
    "        self.end_token = end_token\n",
    "\n",
    "        self.vocab_size = vocab_size\n",
    "        self.class_size = 2\n",
    "        self.use_clip = use_clip\n",
    "        self.learning_rate = learning_rate\n",
    "\n",
    "        self.x = tf.placeholder(dtype=tf.int32, shape=(None, self.max_len))\n",
    "        self.x_len = tf.placeholder(dtype=tf.int32, shape=(None, ))\n",
    "        self.y = tf.placeholder(dtype=tf.int32, shape=(None, ))\n",
    "        self.keep_prob = tf.placeholder_with_default(1.0, shape=None)\n",
    "\n",
    "        # Embedding\n",
    "        self.emb_W = self.get_var(name='emb_W', shape=[self.vocab_size, self.emb_dim])\n",
    "        self.batch_size = tf.shape(self.x)[0]\n",
    "        self.x_emb = tf.nn.embedding_lookup(self.emb_W,\n",
    "                                            tf.concat([self.x[:, :-1], tf.ones([self.batch_size, 1], dtype=tf.int32)], 1))\n",
    "\n",
    "        self.build_model()\n",
    "        self.build_loss()\n",
    "        self.build_opt()\n",
    "\n",
    "    def build_model(self):\n",
    "        \n",
    "        cell_fw = tf.contrib.rnn.DropoutWrapper(tf.nn.rnn_cell.BasicLSTMCell(self.hidden_dim), keep_prob=self.keep_prob)\n",
    "        cell_bw = tf.contrib.rnn.DropoutWrapper(tf.nn.rnn_cell.BasicLSTMCell(self.hidden_dim), keep_prob=self.keep_prob)\n",
    "        (outputs_fw, output_bw), states = tf.nn.bidirectional_dynamic_rnn(cell_fw, cell_bw, x_emb, dtype=tf.float32)\n",
    "\n",
    "        outputs = tf.concat([outputs_fw, output_bw], axis = -1)\n",
    "\n",
    "        outputs = outputs[:,-1]\n",
    "        model = tf.nn.softmax(tf.matmul(outputs, W) + b)\n",
    "\n",
    "    def build_loss(self):\n",
    "        self.cross_entropy = -tf.reduce_sum(\n",
    "            tf.one_hot(tf.to_int32(tf.reshape(self.y, [-1])), self.class_size, 1.0, 0.0)\n",
    "            * tf.log(tf.clip_by_value(tf.reshape(self.out, [-1, self.class_size]), 1e-20, 1.0)), 1)\n",
    "        self.loss = tf.reduce_mean(self.cross_entropy)\n",
    "\n",
    "    def build_opt(self):\n",
    "        # define optimizer\n",
    "        optimizer = tf.train.AdamOptimizer(learning_rate=self.learning_rate)\n",
    "        grad, var = zip(*optimizer.compute_gradients(self.loss))\n",
    "\n",
    "        # gradient clipping\n",
    "        def clipped_grad(grad):\n",
    "            return [None if g is None else tf.clip_by_norm(g, 2.5) for g in grad]\n",
    "\n",
    "        if self.use_clip:\n",
    "            grad = clipped_grad(grad)\n",
    "\n",
    "        self.update = optimizer.apply_gradients(zip(grad, var))\n",
    "\n",
    "    def leaky_relu(self, x):\n",
    "        return tf.maximum((x), 0.1*(x))\n",
    "\n",
    "    def get_var(self, name='', shape=None, dtype=tf.float32):\n",
    "        return tf.get_variable(name, shape, dtype=dtype, initializer=self.initializer)\n",
    "\n",
    "    def save(self, sess, global_step=None):\n",
    "        var_list = [var for var in tf.all_variables()]\n",
    "        saver = tf.train.Saver(var_list)\n",
    "        save_path = saver.save(sess, save_path=\"models/cnn\", global_step=global_step)\n",
    "        print(' * model saved at \\'{}\\''.format(save_path))\n",
    "\n",
    "    # Load whole weights\n",
    "    def restore(self, sess):\n",
    "        print(' - Restoring variables...')\n",
    "        var_list = [var for var in tf.all_variables()]\n",
    "        saver = tf.train.Saver(var_list)\n",
    "        saver.restore(sess, \"models/cnn\")\n",
    "        print(' * model restored ')"
   ]
  }
 ],
 "metadata": {
  "kernelspec": {
   "display_name": "Python 3",
   "language": "python",
   "name": "python3"
  },
  "language_info": {
   "codemirror_mode": {
    "name": "ipython",
    "version": 3
   },
   "file_extension": ".py",
   "mimetype": "text/x-python",
   "name": "python",
   "nbconvert_exporter": "python",
   "pygments_lexer": "ipython3",
   "version": "3.6.4"
  }
 },
 "nbformat": 4,
 "nbformat_minor": 2
}
