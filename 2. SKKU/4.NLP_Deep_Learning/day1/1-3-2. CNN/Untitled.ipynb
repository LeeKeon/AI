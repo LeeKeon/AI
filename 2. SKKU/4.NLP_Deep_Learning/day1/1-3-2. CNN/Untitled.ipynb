{
 "cells": [
  {
   "cell_type": "code",
   "execution_count": 1,
   "metadata": {},
   "outputs": [
    {
     "name": "stderr",
     "output_type": "stream",
     "text": [
      "/etc/anaconda3/lib/python3.6/site-packages/h5py/__init__.py:36: FutureWarning: Conversion of the second argument of issubdtype from `float` to `np.floating` is deprecated. In future, it will be treated as `np.float64 == np.dtype(float).type`.\n",
      "  from ._conv import register_converters as _register_converters\n"
     ]
    }
   ],
   "source": [
    "import tensorflow as tf\n",
    "from tensorflow.python.layers.core import Dense"
   ]
  },
  {
   "cell_type": "code",
   "execution_count": 2,
   "metadata": {},
   "outputs": [],
   "source": [
    "\n",
    "# Write your code here\n",
    "class Model(object):\n",
    "    def __init__(self, num_k=7, emb_dim=128, vocab_size=10000, use_clip=True, learning_rate=0.01):\n",
    "        self.initializer = tf.random_uniform_initializer(-0.1, 0.1)\n",
    "        self.emb_dim = emb_dim\n",
    "        self.vocab_size = vocab_size\n",
    "        self.use_clip = use_clip\n",
    "        self.learning_rate = learning_rate\n",
    "\n",
    "        self.x = tf.placeholder(dtype=tf.int32, shape=(None, num_k))\n",
    "        self.y = tf.placeholder(dtype=tf.int32, shape=(None, ))\n",
    "        self.mask = tf.placeholder(dtype=tf.float32, shape=(None, ))\n",
    "\n",
    "        # Embedding\n",
    "        self.emb_W = self.get_var(name='emb_W', shape=[self.vocab_size, self.emb_dim])\n",
    "        self.x_emb = tf.nn.embedding_lookup(self.emb_W, self.x)\n",
    "\n",
    "        self.build_model()\n",
    "        self.build_loss()\n",
    "        self.build_opt()\n",
    "\n",
    "    def build_model(self):\n",
    "        x_emb_4d = tf.expand_dims(self.x_emb, -1)\n",
    "\n",
    "        ############################## Complete  3-Conv. layers\n",
    "        \n",
    "        conv_f1 = tf.Variable(tf.random_normal([128, 3, 1, 32], stddev=0.01))\n",
    "        conv_l1 = tf.nn.relu(tf.nn.conv2d(x_emb_4d, filter=conv_f1, strides=[1, 1, 1, 1, ], padding='VALID'))\n",
    "\n",
    "        conv_f2 = tf.Variable(tf.random_normal([1, 3, 32, 64], stddev=0.01))\n",
    "        conv_l2 = tf.nn.relu(tf.nn.conv2d(conv_l1, filter=conv_f2, strides=[1, 1, 1, 1, ], padding='VALID'))\n",
    "        \n",
    "        conv_f3 = tf.Variable(tf.random_normal([1, 3, 64, 256], stddev=0.01))\n",
    "        conv_l3 = tf.nn.relu(tf.nn.conv2d(conv_l2, filter=conv_f3, strides=[1, 1, 1, 1, ], padding='VALID'))\n",
    "        \n",
    "        ########### input: x_emb_4d\n",
    "\n",
    "        self.text_vec = tf.reshape(conv_l3, [-1, 256])\n",
    "        dense_1 = Dense(128, dtype=tf.float32, name='dense_1')\n",
    "        layer_1 = tf.nn.tanh(dense_1(self.text_vec))\n",
    "\n",
    "        self.out_layer = Dense(self.vocab_size, dtype=tf.float32, name='out_layer')\n",
    "        self.word_prob = tf.nn.softmax(self.out_layer(layer_1))\n",
    "\n",
    "        self.out_y = tf.argmax(self.word_prob, 1)\n",
    "\n",
    "    def build_loss(self):\n",
    "        self.cross_entropy = -tf.reduce_sum(\n",
    "            tf.one_hot(tf.to_int32(tf.reshape(self.y, [-1])), self.vocab_size, 1.0, 0.0)\n",
    "            * tf.log(tf.clip_by_value(tf.reshape(self.word_prob, [-1, self.vocab_size]), 1e-20, 1.0)), 1)\n",
    "        self.loss = tf.reduce_sum(self.cross_entropy * self.mask) / (tf.reduce_sum(self.mask) + 1e-10)\n",
    "\n",
    "    def build_opt(self):\n",
    "        # define optimizer\n",
    "        optimizer = tf.train.AdamOptimizer(learning_rate=self.learning_rate)\n",
    "        grad, var = zip(*optimizer.compute_gradients(self.loss))\n",
    "\n",
    "        # gradient clipping\n",
    "        def clipped_grad(grad):\n",
    "            return [None if g is None else tf.clip_by_norm(g, 2.5) for g in grad]\n",
    "\n",
    "        if self.use_clip:\n",
    "            grad = clipped_grad(grad)\n",
    "\n",
    "        self.update = optimizer.apply_gradients(zip(grad, var))\n",
    "\n",
    "    def leaky_relu(self, x):\n",
    "        return tf.maximum((x), 0.1*(x))\n",
    "\n",
    "    def get_var(self, name='', shape=None, dtype=tf.float32):\n",
    "        return tf.get_variable(name, shape, dtype=dtype, initializer=self.initializer)\n",
    "\n",
    "\n",
    "    def save(self, sess, global_step=None):\n",
    "        var_list = [var for var in tf.all_variables()]\n",
    "        saver = tf.train.Saver(var_list)\n",
    "        save_path = saver.save(sess, save_path=\"models/cnn\", global_step=global_step)\n",
    "        print(' * model saved at \\'{}\\''.format(save_path))\n",
    "\n",
    "    # Load whole weights\n",
    "    def restore(self, sess):\n",
    "        print(' - Restoring variables...')\n",
    "        var_list = [var for var in tf.all_variables()]\n",
    "        saver = tf.train.Saver(var_list)\n",
    "        saver.restore(sess, \"models/cnn\")\n",
    "        print(' * model restored ')"
   ]
  },
  {
   "cell_type": "code",
   "execution_count": null,
   "metadata": {},
   "outputs": [],
   "source": []
  }
 ],
 "metadata": {
  "kernelspec": {
   "display_name": "Python 3",
   "language": "python",
   "name": "python3"
  },
  "language_info": {
   "codemirror_mode": {
    "name": "ipython",
    "version": 3
   },
   "file_extension": ".py",
   "mimetype": "text/x-python",
   "name": "python",
   "nbconvert_exporter": "python",
   "pygments_lexer": "ipython3",
   "version": "3.6.4"
  }
 },
 "nbformat": 4,
 "nbformat_minor": 2
}
