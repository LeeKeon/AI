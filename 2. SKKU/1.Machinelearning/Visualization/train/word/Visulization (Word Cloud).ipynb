{
 "cells": [
  {
   "cell_type": "code",
   "execution_count": 1,
   "metadata": {},
   "outputs": [],
   "source": [
    "import pandas as pd # 필요 라이브러리 불러오기\n",
    "from collections import Counter\n",
    "import pytagcloud"
   ]
  },
  {
   "cell_type": "code",
   "execution_count": 2,
   "metadata": {},
   "outputs": [],
   "source": [
    "# 데이터 불러오기\n",
    "news = pd.read_csv(\"./ai_news_keyword_2013.CSV\", engine='python')\n",
    "news = news['키워드'] # 키워드 추출\n",
    "news = news.values.tolist()"
   ]
  },
  {
   "cell_type": "code",
   "execution_count": 9,
   "metadata": {},
   "outputs": [],
   "source": [
    "keywords = []\n",
    "for n in news:\n",
    "    keywords = keywords + n.split(',')"
   ]
  },
  {
   "cell_type": "code",
   "execution_count": 6,
   "metadata": {},
   "outputs": [],
   "source": [
    "count = Counter(keywords) # 각 단어 별 개수 계산하기\n",
    "tags = count.most_common(200) # 상위 200개 추출\n",
    "\n",
    "taglist = pytagcloud.make_tags(tags, maxsize=60) # wordcloud 만들기\n",
    "pytagcloud.create_tag_image(taglist, 'wordcloud.jpg', fontname='Malgun Gothic', rectangular=False)"
   ]
  },
  {
   "cell_type": "code",
   "execution_count": null,
   "metadata": {},
   "outputs": [],
   "source": []
  }
 ],
 "metadata": {
  "kernelspec": {
   "display_name": "Python 3",
   "language": "python",
   "name": "python3"
  },
  "language_info": {
   "codemirror_mode": {
    "name": "ipython",
    "version": 3
   },
   "file_extension": ".py",
   "mimetype": "text/x-python",
   "name": "python",
   "nbconvert_exporter": "python",
   "pygments_lexer": "ipython3",
   "version": "3.6.4"
  }
 },
 "nbformat": 4,
 "nbformat_minor": 2
}
