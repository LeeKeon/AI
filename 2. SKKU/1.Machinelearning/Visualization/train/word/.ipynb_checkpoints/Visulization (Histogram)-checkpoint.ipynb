{
 "cells": [
  {
   "cell_type": "code",
   "execution_count": 2,
   "metadata": {},
   "outputs": [],
   "source": [
    "import pandas as pd # 필요 라이브러리 불러오기\n",
    "import plotly\n",
    "import plotly.graph_objs as go\n",
    "from collections import Counter"
   ]
  },
  {
   "cell_type": "code",
   "execution_count": 3,
   "metadata": {},
   "outputs": [],
   "source": [
    "news = pd.read_csv(\"./ai_news_keyword_2013.CSV\", engine='python') # 데이터 불러오기\n",
    "news = news['키워드'] # 키워드 추출\n",
    "news = news.values.tolist()"
   ]
  },
  {
   "cell_type": "code",
   "execution_count": 7,
   "metadata": {},
   "outputs": [],
   "source": [
    "keywords = []\n",
    "for n in news:\n",
    "    keywords = keywords + n.split(',')\n",
    "\n",
    "keyword_counts = Counter(keywords) # 각 단어 별 개수 계산하기\n",
    "keywords_top100 = keyword_counts.most_common(100) # 상위 100개 추출"
   ]
  },
  {
   "cell_type": "code",
   "execution_count": 6,
   "metadata": {},
   "outputs": [
    {
     "data": {
      "text/plain": [
       "'file://C:\\\\Users\\\\user19\\\\Tidus\\\\Visualization\\\\train\\\\word\\\\doc-histogram.html'"
      ]
     },
     "execution_count": 6,
     "metadata": {},
     "output_type": "execute_result"
    }
   ],
   "source": [
    "word = []\n",
    "counts = []\n",
    "for key in keywords_top100:\n",
    "    word.append(key[0])\n",
    "    counts.append(key[1])\n",
    "\n",
    "data = [go.Bar(x=word, # histogram 만들기\n",
    "               y=counts)]\n",
    "\n",
    "filename = 'doc-histogram'\n",
    "plotly.offline.plot(data, filename=filename + '.html') # 만들어진 histogram 저장"
   ]
  },
  {
   "cell_type": "code",
   "execution_count": null,
   "metadata": {},
   "outputs": [],
   "source": []
  }
 ],
 "metadata": {
  "kernelspec": {
   "display_name": "Python 3",
   "language": "python",
   "name": "python3"
  },
  "language_info": {
   "codemirror_mode": {
    "name": "ipython",
    "version": 3
   },
   "file_extension": ".py",
   "mimetype": "text/x-python",
   "name": "python",
   "nbconvert_exporter": "python",
   "pygments_lexer": "ipython3",
   "version": "3.6.4"
  }
 },
 "nbformat": 4,
 "nbformat_minor": 2
}
