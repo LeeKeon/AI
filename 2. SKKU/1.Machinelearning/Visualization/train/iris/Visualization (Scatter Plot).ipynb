{
 "cells": [
  {
   "cell_type": "code",
   "execution_count": 4,
   "metadata": {},
   "outputs": [],
   "source": [
    "import pandas as pd # 필요 라이브러리 불러오기\n",
    "import plotly\n",
    "import plotly.graph_objs as go\n"
   ]
  },
  {
   "cell_type": "code",
   "execution_count": 5,
   "metadata": {},
   "outputs": [],
   "source": [
    "iris = pd.read_csv('Iris.csv') # Iris 데이터셋 불러오기\n",
    "features = list(iris) # Iris의 특성 이름 저장\n",
    "features.remove('Species')\n",
    "all_species = ['setosa', 'versicolor', 'virginica'] # Iris의 종류 이름 저장\n",
    "\n",
    "for feature1 in features: # scatter 만들기\n",
    "    for feature2 in features:\n",
    "        if(feature1 == feature2):\n",
    "            continue\n",
    "        data = []\n",
    "        for specie in all_species:\n",
    "            feature1_data = iris[feature1]\n",
    "            feature2_data = iris[feature2]\n",
    "            trace = go.Scatter(\n",
    "                x=feature1_data[iris.Species == specie],\n",
    "                y=feature2_data[iris.Species == specie],\n",
    "                mode='markers', marker=dict(size=14), name=specie )\n",
    "            data.append(trace)\n",
    "        layout = go.Layout(barmode='overlay', # 겹쳐서 그리기\n",
    "            xaxis=dict(title=feature1),\n",
    "            yaxis=dict(title=feature2))\n",
    "        fig = go.Figure(data = data, layout=layout)\n",
    "        filename = 'Iris-scatter-'+feature1+'-'+feature2 # 만들어진 scatter 저장\n",
    "        plotly.offline.plot(fig, filename=filename+'.html', auto_open=False)"
   ]
  },
  {
   "cell_type": "code",
   "execution_count": null,
   "metadata": {},
   "outputs": [],
   "source": []
  }
 ],
 "metadata": {
  "kernelspec": {
   "display_name": "Python 3",
   "language": "python",
   "name": "python3"
  },
  "language_info": {
   "codemirror_mode": {
    "name": "ipython",
    "version": 3
   },
   "file_extension": ".py",
   "mimetype": "text/x-python",
   "name": "python",
   "nbconvert_exporter": "python",
   "pygments_lexer": "ipython3",
   "version": "3.6.4"
  }
 },
 "nbformat": 4,
 "nbformat_minor": 2
}
