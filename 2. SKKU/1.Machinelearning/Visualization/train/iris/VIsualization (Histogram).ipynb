{
 "cells": [
  {
   "cell_type": "code",
   "execution_count": 1,
   "metadata": {},
   "outputs": [],
   "source": [
    "import pandas as pd # 필요 라이브러리 불러오기\n",
    "import plotly\n",
    "import plotly.graph_objs as go"
   ]
  },
  {
   "cell_type": "code",
   "execution_count": 3,
   "metadata": {},
   "outputs": [
    {
     "data": {
      "text/plain": [
       "['SepalLength', 'SepalWidth', 'PetalLength', 'PetalWidth', 'Species']"
      ]
     },
     "execution_count": 3,
     "metadata": {},
     "output_type": "execute_result"
    }
   ],
   "source": [
    "iris = pd.read_csv('Iris.csv') # Iris 데이터셋 불러오기\n",
    "features = list(iris) # Iris의 특성 이름 저장"
   ]
  },
  {
   "cell_type": "code",
   "execution_count": 4,
   "metadata": {},
   "outputs": [],
   "source": [
    "features.remove('Species')\n",
    "all_species = ['setosa', 'versicolor', 'virginica'] # Iris의 종류 이름 저장"
   ]
  },
  {
   "cell_type": "code",
   "execution_count": 5,
   "metadata": {},
   "outputs": [],
   "source": [
    "for feature in features: # histogram 만들기\n",
    "    data = []\n",
    "    for species in all_species:\n",
    "        feature_data = iris[feature]\n",
    "        trace = go.Histogram(\n",
    "            x=feature_data[iris.Species == species],\n",
    "            opacity=0.75, # 투명도\n",
    "            name=species)\n",
    "        data.append(trace)\n",
    "    layout = go.Layout(\n",
    "        barmode='overlay', # 겹쳐서 그리기\n",
    "        xaxis=dict(title=feature+'(CM)'),\n",
    "        yaxis=dict(title='Count'))\n",
    "    fig = go.Figure(data = data, layout=layout)\n",
    "    filename = 'Iris-histogram-'+feature\n",
    "    \n",
    "    plotly.offline.plot(fig, filename=filename+'.html') # 만들어진 histogram 저장"
   ]
  },
  {
   "cell_type": "code",
   "execution_count": null,
   "metadata": {},
   "outputs": [],
   "source": []
  }
 ],
 "metadata": {
  "kernelspec": {
   "display_name": "Python 3",
   "language": "python",
   "name": "python3"
  },
  "language_info": {
   "codemirror_mode": {
    "name": "ipython",
    "version": 3
   },
   "file_extension": ".py",
   "mimetype": "text/x-python",
   "name": "python",
   "nbconvert_exporter": "python",
   "pygments_lexer": "ipython3",
   "version": "3.6.4"
  }
 },
 "nbformat": 4,
 "nbformat_minor": 2
}
