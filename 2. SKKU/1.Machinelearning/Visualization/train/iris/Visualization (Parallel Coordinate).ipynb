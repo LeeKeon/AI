{
 "cells": [
  {
   "cell_type": "code",
   "execution_count": 1,
   "metadata": {},
   "outputs": [],
   "source": [
    "import pandas as pd # 필요 라이브러리 불러오기\n",
    "import plotly\n",
    "import plotly.graph_objs as go"
   ]
  },
  {
   "cell_type": "code",
   "execution_count": 2,
   "metadata": {},
   "outputs": [],
   "source": [
    "iris = pd.read_csv('Iris.csv') # Iris 데이터셋 불러오기\n",
    "features = list(iris) # Iris의 컬럼 이름 저장\n",
    "label = [] # Iris종류를 문자에서 숫자로 바꾸어 저장\n",
    "for feature in iris[features[4]]:\n",
    "    if(feature == 'setosa'):\n",
    "        label.append(1)\n",
    "    elif (feature == 'versicolor'):\n",
    "        label.append(2)\n",
    "    elif (feature == 'virginica'):\n",
    "        label.append(3)"
   ]
  },
  {
   "cell_type": "code",
   "execution_count": 3,
   "metadata": {},
   "outputs": [
    {
     "data": {
      "text/plain": [
       "'file://C:\\\\Users\\\\user19\\\\Tidus\\\\Iris-PC.html'"
      ]
     },
     "execution_count": 3,
     "metadata": {},
     "output_type": "execute_result"
    }
   ],
   "source": [
    "pc = go.Parcoords( # PC 만들기\n",
    "        line = dict(color = 'blue'),\n",
    "        dimensions = list([\n",
    "            dict(range = [1,3],\n",
    "                tickvals = [1,2,3],\n",
    "                label = features[4], values = label,\n",
    "                ticktext = ['setosa', 'versicolor', 'virginica']),\n",
    "            dict(label = features[0], values = iris[features[0]]),\n",
    "            dict(label = features[1], values = iris[features[1]]),\n",
    "            dict(label = features[2], values = iris[features[2]]),\n",
    "            dict(label = features[3], values = iris[features[3]])]))\n",
    "plotly.offline.plot([pc], filename='Iris-PC.html')"
   ]
  },
  {
   "cell_type": "code",
   "execution_count": null,
   "metadata": {},
   "outputs": [],
   "source": []
  }
 ],
 "metadata": {
  "kernelspec": {
   "display_name": "Python 3",
   "language": "python",
   "name": "python3"
  },
  "language_info": {
   "codemirror_mode": {
    "name": "ipython",
    "version": 3
   },
   "file_extension": ".py",
   "mimetype": "text/x-python",
   "name": "python",
   "nbconvert_exporter": "python",
   "pygments_lexer": "ipython3",
   "version": "3.6.4"
  }
 },
 "nbformat": 4,
 "nbformat_minor": 2
}
