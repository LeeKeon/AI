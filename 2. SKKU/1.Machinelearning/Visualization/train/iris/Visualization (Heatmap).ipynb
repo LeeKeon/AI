{
 "cells": [
  {
   "cell_type": "code",
   "execution_count": 1,
   "metadata": {},
   "outputs": [
    {
     "data": {
      "text/plain": [
       "'file://C:\\\\Users\\\\user19\\\\Tidus\\\\Iris-heatmap.html'"
      ]
     },
     "execution_count": 1,
     "metadata": {},
     "output_type": "execute_result"
    }
   ],
   "source": [
    "import pandas as pd # 필요 라이브러리 불러오기\n",
    "import plotly\n",
    "import plotly.graph_objs as go"
   ]
  },
  {
   "cell_type": "code",
   "execution_count": 4,
   "metadata": {},
   "outputs": [
    {
     "data": {
      "text/plain": [
       "'file://C:\\\\Users\\\\user19\\\\Tidus\\\\Iris-heatmap.html'"
      ]
     },
     "execution_count": 4,
     "metadata": {},
     "output_type": "execute_result"
    }
   ],
   "source": [
    "iris = pd.read_csv('Iris.csv') # Iris 데이터셋 불러오기\n",
    "\n",
    "# Iris의 특성 이름 저장\n",
    "features = list(iris.corr())\n",
    "\n",
    "# 특성들의 상관관계 테이블 저장\n",
    "table = iris.corr().values.tolist()\n",
    "\n",
    "# heatmap 만들기\n",
    "heatmap = go.Heatmap(z=table,\n",
    "                    x=features,\n",
    "                    y=features)\n",
    "data=[heatmap]\n",
    "\n",
    "# 만들어진 heatmap 저장\n",
    "filename = 'Iris-heatmap'\n",
    "plotly.offline.plot(data, filename=filename + '.html')"
   ]
  },
  {
   "cell_type": "code",
   "execution_count": null,
   "metadata": {},
   "outputs": [],
   "source": []
  }
 ],
 "metadata": {
  "kernelspec": {
   "display_name": "Python 3",
   "language": "python",
   "name": "python3"
  },
  "language_info": {
   "codemirror_mode": {
    "name": "ipython",
    "version": 3
   },
   "file_extension": ".py",
   "mimetype": "text/x-python",
   "name": "python",
   "nbconvert_exporter": "python",
   "pygments_lexer": "ipython3",
   "version": "3.6.4"
  }
 },
 "nbformat": 4,
 "nbformat_minor": 2
}
