{
 "cells": [
  {
   "cell_type": "code",
   "execution_count": 2,
   "metadata": {},
   "outputs": [],
   "source": [
    "import pandas as pd\n",
    "import numpy as np\n",
    "from sklearn.linear_model import LogisticRegression\n",
    "from sklearn.metrics import mean_squared_error\n",
    "import math\n",
    "import matplotlib.pyplot as plt\n",
    "from sklearn.metrics import accuracy_score"
   ]
  },
  {
   "cell_type": "code",
   "execution_count": 3,
   "metadata": {},
   "outputs": [],
   "source": [
    "train_input = pd.read_csv('PersonalLoan_train.csv')\n",
    "test_input = pd.read_csv('PersonalLoan_test.csv')"
   ]
  },
  {
   "cell_type": "code",
   "execution_count": 4,
   "metadata": {},
   "outputs": [],
   "source": [
    "x_train = np.array(train_input.iloc[:, [1, 2, 3, 4, 5, 6,7, 8, 10, 11, 12, 13]])\n",
    "#y_train = np.array(train_input.iloc[:, -1])\n",
    "y_train = np.array(train_input['Personal Loan'])\n",
    "\n",
    "x_test = np.array(test_input.iloc[:, [1, 2, 3, 4, 5, 6,7, 8, 10, 11, 12, 13]])\n",
    "#y_test = np.array(test_input.iloc[:, -1])\n",
    "y_test = np.array(test_input['Personal Loan'])"
   ]
  },
  {
   "cell_type": "code",
   "execution_count": 55,
   "metadata": {},
   "outputs": [
    {
     "name": "stderr",
     "output_type": "stream",
     "text": [
      "C:\\Users\\user19\\Anaconda3\\lib\\site-packages\\scipy\\optimize\\linesearch.py:462: LineSearchWarning: The line search algorithm did not converge\n",
      "  warn('The line search algorithm did not converge', LineSearchWarning)\n",
      "C:\\Users\\user19\\Anaconda3\\lib\\site-packages\\scipy\\optimize\\linesearch.py:313: LineSearchWarning: The line search algorithm did not converge\n",
      "  warn('The line search algorithm did not converge', LineSearchWarning)\n",
      "C:\\Users\\user19\\Anaconda3\\lib\\site-packages\\scipy\\optimize\\linesearch.py:422: LineSearchWarning: Rounding errors prevent the line search from converging\n",
      "  warn(msg, LineSearchWarning)\n",
      "C:\\Users\\user19\\Anaconda3\\lib\\site-packages\\sklearn\\utils\\optimize.py:195: UserWarning: Line Search failed\n",
      "  warnings.warn('Line Search failed')\n"
     ]
    }
   ],
   "source": [
    "model = LogisticRegression(C=100.0, solver='newton-cg',multi_class='ovr', max_iter=5000) # 모델 정의\n",
    "\n",
    "model.fit(x_train, y_train) # 모델 학습\n",
    "pred = model.predict(x_test) "
   ]
  },
  {
   "cell_type": "code",
   "execution_count": 56,
   "metadata": {},
   "outputs": [
    {
     "name": "stdout",
     "output_type": "stream",
     "text": [
      "0.204939\n"
     ]
    }
   ],
   "source": [
    "rmse = math.sqrt(mean_squared_error(pred, y_test))\n",
    "print(\"%.6f\" % rmse)"
   ]
  },
  {
   "cell_type": "code",
   "execution_count": 57,
   "metadata": {},
   "outputs": [
    {
     "name": "stdout",
     "output_type": "stream",
     "text": [
      "0.958000\n"
     ]
    }
   ],
   "source": [
    "print(\"%.6f\" % accuracy_score(y_true=y_test,y_pred=pred))"
   ]
  },
  {
   "cell_type": "code",
   "execution_count": 61,
   "metadata": {},
   "outputs": [
    {
     "name": "stdout",
     "output_type": "stream",
     "text": [
      "63 - y_test 0 y_pred : 1\n",
      "93 - y_test 1 y_pred : 0\n",
      "104 - y_test 0 y_pred : 1\n",
      "106 - y_test 1 y_pred : 0\n",
      "115 - y_test 1 y_pred : 0\n",
      "128 - y_test 1 y_pred : 0\n",
      "159 - y_test 1 y_pred : 0\n",
      "168 - y_test 1 y_pred : 0\n",
      "178 - y_test 1 y_pred : 0\n",
      "187 - y_test 0 y_pred : 1\n",
      "191 - y_test 1 y_pred : 0\n",
      "192 - y_test 1 y_pred : 0\n",
      "202 - y_test 1 y_pred : 0\n",
      "229 - y_test 0 y_pred : 1\n",
      "254 - y_test 0 y_pred : 1\n",
      "259 - y_test 1 y_pred : 0\n",
      "325 - y_test 1 y_pred : 0\n",
      "406 - y_test 1 y_pred : 0\n",
      "484 - y_test 1 y_pred : 0\n",
      "490 - y_test 0 y_pred : 1\n",
      "498 - y_test 0 y_pred : 1\n"
     ]
    }
   ],
   "source": [
    "step = len(y_test)\n",
    "count = 0\n",
    "for i in range(step):\n",
    "    if y_test[i] != pred[i]:\n",
    "        print(str(i) + \" - y_test \" + str(y_test[i]) + \" y_pred : \" + str(pred[i]))\n",
    "        count = count + 1"
   ]
  },
  {
   "cell_type": "code",
   "execution_count": 16,
   "metadata": {},
   "outputs": [
    {
     "name": "stdout",
     "output_type": "stream",
     "text": [
      "total : 500 diff : 21\n"
     ]
    }
   ],
   "source": [
    "print(\"total : \" + str(step) + \" diff : \" + str(count))"
   ]
  },
  {
   "cell_type": "code",
   "execution_count": null,
   "metadata": {},
   "outputs": [],
   "source": []
  }
 ],
 "metadata": {
  "kernelspec": {
   "display_name": "Python 3",
   "language": "python",
   "name": "python3"
  },
  "language_info": {
   "codemirror_mode": {
    "name": "ipython",
    "version": 3
   },
   "file_extension": ".py",
   "mimetype": "text/x-python",
   "name": "python",
   "nbconvert_exporter": "python",
   "pygments_lexer": "ipython3",
   "version": "3.6.4"
  }
 },
 "nbformat": 4,
 "nbformat_minor": 2
}
