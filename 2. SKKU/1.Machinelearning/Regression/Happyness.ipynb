{
 "cells": [
  {
   "cell_type": "code",
   "execution_count": 14,
   "metadata": {},
   "outputs": [],
   "source": [
    "import pandas as pd\n",
    "import numpy as np\n",
    "from sklearn.linear_model import LinearRegression\n",
    "from sklearn.metrics import mean_squared_error\n",
    "import math"
   ]
  },
  {
   "cell_type": "code",
   "execution_count": 7,
   "metadata": {},
   "outputs": [],
   "source": [
    "train_input = pd.read_csv('Happiness_train.csv')\n",
    "test_input = pd.read_csv('Happiness_test.csv')"
   ]
  },
  {
   "cell_type": "code",
   "execution_count": 22,
   "metadata": {},
   "outputs": [],
   "source": [
    "#features = ['Economy', 'Family', 'Health', 'Freedom', 'Trust', 'Generosity', 'Dystopia']\n",
    "features = ['Economy']\n",
    "\n",
    "x_train = np.array(train_input[features])\n",
    "y_train = np.array(train_input['Happiness Score'])\n",
    "x_test = np.array(test_input[features])\n",
    "y_test = np.array(test_input['Happiness Score'])"
   ]
  },
  {
   "cell_type": "code",
   "execution_count": 23,
   "metadata": {},
   "outputs": [
    {
     "name": "stdout",
     "output_type": "stream",
     "text": [
      "             Country                           Region  Happiness Rank  \\\n",
      "0            Ukraine       Central and Eastern Europe             123   \n",
      "1  Somaliland Region               Sub-Saharan Africa              97   \n",
      "2               Iran  Middle East and Northern Africa             105   \n",
      "3           Tanzania               Sub-Saharan Africa             149   \n",
      "4             Zambia               Sub-Saharan Africa             106   \n",
      "\n",
      "   Happiness Score  Lower Confidence Interval  Upper Confidence Interval  \\\n",
      "0            4.324                      4.236                      4.412   \n",
      "1            5.057                      4.934                      5.180   \n",
      "2            4.813                      4.703                      4.923   \n",
      "3            3.666                      3.561                      3.771   \n",
      "4            4.795                      4.645                      4.945   \n",
      "\n",
      "   Economy   Family   Health  Freedom    Trust  Generosity  Dystopia  \n",
      "0  0.87287  1.01413  0.58628  0.12859  0.01829     0.20363   1.50066  \n",
      "1  0.25558  0.75862  0.33108  0.39130  0.36794     0.51479   2.43801  \n",
      "2  1.11758  0.38857  0.64232  0.22544  0.05570     0.38538   1.99817  \n",
      "3  0.47155  0.77623  0.35700  0.31760  0.05099     0.31472   1.37769  \n",
      "4  0.61202  0.63760  0.23573  0.42662  0.11479     0.17866   2.58991  \n"
     ]
    }
   ],
   "source": [
    "print(train_input.head())"
   ]
  },
  {
   "cell_type": "code",
   "execution_count": 24,
   "metadata": {},
   "outputs": [],
   "source": [
    "model = LinearRegression(fit_intercept=False) # 모델 정의\n",
    "model.fit(x_train, y_train) # 모델 학습\n",
    "pred = model.predict(x_test) # 모델 예측"
   ]
  },
  {
   "cell_type": "code",
   "execution_count": 25,
   "metadata": {},
   "outputs": [
    {
     "name": "stdout",
     "output_type": "stream",
     "text": [
      "1.297793\n"
     ]
    }
   ],
   "source": [
    "rmse = math.sqrt(mean_squared_error(pred, y_test))\n",
    "print(\"%.6f\" % rmse)"
   ]
  },
  {
   "cell_type": "code",
   "execution_count": 26,
   "metadata": {},
   "outputs": [
    {
     "name": "stdout",
     "output_type": "stream",
     "text": [
      "weights: [5.106273]\n",
      "intercept: 0.0\n"
     ]
    }
   ],
   "source": [
    "print(\"weights:\", model.coef_) # 변수 별 가중치\n",
    "print(\"intercept:\", model.intercept_) # 편향"
   ]
  },
  {
   "cell_type": "code",
   "execution_count": 27,
   "metadata": {},
   "outputs": [
    {
     "name": "stdout",
     "output_type": "stream",
     "text": [
      "example: [1.24585]\n",
      "calculation: 6.361650218304298\n",
      "prediction: 6.361650218304298\n",
      "y value: 5.835\n"
     ]
    }
   ],
   "source": [
    "example = x_test[0]\n",
    "print(\"example:\", example)\n",
    "print(\"calculation:\", np.dot(example, model.coef_) + model.intercept_) # 예측값 직접 계산\n",
    "print(\"prediction:\", pred[0]) \n",
    "print(\"y value:\", y_test[0]) "
   ]
  },
  {
   "cell_type": "code",
   "execution_count": null,
   "metadata": {},
   "outputs": [],
   "source": []
  }
 ],
 "metadata": {
  "kernelspec": {
   "display_name": "Python 3",
   "language": "python",
   "name": "python3"
  },
  "language_info": {
   "codemirror_mode": {
    "name": "ipython",
    "version": 3
   },
   "file_extension": ".py",
   "mimetype": "text/x-python",
   "name": "python",
   "nbconvert_exporter": "python",
   "pygments_lexer": "ipython3",
   "version": "3.6.4"
  }
 },
 "nbformat": 4,
 "nbformat_minor": 2
}
