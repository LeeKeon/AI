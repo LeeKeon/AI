{
 "cells": [
  {
   "cell_type": "code",
   "execution_count": 17,
   "metadata": {},
   "outputs": [],
   "source": [
    "import pandas as pd\n",
    "import numpy as np\n",
    "from sklearn.linear_model import LogisticRegression\n",
    "from sklearn.metrics import mean_squared_error\n",
    "import math\n",
    "import matplotlib.pyplot as plt\n",
    "from sklearn.metrics import accuracy_score"
   ]
  },
  {
   "cell_type": "code",
   "execution_count": 3,
   "metadata": {},
   "outputs": [],
   "source": [
    "train_input = pd.read_csv('WineQuality_train.csv')\n",
    "test_input = pd.read_csv('WineQuality_test.csv')"
   ]
  },
  {
   "cell_type": "code",
   "execution_count": 13,
   "metadata": {},
   "outputs": [],
   "source": [
    "x_train = np.array(train_input.iloc[:, :-1])\n",
    "#y_train = np.array(train_input.iloc[:, -1])\n",
    "y_train = np.array(train_input['quality'])\n",
    "\n",
    "x_test = np.array(test_input.iloc[:, :-1])\n",
    "#y_test = np.array(test_input.iloc[:, -1])\n",
    "y_test = np.array(test_input['quality'])"
   ]
  },
  {
   "cell_type": "code",
   "execution_count": 14,
   "metadata": {},
   "outputs": [],
   "source": [
    "model = LogisticRegression(C=1000.0, solver='newton-cg',\n",
    "multi_class='multinomial', max_iter=500) # 모델 정의\n",
    "model.fit(x_train, y_train) # 모델 학습\n",
    "pred = model.predict(x_test) "
   ]
  },
  {
   "cell_type": "code",
   "execution_count": 15,
   "metadata": {},
   "outputs": [
    {
     "name": "stdout",
     "output_type": "stream",
     "text": [
      "0.674200\n"
     ]
    }
   ],
   "source": [
    "rmse = math.sqrt(mean_squared_error(pred, y_test))\n",
    "print(\"%.6f\" % rmse)"
   ]
  },
  {
   "cell_type": "code",
   "execution_count": 18,
   "metadata": {},
   "outputs": [
    {
     "name": "stdout",
     "output_type": "stream",
     "text": [
      "0.626959\n"
     ]
    }
   ],
   "source": [
    "print(\"%.6f\" % accuracy_score(y_true=y_test,y_pred=pred))"
   ]
  },
  {
   "cell_type": "code",
   "execution_count": 31,
   "metadata": {},
   "outputs": [
    {
     "name": "stdout",
     "output_type": "stream",
     "text": [
      "y_test 6 y_pred : 5\n",
      "y_test 6 y_pred : 5\n",
      "y_test 5 y_pred : 6\n",
      "y_test 7 y_pred : 6\n",
      "y_test 5 y_pred : 6\n",
      "y_test 5 y_pred : 6\n",
      "y_test 8 y_pred : 7\n",
      "y_test 7 y_pred : 6\n",
      "y_test 4 y_pred : 5\n",
      "y_test 5 y_pred : 6\n",
      "y_test 6 y_pred : 5\n",
      "y_test 5 y_pred : 6\n",
      "y_test 5 y_pred : 6\n",
      "y_test 5 y_pred : 6\n",
      "y_test 5 y_pred : 3\n",
      "y_test 6 y_pred : 5\n",
      "y_test 5 y_pred : 6\n",
      "y_test 6 y_pred : 7\n",
      "y_test 6 y_pred : 5\n",
      "y_test 6 y_pred : 5\n",
      "y_test 6 y_pred : 5\n",
      "y_test 5 y_pred : 6\n",
      "y_test 5 y_pred : 6\n",
      "y_test 6 y_pred : 5\n",
      "y_test 7 y_pred : 6\n",
      "y_test 7 y_pred : 6\n",
      "y_test 4 y_pred : 5\n",
      "y_test 6 y_pred : 5\n",
      "y_test 5 y_pred : 6\n",
      "y_test 4 y_pred : 5\n",
      "y_test 7 y_pred : 6\n",
      "y_test 7 y_pred : 6\n",
      "y_test 5 y_pred : 6\n",
      "y_test 6 y_pred : 5\n",
      "y_test 6 y_pred : 5\n",
      "y_test 6 y_pred : 5\n",
      "y_test 7 y_pred : 6\n",
      "y_test 5 y_pred : 6\n",
      "y_test 5 y_pred : 6\n",
      "y_test 4 y_pred : 6\n",
      "y_test 5 y_pred : 6\n",
      "y_test 6 y_pred : 5\n",
      "y_test 6 y_pred : 7\n",
      "y_test 7 y_pred : 6\n",
      "y_test 7 y_pred : 6\n",
      "y_test 7 y_pred : 6\n",
      "y_test 5 y_pred : 6\n",
      "y_test 6 y_pred : 7\n",
      "y_test 8 y_pred : 7\n",
      "y_test 6 y_pred : 7\n",
      "y_test 5 y_pred : 6\n",
      "y_test 6 y_pred : 7\n",
      "y_test 4 y_pred : 5\n",
      "y_test 5 y_pred : 6\n",
      "y_test 7 y_pred : 6\n",
      "y_test 5 y_pred : 6\n",
      "y_test 6 y_pred : 5\n",
      "y_test 5 y_pred : 6\n",
      "y_test 7 y_pred : 6\n",
      "y_test 6 y_pred : 5\n",
      "y_test 6 y_pred : 5\n",
      "y_test 6 y_pred : 5\n",
      "y_test 7 y_pred : 6\n",
      "y_test 6 y_pred : 5\n",
      "y_test 6 y_pred : 7\n",
      "y_test 7 y_pred : 6\n",
      "y_test 7 y_pred : 5\n",
      "y_test 5 y_pred : 6\n",
      "y_test 6 y_pred : 5\n",
      "y_test 7 y_pred : 6\n",
      "y_test 7 y_pred : 6\n",
      "y_test 6 y_pred : 5\n",
      "y_test 6 y_pred : 5\n",
      "y_test 6 y_pred : 5\n",
      "y_test 5 y_pred : 6\n",
      "y_test 4 y_pred : 5\n",
      "y_test 5 y_pred : 6\n",
      "y_test 7 y_pred : 6\n",
      "y_test 7 y_pred : 6\n",
      "y_test 4 y_pred : 6\n",
      "y_test 6 y_pred : 5\n",
      "y_test 6 y_pred : 5\n",
      "y_test 5 y_pred : 6\n",
      "y_test 6 y_pred : 5\n",
      "y_test 5 y_pred : 6\n",
      "y_test 6 y_pred : 5\n",
      "y_test 5 y_pred : 6\n",
      "y_test 6 y_pred : 5\n",
      "y_test 7 y_pred : 6\n",
      "y_test 8 y_pred : 6\n",
      "y_test 3 y_pred : 6\n",
      "y_test 6 y_pred : 5\n",
      "y_test 4 y_pred : 5\n",
      "y_test 7 y_pred : 6\n",
      "y_test 7 y_pred : 6\n",
      "y_test 4 y_pred : 5\n",
      "y_test 6 y_pred : 5\n",
      "y_test 6 y_pred : 5\n",
      "y_test 7 y_pred : 6\n",
      "y_test 4 y_pred : 5\n",
      "y_test 7 y_pred : 6\n",
      "y_test 5 y_pred : 6\n",
      "y_test 4 y_pred : 5\n",
      "y_test 6 y_pred : 5\n",
      "y_test 5 y_pred : 6\n",
      "y_test 6 y_pred : 5\n",
      "y_test 7 y_pred : 6\n",
      "y_test 7 y_pred : 6\n",
      "y_test 7 y_pred : 6\n",
      "y_test 7 y_pred : 6\n",
      "y_test 5 y_pred : 6\n",
      "y_test 6 y_pred : 5\n",
      "y_test 5 y_pred : 6\n",
      "y_test 5 y_pred : 6\n",
      "y_test 7 y_pred : 5\n",
      "y_test 6 y_pred : 5\n",
      "y_test 4 y_pred : 5\n",
      "y_test 7 y_pred : 6\n",
      "y_test 7 y_pred : 6\n"
     ]
    }
   ],
   "source": [
    "step = len(y_test)\n",
    "for i in range(step):\n",
    "    if y_test[i] != pred[i]:\n",
    "        print(\"y_test \" + str(y_test[i]) + \" y_pred : \" + str(pred[i]))"
   ]
  },
  {
   "cell_type": "code",
   "execution_count": null,
   "metadata": {},
   "outputs": [],
   "source": []
  }
 ],
 "metadata": {
  "kernelspec": {
   "display_name": "Python 3",
   "language": "python",
   "name": "python3"
  },
  "language_info": {
   "codemirror_mode": {
    "name": "ipython",
    "version": 3
   },
   "file_extension": ".py",
   "mimetype": "text/x-python",
   "name": "python",
   "nbconvert_exporter": "python",
   "pygments_lexer": "ipython3",
   "version": "3.6.4"
  }
 },
 "nbformat": 4,
 "nbformat_minor": 2
}
