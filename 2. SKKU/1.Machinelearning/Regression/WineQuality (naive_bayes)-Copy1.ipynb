{
 "cells": [
  {
   "cell_type": "code",
   "execution_count": 48,
   "metadata": {},
   "outputs": [],
   "source": [
    "import pandas as pd\n",
    "import numpy as np\n",
    "from sklearn.naive_bayes import GaussianNB,MultinomialNB, BernoulliNB\n",
    "from sklearn.feature_extraction.text import TfidfVectorizer\n",
    "from sklearn.metrics import mean_squared_error\n",
    "from sklearn.metrics import precision_score\n",
    "from sklearn.metrics import recall_score\n",
    "from sklearn.metrics import f1_score\n",
    "import math\n",
    "import matplotlib.pyplot as plt\n",
    "from sklearn.metrics import accuracy_score"
   ]
  },
  {
   "cell_type": "code",
   "execution_count": 22,
   "metadata": {},
   "outputs": [],
   "source": [
    "train_input = pd.read_csv('SentimentSentence_train.csv')\n",
    "test_input = pd.read_csv('SentimentSentence_test.csv')"
   ]
  },
  {
   "cell_type": "code",
   "execution_count": 26,
   "metadata": {},
   "outputs": [],
   "source": [
    "x_train = np.array(train_input.iloc[:, 0])\n",
    "y_train = np.array(train_input.iloc[:, 1])\n",
    "\n",
    "\n",
    "x_test = np.array(test_input.iloc[:, 0])\n",
    "y_test = np.array(test_input.iloc[:, 1])"
   ]
  },
  {
   "cell_type": "code",
   "execution_count": 27,
   "metadata": {},
   "outputs": [
    {
     "data": {
      "text/plain": [
       "array([[0., 0., 0., ..., 0., 0., 0.],\n",
       "       [0., 0., 0., ..., 0., 0., 0.],\n",
       "       [0., 0., 0., ..., 0., 0., 0.],\n",
       "       ...,\n",
       "       [0., 0., 0., ..., 0., 0., 0.],\n",
       "       [0., 0., 0., ..., 0., 0., 0.],\n",
       "       [0., 0., 0., ..., 0., 0., 0.]])"
      ]
     },
     "execution_count": 27,
     "metadata": {},
     "output_type": "execute_result"
    }
   ],
   "source": [
    "tfidf = TfidfVectorizer() # Tf-idf 계산 함수\n",
    "tfidf.fit(x_train)\n",
    "x_train = tfidf.transform(x_train).toarray()\n",
    "x_test = tfidf.transform(x_test).toarray()"
   ]
  },
  {
   "cell_type": "code",
   "execution_count": 29,
   "metadata": {},
   "outputs": [
    {
     "data": {
      "text/plain": [
       "(800, 1774)"
      ]
     },
     "execution_count": 29,
     "metadata": {},
     "output_type": "execute_result"
    }
   ],
   "source": [
    "x_train.shape"
   ]
  },
  {
   "cell_type": "code",
   "execution_count": 11,
   "metadata": {},
   "outputs": [],
   "source": [
    "model1 = GaussianNB()\n",
    "model2 = MultinomialNB()\n",
    "model3 = BernoulliNB() \n",
    "model1.fit(x_train, y_train) # 모델 학습\n",
    "pred1 = model1.predict(x_test) # 모델 예측\n",
    "model2.fit(x_train, y_train) # 모델 학습\n",
    "pred2 = model2.predict(x_test) # 모델 예측\n",
    "model3.fit(x_train, y_train) # 모델 학습\n",
    "pred3 = model3.predict(x_test) # 모델 예측"
   ]
  },
  {
   "cell_type": "code",
   "execution_count": 15,
   "metadata": {},
   "outputs": [
    {
     "name": "stdout",
     "output_type": "stream",
     "text": [
      "0.500000\n",
      "0.412311\n",
      "0.430116\n"
     ]
    }
   ],
   "source": [
    "rmse1 = math.sqrt(mean_squared_error(pred1, y_test))\n",
    "rmse2 = math.sqrt(mean_squared_error(pred2, y_test))\n",
    "rmse3 = math.sqrt(mean_squared_error(pred3, y_test))\n",
    "print(\"%.6f\" % rmse1)\n",
    "print(\"%.6f\" % rmse2)\n",
    "print(\"%.6f\" % rmse3)"
   ]
  },
  {
   "cell_type": "code",
   "execution_count": 49,
   "metadata": {},
   "outputs": [
    {
     "name": "stdout",
     "output_type": "stream",
     "text": [
      "0.750000\n",
      "0.830000\n",
      "0.815000\n",
      "0.7295081967213115\n",
      "0.8673469387755102\n",
      "0.822429906542056\n",
      "0.839622641509434\n",
      "0.8018867924528302\n",
      "0.8301886792452831\n",
      "0.7807017543859649\n",
      "0.8333333333333334\n",
      "0.8262910798122067\n"
     ]
    }
   ],
   "source": [
    "print(\"%.6f\" % accuracy_score(y_true=y_test,y_pred=pred1))\n",
    "print(\"%.6f\" % accuracy_score(y_true=y_test,y_pred=pred2))\n",
    "print(\"%.6f\" % accuracy_score(y_true=y_test,y_pred=pred3))\n",
    "\n",
    "print(precision_score(y_true=y_test, y_pred=pred1,average='binary'))\n",
    "print(precision_score(y_true=y_test, y_pred=pred2,average='binary'))\n",
    "print(precision_score(y_true=y_test, y_pred=pred3,average='binary'))\n",
    "\n",
    "print(recall_score(y_true=y_test, y_pred=pred1, average='binary'))\n",
    "print(recall_score(y_true=y_test, y_pred=pred2, average='binary'))\n",
    "print(recall_score(y_true=y_test, y_pred=pred3, average='binary'))\n",
    "\n",
    "print(f1_score(y_true=y_test, y_pred=pred1, average='binary'))\n",
    "print(f1_score(y_true=y_test, y_pred=pred2, average='binary'))\n",
    "print(f1_score(y_true=y_test, y_pred=pred3, average='binary'))\n"
   ]
  },
  {
   "cell_type": "code",
   "execution_count": 31,
   "metadata": {
    "scrolled": true
   },
   "outputs": [
    {
     "name": "stdout",
     "output_type": "stream",
     "text": [
      "2 - y_test 1 y_pred : 0\n",
      "11 - y_test 0 y_pred : 1\n",
      "18 - y_test 0 y_pred : 1\n",
      "25 - y_test 0 y_pred : 1\n",
      "28 - y_test 0 y_pred : 1\n",
      "29 - y_test 0 y_pred : 1\n",
      "30 - y_test 0 y_pred : 1\n",
      "32 - y_test 0 y_pred : 1\n",
      "34 - y_test 1 y_pred : 0\n",
      "36 - y_test 1 y_pred : 0\n",
      "43 - y_test 1 y_pred : 0\n",
      "47 - y_test 0 y_pred : 1\n",
      "48 - y_test 0 y_pred : 1\n",
      "51 - y_test 0 y_pred : 1\n",
      "54 - y_test 0 y_pred : 1\n",
      "56 - y_test 0 y_pred : 1\n",
      "59 - y_test 0 y_pred : 1\n",
      "71 - y_test 0 y_pred : 1\n",
      "72 - y_test 0 y_pred : 1\n",
      "74 - y_test 1 y_pred : 0\n",
      "77 - y_test 1 y_pred : 0\n",
      "78 - y_test 0 y_pred : 1\n",
      "83 - y_test 0 y_pred : 1\n",
      "99 - y_test 0 y_pred : 1\n",
      "101 - y_test 1 y_pred : 0\n",
      "110 - y_test 0 y_pred : 1\n",
      "126 - y_test 0 y_pred : 1\n",
      "128 - y_test 1 y_pred : 0\n",
      "138 - y_test 0 y_pred : 1\n",
      "140 - y_test 0 y_pred : 1\n",
      "141 - y_test 1 y_pred : 0\n",
      "142 - y_test 0 y_pred : 1\n",
      "145 - y_test 0 y_pred : 1\n",
      "149 - y_test 1 y_pred : 0\n",
      "153 - y_test 0 y_pred : 1\n",
      "155 - y_test 0 y_pred : 1\n",
      "156 - y_test 1 y_pred : 0\n",
      "157 - y_test 1 y_pred : 0\n",
      "158 - y_test 0 y_pred : 1\n",
      "159 - y_test 1 y_pred : 0\n",
      "160 - y_test 0 y_pred : 1\n",
      "164 - y_test 1 y_pred : 0\n",
      "168 - y_test 1 y_pred : 0\n",
      "169 - y_test 0 y_pred : 1\n",
      "172 - y_test 0 y_pred : 1\n",
      "173 - y_test 0 y_pred : 1\n",
      "182 - y_test 1 y_pred : 0\n",
      "189 - y_test 0 y_pred : 1\n",
      "191 - y_test 1 y_pred : 0\n",
      "194 - y_test 0 y_pred : 1\n"
     ]
    }
   ],
   "source": [
    "step = len(y_test)\n",
    "count = 0\n",
    "for i in range(step):\n",
    "    if y_test[i] != pred1[i]:\n",
    "        print(str(i) + \" - y_test \" + str(y_test[i]) + \" y_pred : \" + str(pred1[i]))\n",
    "        count = count + 1"
   ]
  },
  {
   "cell_type": "code",
   "execution_count": 32,
   "metadata": {},
   "outputs": [
    {
     "name": "stdout",
     "output_type": "stream",
     "text": [
      "total : 200 diff : 50\n"
     ]
    }
   ],
   "source": [
    "print(\"total : \" + str(step) + \" diff : \" + str(count))"
   ]
  },
  {
   "cell_type": "code",
   "execution_count": 40,
   "metadata": {},
   "outputs": [
    {
     "name": "stdout",
     "output_type": "stream",
     "text": [
      "[[0.51485492 0.48514508]]\n"
     ]
    }
   ],
   "source": [
    "print(model2.predict_proba(x_test[2].reshape(1,-1)))"
   ]
  },
  {
   "cell_type": "code",
   "execution_count": null,
   "metadata": {},
   "outputs": [],
   "source": []
  }
 ],
 "metadata": {
  "kernelspec": {
   "display_name": "Python 3",
   "language": "python",
   "name": "python3"
  },
  "language_info": {
   "codemirror_mode": {
    "name": "ipython",
    "version": 3
   },
   "file_extension": ".py",
   "mimetype": "text/x-python",
   "name": "python",
   "nbconvert_exporter": "python",
   "pygments_lexer": "ipython3",
   "version": "3.6.4"
  }
 },
 "nbformat": 4,
 "nbformat_minor": 2
}
