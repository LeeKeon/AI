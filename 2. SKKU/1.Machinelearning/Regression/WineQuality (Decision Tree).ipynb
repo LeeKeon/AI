{
 "cells": [
  {
   "cell_type": "code",
   "execution_count": 1,
   "metadata": {},
   "outputs": [],
   "source": [
    "import pandas as pd\n",
    "import numpy as np\n",
    "from sklearn.tree import DecisionTreeClassifier\n",
    "from sklearn.metrics import mean_squared_error\n",
    "import math\n",
    "import matplotlib.pyplot as plt\n",
    "from sklearn.metrics import accuracy_score"
   ]
  },
  {
   "cell_type": "code",
   "execution_count": 2,
   "metadata": {},
   "outputs": [],
   "source": [
    "train_input = pd.read_csv('WineQuality_train.csv')\n",
    "test_input = pd.read_csv('WineQuality_test.csv')"
   ]
  },
  {
   "cell_type": "code",
   "execution_count": 3,
   "metadata": {},
   "outputs": [],
   "source": [
    "x_train = np.array(train_input.iloc[:, :-1])\n",
    "#y_train = np.array(train_input.iloc[:, -1])\n",
    "y_train = np.array(train_input['quality'])\n",
    "\n",
    "x_test = np.array(test_input.iloc[:, :-1])\n",
    "#y_test = np.array(test_input.iloc[:, -1])\n",
    "y_test = np.array(test_input['quality'])"
   ]
  },
  {
   "cell_type": "code",
   "execution_count": 4,
   "metadata": {},
   "outputs": [],
   "source": [
    "model = DecisionTreeClassifier(max_depth=30,max_features=6, random_state=0) # 모델 정의\n",
    "model.fit(x_train, y_train) # 모델 학습\n",
    "pred = model.predict(x_test) # 모델 예측"
   ]
  },
  {
   "cell_type": "code",
   "execution_count": 5,
   "metadata": {},
   "outputs": [
    {
     "name": "stdout",
     "output_type": "stream",
     "text": [
      "0.719195\n"
     ]
    }
   ],
   "source": [
    "rmse = math.sqrt(mean_squared_error(pred, y_test))\n",
    "print(\"%.6f\" % rmse)"
   ]
  },
  {
   "cell_type": "code",
   "execution_count": 6,
   "metadata": {},
   "outputs": [
    {
     "name": "stdout",
     "output_type": "stream",
     "text": [
      "0.658307\n"
     ]
    }
   ],
   "source": [
    "print(\"%.6f\" % accuracy_score(y_true=y_test,y_pred=pred))"
   ]
  },
  {
   "cell_type": "code",
   "execution_count": 7,
   "metadata": {},
   "outputs": [
    {
     "name": "stdout",
     "output_type": "stream",
     "text": [
      "1 - y_test 7 y_pred : 6\n",
      "4 - y_test 6 y_pred : 5\n",
      "5 - y_test 6 y_pred : 5\n",
      "6 - y_test 5 y_pred : 6\n",
      "14 - y_test 6 y_pred : 7\n",
      "16 - y_test 5 y_pred : 7\n",
      "20 - y_test 6 y_pred : 7\n",
      "23 - y_test 7 y_pred : 6\n",
      "25 - y_test 6 y_pred : 5\n",
      "27 - y_test 5 y_pred : 6\n",
      "28 - y_test 4 y_pred : 5\n",
      "30 - y_test 5 y_pred : 6\n",
      "40 - y_test 6 y_pred : 5\n",
      "41 - y_test 6 y_pred : 7\n",
      "50 - y_test 5 y_pred : 7\n",
      "53 - y_test 6 y_pred : 7\n",
      "54 - y_test 6 y_pred : 5\n",
      "55 - y_test 5 y_pred : 6\n",
      "59 - y_test 6 y_pred : 5\n",
      "62 - y_test 6 y_pred : 5\n",
      "63 - y_test 6 y_pred : 5\n",
      "65 - y_test 6 y_pred : 5\n",
      "72 - y_test 5 y_pred : 7\n",
      "73 - y_test 6 y_pred : 5\n",
      "75 - y_test 6 y_pred : 5\n",
      "76 - y_test 5 y_pred : 6\n",
      "78 - y_test 7 y_pred : 6\n",
      "81 - y_test 6 y_pred : 7\n",
      "82 - y_test 7 y_pred : 6\n",
      "84 - y_test 6 y_pred : 5\n",
      "87 - y_test 6 y_pred : 5\n",
      "88 - y_test 4 y_pred : 5\n",
      "89 - y_test 6 y_pred : 5\n",
      "92 - y_test 6 y_pred : 7\n",
      "93 - y_test 4 y_pred : 5\n",
      "97 - y_test 7 y_pred : 6\n",
      "100 - y_test 7 y_pred : 6\n",
      "104 - y_test 6 y_pred : 5\n",
      "108 - y_test 6 y_pred : 5\n",
      "109 - y_test 5 y_pred : 6\n",
      "110 - y_test 6 y_pred : 5\n",
      "111 - y_test 5 y_pred : 6\n",
      "115 - y_test 7 y_pred : 6\n",
      "117 - y_test 5 y_pred : 6\n",
      "118 - y_test 5 y_pred : 7\n",
      "120 - y_test 4 y_pred : 6\n",
      "125 - y_test 5 y_pred : 7\n",
      "127 - y_test 6 y_pred : 5\n",
      "131 - y_test 7 y_pred : 5\n",
      "136 - y_test 6 y_pred : 7\n",
      "137 - y_test 5 y_pred : 4\n",
      "141 - y_test 8 y_pred : 7\n",
      "145 - y_test 6 y_pred : 7\n",
      "148 - y_test 5 y_pred : 8\n",
      "150 - y_test 5 y_pred : 6\n",
      "151 - y_test 5 y_pred : 4\n",
      "163 - y_test 6 y_pred : 5\n",
      "173 - y_test 6 y_pred : 5\n",
      "176 - y_test 5 y_pred : 6\n",
      "177 - y_test 6 y_pred : 5\n",
      "178 - y_test 6 y_pred : 4\n",
      "181 - y_test 7 y_pred : 6\n",
      "188 - y_test 7 y_pred : 5\n",
      "190 - y_test 6 y_pred : 7\n",
      "192 - y_test 5 y_pred : 6\n",
      "196 - y_test 6 y_pred : 5\n",
      "204 - y_test 6 y_pred : 8\n",
      "205 - y_test 4 y_pred : 6\n",
      "206 - y_test 5 y_pred : 6\n",
      "207 - y_test 5 y_pred : 6\n",
      "211 - y_test 4 y_pred : 3\n",
      "212 - y_test 7 y_pred : 6\n",
      "213 - y_test 6 y_pred : 5\n",
      "220 - y_test 6 y_pred : 5\n",
      "222 - y_test 6 y_pred : 5\n",
      "223 - y_test 5 y_pred : 6\n",
      "231 - y_test 5 y_pred : 6\n",
      "232 - y_test 6 y_pred : 5\n",
      "236 - y_test 5 y_pred : 6\n",
      "241 - y_test 8 y_pred : 7\n",
      "243 - y_test 3 y_pred : 4\n",
      "246 - y_test 4 y_pred : 5\n",
      "247 - y_test 6 y_pred : 5\n",
      "252 - y_test 7 y_pred : 6\n",
      "253 - y_test 6 y_pred : 5\n",
      "254 - y_test 4 y_pred : 6\n",
      "256 - y_test 5 y_pred : 4\n",
      "264 - y_test 7 y_pred : 5\n",
      "269 - y_test 5 y_pred : 6\n",
      "270 - y_test 4 y_pred : 6\n",
      "274 - y_test 6 y_pred : 5\n",
      "276 - y_test 4 y_pred : 5\n",
      "279 - y_test 5 y_pred : 6\n",
      "282 - y_test 6 y_pred : 5\n",
      "290 - y_test 7 y_pred : 6\n",
      "291 - y_test 5 y_pred : 6\n",
      "292 - y_test 3 y_pred : 5\n",
      "294 - y_test 5 y_pred : 6\n",
      "296 - y_test 7 y_pred : 6\n",
      "300 - y_test 7 y_pred : 6\n",
      "301 - y_test 6 y_pred : 7\n",
      "303 - y_test 5 y_pred : 6\n",
      "306 - y_test 5 y_pred : 6\n",
      "308 - y_test 5 y_pred : 4\n",
      "311 - y_test 5 y_pred : 6\n",
      "313 - y_test 6 y_pred : 5\n",
      "314 - y_test 6 y_pred : 5\n",
      "315 - y_test 4 y_pred : 6\n",
      "317 - y_test 7 y_pred : 6\n"
     ]
    }
   ],
   "source": [
    "step = len(y_test)\n",
    "count = 0\n",
    "for i in range(step):\n",
    "    if y_test[i] != pred[i]:\n",
    "        print(str(i) + \" - y_test \" + str(y_test[i]) + \" y_pred : \" + str(pred[i]))\n",
    "        count = count + 1"
   ]
  },
  {
   "cell_type": "code",
   "execution_count": 8,
   "metadata": {},
   "outputs": [
    {
     "name": "stdout",
     "output_type": "stream",
     "text": [
      "total : 319 diff : 109\n"
     ]
    }
   ],
   "source": [
    "print(\"total : \" + str(step) + \" diff : \" + str(count))"
   ]
  },
  {
   "cell_type": "code",
   "execution_count": 10,
   "metadata": {},
   "outputs": [
    {
     "name": "stdout",
     "output_type": "stream",
     "text": [
      "Collecting python-graphviz\n"
     ]
    },
    {
     "name": "stderr",
     "output_type": "stream",
     "text": [
      "  Could not find a version that satisfies the requirement python-graphviz (from versions: )\n",
      "No matching distribution found for python-graphviz\n"
     ]
    }
   ],
   "source": []
  },
  {
   "cell_type": "code",
   "execution_count": null,
   "metadata": {},
   "outputs": [],
   "source": []
  }
 ],
 "metadata": {
  "kernelspec": {
   "display_name": "Python 3",
   "language": "python",
   "name": "python3"
  },
  "language_info": {
   "codemirror_mode": {
    "name": "ipython",
    "version": 3
   },
   "file_extension": ".py",
   "mimetype": "text/x-python",
   "name": "python",
   "nbconvert_exporter": "python",
   "pygments_lexer": "ipython3",
   "version": "3.6.4"
  }
 },
 "nbformat": 4,
 "nbformat_minor": 2
}
