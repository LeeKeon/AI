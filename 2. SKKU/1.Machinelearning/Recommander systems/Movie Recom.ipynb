{
 "cells": [
  {
   "cell_type": "code",
   "execution_count": 30,
   "metadata": {},
   "outputs": [],
   "source": [
    "import numpy as np\n",
    "from surprise import NormalPredictor\n",
    "from surprise import BaselineOnly\n",
    "from surprise import Dataset\n",
    "from surprise import accuracy\n",
    "from surprise.model_selection import GridSearchCV\n",
    "from surprise import KNNBasic\n",
    "from surprise import KNNBaseline\n",
    "from surprise.model_selection import cross_validate\n",
    "\n",
    "\n",
    "import os\n",
    "import pandas as pd"
   ]
  },
  {
   "cell_type": "code",
   "execution_count": 2,
   "metadata": {},
   "outputs": [],
   "source": [
    "def data_load():\n",
    "    files_dir = os.path.expanduser('~/.surprise_data/ml-100k/ml-100k/')\n",
    "    m_cols = ['movie_id', 'title', 'release_date', 'video_release_date', 'imdb_url']\n",
    "    movies = pd.read_csv(files_dir+'u.item', sep='|', names=m_cols, usecols=range(5),\n",
    "    encoding='latin-1')\n",
    "    r_cols = ['user_id', 'movie_id', 'rating', 'unix_timestamp']\n",
    "    ratings = pd.read_csv(files_dir+'u.data', sep='\\t', names=r_cols)\n",
    "    return movies['title'], ratings"
   ]
  },
  {
   "cell_type": "code",
   "execution_count": 4,
   "metadata": {},
   "outputs": [],
   "source": [
    "data = Dataset.load_builtin('ml-100k')\n",
    "trainset = data.build_full_trainset() # 전체 데이터를 학습 데이터로 사용"
   ]
  },
  {
   "cell_type": "code",
   "execution_count": 12,
   "metadata": {},
   "outputs": [],
   "source": [
    "algo = NormalPredictor()\n",
    "algo.fit(trainset) # 학습\n",
    "testset = trainset.build_anti_testset() # 학습 데이터를 제외한 모두를 테스트 데이터로 사용\n",
    "NormalPredictor_predictions = algo.test(testset) # 평점 예측"
   ]
  },
  {
   "cell_type": "code",
   "execution_count": 13,
   "metadata": {},
   "outputs": [
    {
     "name": "stdout",
     "output_type": "stream",
     "text": [
      "RMSE: 1.0225\n",
      "NormalPredictor_predictions MAE: 0.8433498188902117\n"
     ]
    }
   ],
   "source": [
    "accuracy.rmse(NormalPredictor_predictions, verbose=True)\n",
    "mae = accuracy.mae(NormalPredictor_predictions, verbose=False)\n",
    "print(\"NormalPredictor_predictions MAE:\", mae)"
   ]
  },
  {
   "cell_type": "code",
   "execution_count": 27,
   "metadata": {},
   "outputs": [
    {
     "name": "stdout",
     "output_type": "stream",
     "text": [
      "Estimating biases using als...\n"
     ]
    }
   ],
   "source": [
    "algo1 = BaselineOnly()\n",
    "algo1.fit(trainset)\n",
    "BaselineOnly_predictions = algo1.test(testset)"
   ]
  },
  {
   "cell_type": "code",
   "execution_count": 28,
   "metadata": {},
   "outputs": [
    {
     "name": "stdout",
     "output_type": "stream",
     "text": [
      "RMSE: 0.5159\n",
      "BaselineOnly_predictions_predictions MAE: 0.40504696681503494\n"
     ]
    }
   ],
   "source": [
    "accuracy.rmse(BaselineOnly_predictions, verbose=True)\n",
    "mae = accuracy.mae(BaselineOnly_predictions, verbose=False)\n",
    "print(\"BaselineOnly_predictions_predictions MAE:\", mae)"
   ]
  },
  {
   "cell_type": "code",
   "execution_count": 23,
   "metadata": {},
   "outputs": [
    {
     "name": "stdout",
     "output_type": "stream",
     "text": [
      "Estimating biases using als...\n",
      "Computing the msd similarity matrix...\n",
      "Done computing similarity matrix.\n",
      "Estimating biases using als...\n",
      "Computing the msd similarity matrix...\n",
      "Done computing similarity matrix.\n",
      "Estimating biases using als...\n",
      "Computing the msd similarity matrix...\n",
      "Done computing similarity matrix.\n",
      "Estimating biases using als...\n",
      "Computing the msd similarity matrix...\n",
      "Done computing similarity matrix.\n",
      "Estimating biases using als...\n",
      "Computing the cosine similarity matrix...\n",
      "Done computing similarity matrix.\n",
      "Estimating biases using als...\n",
      "Computing the cosine similarity matrix...\n",
      "Done computing similarity matrix.\n",
      "Estimating biases using als...\n",
      "Computing the cosine similarity matrix...\n",
      "Done computing similarity matrix.\n",
      "Estimating biases using als...\n",
      "Computing the cosine similarity matrix...\n",
      "Done computing similarity matrix.\n",
      "Estimating biases using als...\n",
      "Computing the msd similarity matrix...\n",
      "Done computing similarity matrix.\n",
      "Estimating biases using als...\n",
      "Computing the msd similarity matrix...\n",
      "Done computing similarity matrix.\n",
      "Estimating biases using als...\n",
      "Computing the msd similarity matrix...\n",
      "Done computing similarity matrix.\n",
      "Estimating biases using als...\n",
      "Computing the msd similarity matrix...\n",
      "Done computing similarity matrix.\n",
      "Estimating biases using als...\n",
      "Computing the cosine similarity matrix...\n",
      "Done computing similarity matrix.\n",
      "Estimating biases using als...\n",
      "Computing the cosine similarity matrix...\n",
      "Done computing similarity matrix.\n",
      "Estimating biases using als...\n",
      "Computing the cosine similarity matrix...\n",
      "Done computing similarity matrix.\n",
      "Estimating biases using als...\n",
      "Computing the cosine similarity matrix...\n",
      "Done computing similarity matrix.\n",
      "0.9696593328505838\n",
      "{'k': 10, 'sim_options': {'name': 'msd', 'user_based': True}}\n"
     ]
    }
   ],
   "source": [
    "param_grid = {'k': [5, 10],\n",
    "'sim_options': {'name': ['msd', 'cosine'],'user_based': [False, True]} }\n",
    "\n",
    "gs = GridSearchCV(KNNBaseline, param_grid, measures=['rmse', 'mae'], cv=2)\n",
    "gs.fit(data)\n",
    "\n",
    "print(gs.best_score['rmse'])\n",
    "print(gs.best_params['rmse'])\n",
    "\n",
    "#상세정보용\n",
    "#results_df = pd.DataFrame.from_dict(gs.cv_results)\n",
    "#print(results_df)"
   ]
  },
  {
   "cell_type": "code",
   "execution_count": 31,
   "metadata": {},
   "outputs": [
    {
     "name": "stdout",
     "output_type": "stream",
     "text": [
      "Estimating biases using als...\n",
      "Computing the msd similarity matrix...\n",
      "Done computing similarity matrix.\n",
      "Estimating biases using als...\n",
      "Computing the msd similarity matrix...\n",
      "Done computing similarity matrix.\n",
      "Estimating biases using als...\n",
      "Computing the msd similarity matrix...\n",
      "Done computing similarity matrix.\n",
      "Estimating biases using als...\n",
      "Computing the msd similarity matrix...\n",
      "Done computing similarity matrix.\n",
      "Estimating biases using als...\n",
      "Computing the msd similarity matrix...\n",
      "Done computing similarity matrix.\n",
      "Evaluating RMSE, MAE of algorithm KNNBaseline on 5 split(s).\n",
      "\n",
      "                  Fold 1  Fold 2  Fold 3  Fold 4  Fold 5  Mean    Std     \n",
      "RMSE (testset)    0.9504  0.9449  0.9522  0.9535  0.9502  0.9502  0.0029  \n",
      "MAE (testset)     0.7478  0.7451  0.7476  0.7506  0.7493  0.7481  0.0018  \n",
      "Fit time          0.75    0.74    0.74    0.74    0.74    0.74    0.00    \n",
      "Test time         2.35    2.35    2.38    2.34    2.34    2.35    0.02    \n"
     ]
    },
    {
     "data": {
      "text/plain": [
       "{'fit_time': (0.7456357479095459,\n",
       "  0.7389087677001953,\n",
       "  0.7415494918823242,\n",
       "  0.7375540733337402,\n",
       "  0.7406699657440186),\n",
       " 'test_mae': array([0.74777491, 0.74508798, 0.74758769, 0.7505549 , 0.74932627]),\n",
       " 'test_rmse': array([0.95035531, 0.94493103, 0.95222021, 0.95347215, 0.9501893 ]),\n",
       " 'test_time': (2.354562759399414,\n",
       "  2.347822666168213,\n",
       "  2.3810982704162598,\n",
       "  2.340524196624756,\n",
       "  2.3378024101257324)}"
      ]
     },
     "execution_count": 31,
     "metadata": {},
     "output_type": "execute_result"
    }
   ],
   "source": [
    "sim_options = {'name': 'msd', # 'cosine', 'msd', 'pearson'\n",
    "                'user_based': True,\n",
    "                'shrinkage': 0 } # default 100\n",
    "\n",
    "\n",
    "algo2 = KNNBaseline(k=10, min_k=1, sim_options=sim_options)\n",
    "#algo2.fit(trainset)\n",
    "#KNNBaseline_predictions = algo2.test(testset)\n",
    "\n",
    "cross_validate(algo2, data, measures=['RMSE','MAE'], cv=5, verbose=True)"
   ]
  },
  {
   "cell_type": "code",
   "execution_count": 26,
   "metadata": {},
   "outputs": [
    {
     "name": "stdout",
     "output_type": "stream",
     "text": [
      "RMSE: 0.8163\n",
      "KNNBaseline_predictions_predictions MAE: 0.6458349623955439\n"
     ]
    }
   ],
   "source": [
    "accuracy.rmse(KNNBaseline_predictions, verbose=True)\n",
    "mae = accuracy.mae(KNNBaseline_predictions, verbose=False)\n",
    "print(\"KNNBaseline_predictions_predictions MAE:\", mae)"
   ]
  },
  {
   "cell_type": "code",
   "execution_count": null,
   "metadata": {},
   "outputs": [],
   "source": [
    "sim_options = {'name': 'cosine', # 'cosine', 'msd', 'pearson'\n",
    "'user_based': False,\n",
    "'shrinkage': 0 } # default 100"
   ]
  },
  {
   "cell_type": "code",
   "execution_count": 5,
   "metadata": {},
   "outputs": [
    {
     "name": "stdout",
     "output_type": "stream",
     "text": [
      "380     Muriel's Wedding (1994)\n",
      "672            Cape Fear (1962)\n",
      "1325                Boys (1996)\n",
      "Name: title, dtype: object\n"
     ]
    }
   ],
   "source": [
    "all_predicted_ratings = np.zeros((trainset.n_users+1, trainset.n_items+1))\n",
    "\n",
    "for uid, iid, true_r, est, _ in predictions:\n",
    "    all_predicted_ratings[int(uid), int(iid)] = est\n",
    "\n",
    "my_id = 2\n",
    "index = np.argsort(all_predicted_ratings[my_id])\n",
    "index = index[::-1]\n",
    "index = index+1\n",
    "movies, ratings= data_load() # 데이터 로드\n",
    "print(movies[index[0:3]])"
   ]
  },
  {
   "cell_type": "code",
   "execution_count": 6,
   "metadata": {},
   "outputs": [
    {
     "name": "stdout",
     "output_type": "stream",
     "text": [
      "15    French Twist (Gazon maudit) (1995)\n",
      "53                       Outbreak (1995)\n",
      "29                  Belle de jour (1967)\n",
      "Name: title, dtype: object\n"
     ]
    }
   ],
   "source": [
    "my_id = 2\n",
    "ratings = ratings[ratings['user_id']==my_id]\n",
    "mv= ratings['movie_id']\n",
    "rating= ratings['rating']\n",
    "index = np.argsort(rating)\n",
    "index = index[::-1]\n",
    "index = index+1\n",
    "print(movies[index[0:3]])"
   ]
  },
  {
   "cell_type": "code",
   "execution_count": null,
   "metadata": {},
   "outputs": [],
   "source": []
  }
 ],
 "metadata": {
  "kernelspec": {
   "display_name": "Python 3",
   "language": "python",
   "name": "python3"
  },
  "language_info": {
   "codemirror_mode": {
    "name": "ipython",
    "version": 3
   },
   "file_extension": ".py",
   "mimetype": "text/x-python",
   "name": "python",
   "nbconvert_exporter": "python",
   "pygments_lexer": "ipython3",
   "version": "3.6.4"
  }
 },
 "nbformat": 4,
 "nbformat_minor": 2
}
