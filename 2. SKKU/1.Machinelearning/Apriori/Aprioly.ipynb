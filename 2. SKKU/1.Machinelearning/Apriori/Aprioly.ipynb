{
 "cells": [
  {
   "cell_type": "code",
   "execution_count": 6,
   "metadata": {},
   "outputs": [],
   "source": [
    "import pandas as pd # 필요 라이브러리 불러오기\n",
    "from mlxtend.preprocessing import TransactionEncoder\n",
    "from mlxtend.frequent_patterns import association_rules\n",
    "from mlxtend.frequent_patterns import apriori"
   ]
  },
  {
   "cell_type": "code",
   "execution_count": 9,
   "metadata": {},
   "outputs": [
    {
     "data": {
      "text/plain": [
       "[['Chicken', 'Diapers', 'Nutmeg', 'Kidney Beans', 'Beer', 'Yogurt'],\n",
       " ['Apple', 'Diapers', 'Nutmeg', 'Kidney Beans', 'Beer', 'Yogurt'],\n",
       " ['Chicken', 'Apple', 'Diapers', 'Beer'],\n",
       " ['Milk', 'Unicorn', 'Corn', 'Kidney Beans', 'Yogurt'],\n",
       " ['Chicken', 'Diapers', 'Diapers', 'Yogurt', 'Ice cream', 'Beer']]"
      ]
     },
     "execution_count": 9,
     "metadata": {},
     "output_type": "execute_result"
    }
   ],
   "source": [
    "# 장바구니 데이터\n",
    "dataset = [['Chicken', 'Diapers', 'Nutmeg', 'Kidney Beans', 'Beer', 'Yogurt'],\n",
    "['Apple', 'Diapers', 'Nutmeg', 'Kidney Beans', 'Beer', 'Yogurt'],\n",
    "['Chicken', 'Apple', 'Diapers', 'Beer'],\n",
    "['Milk', 'Unicorn', 'Corn', 'Kidney Beans', 'Yogurt'],\n",
    "['Chicken', 'Diapers', 'Diapers', 'Yogurt', 'Ice cream', 'Beer']]\n",
    "dataset"
   ]
  },
  {
   "cell_type": "code",
   "execution_count": 12,
   "metadata": {},
   "outputs": [
    {
     "name": "stdout",
     "output_type": "stream",
     "text": [
      "  antecedants consequents  antecedent support  consequent support  support  \\\n",
      "0      (Beer)   (Diapers)                 0.8                 0.8      0.8   \n",
      "1   (Diapers)      (Beer)                 0.8                 0.8      0.8   \n",
      "\n",
      "   confidence  lift  leverage  conviction  \n",
      "0         1.0  1.25      0.16         inf  \n",
      "1         1.0  1.25      0.16         inf  \n"
     ]
    }
   ],
   "source": [
    "te = TransactionEncoder() # 거래 정보를 bag of word형식으로 저장\n",
    "te_ary = te.fit(dataset).transform(dataset)\n",
    "# 거래 정보를 pandas 데이터프레임으로 저장\n",
    "df = pd.DataFrame(te_ary, columns=te.columns_)\n",
    "# apriori 알고리즘을 이용하여 의미있는 규칙 찾기\n",
    "frequent_itemsets = apriori(df, min_support=0.7, use_colnames=True)\n",
    "rules = association_rules(frequent_itemsets, metric=\"confidence\",\n",
    "min_threshold=0.7)\n",
    "print(rules) # 규칙 보기"
   ]
  },
  {
   "cell_type": "code",
   "execution_count": null,
   "metadata": {},
   "outputs": [],
   "source": []
  }
 ],
 "metadata": {
  "kernelspec": {
   "display_name": "Python 3",
   "language": "python",
   "name": "python3"
  },
  "language_info": {
   "codemirror_mode": {
    "name": "ipython",
    "version": 3
   },
   "file_extension": ".py",
   "mimetype": "text/x-python",
   "name": "python",
   "nbconvert_exporter": "python",
   "pygments_lexer": "ipython3",
   "version": "3.6.4"
  }
 },
 "nbformat": 4,
 "nbformat_minor": 2
}
