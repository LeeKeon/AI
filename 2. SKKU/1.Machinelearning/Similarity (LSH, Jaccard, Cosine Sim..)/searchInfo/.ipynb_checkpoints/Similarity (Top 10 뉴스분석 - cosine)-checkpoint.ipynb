{
 "cells": [
  {
   "cell_type": "code",
   "execution_count": 1,
   "metadata": {},
   "outputs": [],
   "source": [
    "import numpy as np # 필요 라이브러리 불러오기\n",
    "import pandas as pd\n",
    "from sklearn.feature_extraction.text import CountVectorizer\n",
    "from sklearn.metrics import jaccard_similarity_score\n",
    "from sklearn.metrics.pairwise import cosine_similarity\n",
    "from sklearn.metrics.pairwise import euclidean_distances\n",
    "from collections import Counter\n",
    "import pytagcloud\n",
    "import plotly\n",
    "import plotly.graph_objs as go"
   ]
  },
  {
   "cell_type": "code",
   "execution_count": 2,
   "metadata": {},
   "outputs": [],
   "source": [
    "# 데이터 불러오기\n",
    "news = pd.read_csv(\"./korean_news_topic_201711.CSV\", engine='python')\n",
    "news = news['토픽키워드'] # 키워드 추출\n",
    "vect = CountVectorizer() # bag of word 만들기\n",
    "vect.fit(news)\n",
    "bagOfWord = vect.transform(news).toarray()\n",
    "query = vect.transform([news[0]]).toarray()[0]"
   ]
  },
  {
   "cell_type": "code",
   "execution_count": 3,
   "metadata": {},
   "outputs": [],
   "source": [
    "jaccard_sim =[] # jaccard similarity를 이용하여 쿼리와 문장의 유사도 계산\n",
    "cosine_sim = [] # cosine similarity를 이용하여 쿼리와 문장의 유사도 계산\n",
    "euclidean_dist = [] # euclidean dist를 이용하여 쿼리와 문장의 유사도 계산\n",
    "pcc_sim = [] # PCC를 이용하여 쿼리와 문장의 유사도 계산\n",
    "for temp_news in bagOfWord:\n",
    "    jaccard_sim.append(jaccard_similarity_score(query, temp_news))\n",
    "    cosine_sim.append(cosine_similarity([query], [temp_news])[0][0])\n",
    "    euclidean_dist.append(euclidean_distances([query], [temp_news])[0][0])\n",
    "    pcc_sim.append(np.corrcoef(query, temp_news)[0, 1])"
   ]
  },
  {
   "cell_type": "code",
   "execution_count": 4,
   "metadata": {},
   "outputs": [],
   "source": [
    "jaccard_sim = np.asarray(jaccard_sim) # similarity를 기반으로 정렬한 결과 저장\n",
    "jaccard_sim = np.argsort(jaccard_sim)\n",
    "jaccard_sim = jaccard_sim[::-1]\n",
    "\n",
    "cosine_sim = np.asarray(cosine_sim)\n",
    "cosine_sim = np.argsort(cosine_sim)\n",
    "cosine_sim = cosine_sim[::-1] #역순을 위함 기본정렬이 오름차순이기 때문에\n",
    "\n",
    "euclidean_dist = np.asarray(euclidean_dist)\n",
    "euclidean_dist = np.argsort(euclidean_dist)\n",
    "\n",
    "pcc_sim = np.asarray(pcc_sim) # similarity를 기반으로 정렬한 결과 저장\n",
    "pcc_sim = np.argsort(pcc_sim)\n",
    "pcc_sim = pcc_sim[::-1]"
   ]
  },
  {
   "cell_type": "code",
   "execution_count": 5,
   "metadata": {},
   "outputs": [],
   "source": [
    "top10 = jaccard_sim[1:11] # jaccard similarity, Top 10 뉴스 특성 분석\n",
    "top10_news = news[top10]\n",
    "\n",
    "keywords =[]\n",
    "for n in top10_news:\n",
    "    keywords = keywords + n.split(',')\n",
    "\n",
    "count = Counter(keywords) # 각 단어 별 개수 계산하기\n",
    "tags = count.most_common(200) # 상위 200개 추출\n",
    "\n",
    "word = []\n",
    "counts = []\n",
    "\n",
    "for key in tags:\n",
    "    word.append(key[0])\n",
    "    counts.append(key[1])"
   ]
  },
  {
   "cell_type": "code",
   "execution_count": 6,
   "metadata": {},
   "outputs": [
    {
     "data": {
      "text/plain": [
       "'file://C:\\\\Users\\\\user19\\\\Tidus\\\\Similarity\\\\searchInfo\\\\doc-histogram-jaccard.html'"
      ]
     },
     "execution_count": 6,
     "metadata": {},
     "output_type": "execute_result"
    }
   ],
   "source": [
    "# histogram 만들기\n",
    "data = [go.Bar(x=word, y=counts)]\n",
    "filename = 'doc-histogram-jaccard'\n",
    "plotly.offline.plot(data, filename=filename + '.html')"
   ]
  },
  {
   "cell_type": "code",
   "execution_count": 7,
   "metadata": {},
   "outputs": [],
   "source": [
    "# wordcloud 만들기\n",
    "taglist = pytagcloud.make_tags(tags, maxsize=30) \n",
    "pytagcloud.create_tag_image(taglist, 'doc-jaccard.jpg', fontname='Malgun Gothic', rectangular=False)"
   ]
  },
  {
   "cell_type": "code",
   "execution_count": 13,
   "metadata": {},
   "outputs": [],
   "source": [
    "ctop10 = pcc_sim[1:11] # cosine similarity, Top 10 뉴스 특성 분석\n",
    "ctop10_news = news[ctop10]\n",
    "\n",
    "ckeywords =[]\n",
    "for n in ctop10_news:\n",
    "    ckeywords = ckeywords + n.split(',')\n",
    "\n",
    "ccount = Counter(ckeywords) # 각 단어 별 개수 계산하기\n",
    "ctags = count.most_common(200) # 상위 200개 추출\n",
    "\n",
    "cword = []\n",
    "ccounts = []\n",
    "\n",
    "for key in ctags:\n",
    "    cword.append(key[0])\n",
    "    ccounts.append(key[1])"
   ]
  },
  {
   "cell_type": "code",
   "execution_count": 14,
   "metadata": {},
   "outputs": [
    {
     "data": {
      "text/plain": [
       "'file://C:\\\\Users\\\\user19\\\\Tidus\\\\Similarity\\\\searchInfo\\\\doc-histogram-cosine.html'"
      ]
     },
     "execution_count": 14,
     "metadata": {},
     "output_type": "execute_result"
    }
   ],
   "source": [
    "# histogram 만들기\n",
    "cdata = [go.Bar(x=cword, y=ccounts)]\n",
    "filename = 'doc-histogram-cosine'\n",
    "plotly.offline.plot(cdata, filename=filename + '.html')"
   ]
  },
  {
   "cell_type": "code",
   "execution_count": 10,
   "metadata": {},
   "outputs": [],
   "source": [
    "taglist = pytagcloud.make_tags(tags, maxsize=30) \n",
    "pytagcloud.create_tag_image(taglist, 'doc-cosine.jpg', fontname='Malgun Gothic', rectangular=False)"
   ]
  },
  {
   "cell_type": "code",
   "execution_count": null,
   "metadata": {},
   "outputs": [],
   "source": []
  }
 ],
 "metadata": {
  "kernelspec": {
   "display_name": "Python 3",
   "language": "python",
   "name": "python3"
  },
  "language_info": {
   "codemirror_mode": {
    "name": "ipython",
    "version": 3
   },
   "file_extension": ".py",
   "mimetype": "text/x-python",
   "name": "python",
   "nbconvert_exporter": "python",
   "pygments_lexer": "ipython3",
   "version": "3.6.4"
  }
 },
 "nbformat": 4,
 "nbformat_minor": 2
}
