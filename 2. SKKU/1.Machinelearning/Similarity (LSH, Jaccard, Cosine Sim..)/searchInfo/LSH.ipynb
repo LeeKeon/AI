{
 "cells": [
  {
   "cell_type": "code",
   "execution_count": 1,
   "metadata": {},
   "outputs": [],
   "source": [
    "import pandas as pd # 필요 라이브러리 불러오기\n",
    "from datasketch import MinHashLSHForest, MinHash\n",
    "from collections import Counter\n",
    "import pytagcloud\n",
    "import plotly\n",
    "import plotly.graph_objs as go"
   ]
  },
  {
   "cell_type": "code",
   "execution_count": 2,
   "metadata": {},
   "outputs": [],
   "source": [
    "# 데이터 불러오기\n",
    "news = pd.read_csv(\"./korean_news_topic_201711.CSV\", engine='python')\n",
    "news = news['토픽키워드']\n",
    "news = news.values.tolist()\n",
    "keywords = [] # 뉴스 별 키워드 추출\n",
    "\n",
    "for n in news:\n",
    "    keywords.append(n.split(','))"
   ]
  },
  {
   "cell_type": "code",
   "execution_count": 24,
   "metadata": {},
   "outputs": [
    {
     "data": {
      "text/plain": [
       "'연준,뉴욕증시,결정,강세,다우,금리,정책,다우지수,실업률,2시,변동성,중심,동결,전일,이달,통화정책,교수,영향,지명,2.5%,65.2,2만,전년,연방공개시장위원회,fed,개최,6.1%,지속,이틀,구매관리자지수,공개,12월,동부,계절,후반,화이자,상승세,거래일,전문가,nyse,제롬,0.3%,25bp,제약업체,기준,위원회,산업평균지수,runiron,페드워치,진단'"
      ]
     },
     "execution_count": 24,
     "metadata": {},
     "output_type": "execute_result"
    }
   ],
   "source": [
    "m = [] # MinHash 객체를 각 뉴스 별로 만듦\n",
    "for i in range(len(keywords)):\n",
    "    m.append(MinHash(num_perm=128)) #num_perm = hash 수 많을수록 정확도 높음\n",
    "\n",
    "for i, k in enumerate(keywords): # 각 단어를 min hashing 함\n",
    "    for w in k:\n",
    "        m[i].update(w.encode('utf8'))\n",
    "        \n",
    "# MinHash LSH Forest를 만듦 (MinHash값을 저장하는 tree)\n",
    "forest = MinHashLSHForest(num_perm=128)\n",
    "\n",
    "# 각 문서 별 MinHash 객체를 forest에 추가\n",
    "for i, t_m in enumerate(m):\n",
    "    forest.add(i, t_m)\n",
    "forest.index()\n",
    "\n",
    "# m[0] 문서와 비슷한 Top 11을 찾음\n",
    "result = forest.query(m[0], 11)\n",
    "news[0]"
   ]
  },
  {
   "cell_type": "code",
   "execution_count": null,
   "metadata": {},
   "outputs": [],
   "source": [
    "if(0 in result):\n",
    "    result.remove(0)\n",
    "else:\n",
    "    result = result[0:10]"
   ]
  },
  {
   "cell_type": "code",
   "execution_count": 15,
   "metadata": {},
   "outputs": [],
   "source": [
    "keywords =[]\n",
    "for n in result:\n",
    "    keywords = keywords + news[n].split(',')\n",
    "    \n",
    "count = Counter(keywords) # 각 단어 별 개수 계산하기\n",
    "tags = count.most_common(200) # 상위 200개 추출\n",
    "\n",
    "word = []\n",
    "counts = []\n",
    "\n",
    "for key in tags:\n",
    "    word.append(key[0])\n",
    "    counts.append(key[1])"
   ]
  },
  {
   "cell_type": "code",
   "execution_count": 16,
   "metadata": {},
   "outputs": [],
   "source": [
    "# histogram 만들기\n",
    "data = [go.Bar(x=word, y=counts)]\n",
    "filename = 'doc-histogram-lsh'\n",
    "plotly.offline.plot(data, filename=filename + '.html') # 만들어진 histogram 저장\n",
    "\n",
    "taglist = pytagcloud.make_tags(tags, maxsize=30) # wordcloud 만들기\n",
    "pytagcloud.create_tag_image(taglist, 'doc-lsh.jpg', fontname='Malgun Gothic',\n",
    "rectangular=False)"
   ]
  },
  {
   "cell_type": "code",
   "execution_count": null,
   "metadata": {},
   "outputs": [],
   "source": []
  }
 ],
 "metadata": {
  "kernelspec": {
   "display_name": "Python 3",
   "language": "python",
   "name": "python3"
  },
  "language_info": {
   "codemirror_mode": {
    "name": "ipython",
    "version": 3
   },
   "file_extension": ".py",
   "mimetype": "text/x-python",
   "name": "python",
   "nbconvert_exporter": "python",
   "pygments_lexer": "ipython3",
   "version": "3.6.4"
  }
 },
 "nbformat": 4,
 "nbformat_minor": 2
}
