{
 "cells": [
  {
   "cell_type": "code",
   "execution_count": 128,
   "metadata": {},
   "outputs": [],
   "source": [
    "import os\n",
    "import pandas as pd\n",
    "import numpy as np\n",
    "from keras.models import Sequential\n",
    "from keras.layers import Dense\n",
    "from keras.layers import LSTM\n",
    "from sklearn.preprocessing import MinMaxScaler\n",
    "import matplotlib.pyplot as plt\n",
    "import math\n",
    "from sklearn.metrics import mean_squared_error\n"
   ]
  },
  {
   "cell_type": "code",
   "execution_count": 174,
   "metadata": {},
   "outputs": [],
   "source": [
    "look_back = 1\n",
    "def create_dataset(dataset, look_back=1):\n",
    "    dataX, dataY = [], []\n",
    "    for i in range(len(dataset)-look_back-1):\n",
    "        a = dataset[i:(i + look_back)]\n",
    "        dataX.append(a)\n",
    "        dataY.append(dataset[i + look_back])\n",
    "    return np.array(dataX), np.array(dataY)"
   ]
  },
  {
   "cell_type": "code",
   "execution_count": 175,
   "metadata": {},
   "outputs": [
    {
     "name": "stdout",
     "output_type": "stream",
     "text": [
      "803 90\n",
      "(801, 1)\n",
      "(801, 1, 1)\n"
     ]
    }
   ],
   "source": [
    "fullpath = 'A168330.csv'\n",
    "pandf = pd.read_csv(fullpath, index_col=\"Date\")\n",
    "nparr = pandf['Close'].values[::-1]\n",
    "\n",
    "# normalization\n",
    "#scaler = MinMaxScaler(feature_range=(0, 1))\n",
    "#nptf = scaler.fit_transform(nparr.reshape(-1, 1))\n",
    "#nptf = nparr.reshape(-1, 1)\n",
    "nptf = nparr\n",
    " \n",
    "# split train, test\n",
    "train_size = int(len(nptf) * 0.9)\n",
    "test_size = len(nptf) - train_size\n",
    "train, test = nptf[0:train_size], nptf[train_size:len(nptf)]\n",
    "print(len(train), len(test))\n",
    " \n",
    "# create dataset for learning\n",
    "trainX, trainY = create_dataset(train, look_back)\n",
    "testX, testY = create_dataset(test, look_back)\n",
    "\n",
    "print(trainX.shape)\n",
    "\n",
    "# reshape input to be [samples, time steps, features]\n",
    "trainX = np.reshape(trainX, (trainX.shape[0], 1, trainX.shape[1]))\n",
    "testX = np.reshape(testX, (testX.shape[0], 1, testX.shape[1]))\n",
    "\n",
    "print(trainX.shape)\n"
   ]
  },
  {
   "cell_type": "code",
   "execution_count": 169,
   "metadata": {},
   "outputs": [
    {
     "name": "stdout",
     "output_type": "stream",
     "text": [
      "_________________________________________________________________\n",
      "Layer (type)                 Output Shape              Param #   \n",
      "=================================================================\n",
      "lstm_12 (LSTM)               (None, 4)                 96        \n",
      "_________________________________________________________________\n",
      "dense_12 (Dense)             (None, 10)                50        \n",
      "=================================================================\n",
      "Total params: 146\n",
      "Trainable params: 146\n",
      "Non-trainable params: 0\n",
      "_________________________________________________________________\n"
     ]
    }
   ],
   "source": [
    "# simple lstm network learning\n",
    "model = Sequential()\n",
    "model.add(LSTM(4, input_shape=(1, look_back)))\n",
    "model.add(Dense(10))\n",
    "model.compile(loss='mean_squared_error', optimizer='adam')\n",
    "model.summary()"
   ]
  },
  {
   "cell_type": "code",
   "execution_count": null,
   "metadata": {},
   "outputs": [],
   "source": [
    "model.fit(trainX, trainY, epochs=10, batch_size=1, verbose=1)"
   ]
  },
  {
   "cell_type": "code",
   "execution_count": 158,
   "metadata": {},
   "outputs": [
    {
     "name": "stdout",
     "output_type": "stream",
     "text": [
      "Train Score: 16302.56 RMSE\n"
     ]
    },
    {
     "data": {
      "text/plain": [
       "array([[6.8611856],\n",
       "       [6.8611856],\n",
       "       [6.8611856],\n",
       "       [6.8611856],\n",
       "       [6.8611856],\n",
       "       [6.8611856],\n",
       "       [6.8611856],\n",
       "       [6.8611856],\n",
       "       [6.8611856],\n",
       "       [6.8611856],\n",
       "       [6.8611856],\n",
       "       [6.8611856],\n",
       "       [6.8611856],\n",
       "       [6.8611856],\n",
       "       [6.8611856],\n",
       "       [6.8611856],\n",
       "       [6.8611856],\n",
       "       [6.8611856],\n",
       "       [6.8611856],\n",
       "       [6.8611856],\n",
       "       [6.8611856],\n",
       "       [6.8611856],\n",
       "       [6.8611856],\n",
       "       [6.8611856],\n",
       "       [6.8611856],\n",
       "       [6.8611856],\n",
       "       [6.8611856],\n",
       "       [6.8611856],\n",
       "       [6.8611856],\n",
       "       [6.8611856],\n",
       "       [6.8611856],\n",
       "       [6.8611856],\n",
       "       [6.8611856],\n",
       "       [6.8611856],\n",
       "       [6.8611856],\n",
       "       [6.8611856],\n",
       "       [6.8611856],\n",
       "       [6.8611856],\n",
       "       [6.8611856],\n",
       "       [6.8611856],\n",
       "       [6.8611856],\n",
       "       [6.8611856],\n",
       "       [6.8611856],\n",
       "       [6.8611856],\n",
       "       [6.8611856],\n",
       "       [6.8611856],\n",
       "       [6.8611856],\n",
       "       [6.8611856],\n",
       "       [6.8611856],\n",
       "       [6.8611856],\n",
       "       [6.8611856],\n",
       "       [6.8611856],\n",
       "       [6.8611856],\n",
       "       [6.8611856],\n",
       "       [6.8611856],\n",
       "       [6.8611856],\n",
       "       [6.8611856],\n",
       "       [6.8611856],\n",
       "       [6.8611856],\n",
       "       [6.8611856],\n",
       "       [6.8611856],\n",
       "       [6.8611856],\n",
       "       [6.8611856],\n",
       "       [6.8611856],\n",
       "       [6.8611856],\n",
       "       [6.8611856],\n",
       "       [6.8611856],\n",
       "       [6.8611856],\n",
       "       [6.8611856],\n",
       "       [6.8611856],\n",
       "       [6.8611856],\n",
       "       [6.8611856],\n",
       "       [6.8611856],\n",
       "       [6.8611856],\n",
       "       [6.8611856],\n",
       "       [6.8611856],\n",
       "       [6.8611856],\n",
       "       [6.8611856],\n",
       "       [6.8611856],\n",
       "       [6.8611856],\n",
       "       [6.8611856],\n",
       "       [6.8611856],\n",
       "       [6.8611856],\n",
       "       [6.8611856],\n",
       "       [6.8611856],\n",
       "       [6.8611856],\n",
       "       [6.8611856],\n",
       "       [6.8611856]], dtype=float32)"
      ]
     },
     "execution_count": 158,
     "metadata": {},
     "output_type": "execute_result"
    }
   ],
   "source": [
    "# make prediction\n",
    "#print(testX.shape)\n",
    "#print(testX)\n",
    "\n",
    "testPredict = model.predict(testX)\n",
    "#testPredict = scaler.inverse_transform(testPredict)\n",
    "#testY = scaler.inverse_transform(testY)\n",
    "testScore = math.sqrt(mean_squared_error(testY, testPredict))\n",
    "print('Train Score: %.2f RMSE' % testScore)\n",
    "\n",
    "testPredict\n",
    " \n",
    "# predict last value (or tomorrow?)\n",
    "\n",
    "#lastX = nptf[-1]\n",
    "#print(lastX)\n",
    "#print(scaler.inverse_transform(lastX.reshape(-1, 1)))\n",
    "#lastX = np.reshape(lastX, (1, 1, 1))\n",
    "#print(lastX)\n",
    "#lastY = model.predict(lastX)\n",
    "#print(lastY)\n",
    "#lastY = scaler.inverse_transform(lastY)\n",
    "#print('Predict the Close value of final day: %d' % lastY)  # 데이터 입력 마지막 다음날 종가 예측\n",
    "\n",
    "# plot\n",
    "#plt.plot(testPredict)\n",
    "#plt.plot(testY)\n",
    "#plt.show()"
   ]
  },
  {
   "cell_type": "code",
   "execution_count": null,
   "metadata": {},
   "outputs": [],
   "source": []
  }
 ],
 "metadata": {
  "kernelspec": {
   "display_name": "Python 3",
   "language": "python",
   "name": "python3"
  },
  "language_info": {
   "codemirror_mode": {
    "name": "ipython",
    "version": 3
   },
   "file_extension": ".py",
   "mimetype": "text/x-python",
   "name": "python",
   "nbconvert_exporter": "python",
   "pygments_lexer": "ipython3",
   "version": "3.6.4"
  }
 },
 "nbformat": 4,
 "nbformat_minor": 2
}
