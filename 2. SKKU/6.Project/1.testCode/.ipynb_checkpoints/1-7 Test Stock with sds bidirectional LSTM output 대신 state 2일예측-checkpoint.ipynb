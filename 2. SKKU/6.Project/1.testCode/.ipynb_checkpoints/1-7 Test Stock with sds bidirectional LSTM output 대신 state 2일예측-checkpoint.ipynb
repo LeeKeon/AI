{
 "cells": [
  {
   "cell_type": "code",
   "execution_count": 1,
   "metadata": {},
   "outputs": [
    {
     "name": "stderr",
     "output_type": "stream",
     "text": [
      "/etc/anaconda3/lib/python3.6/site-packages/h5py/__init__.py:36: FutureWarning: Conversion of the second argument of issubdtype from `float` to `np.floating` is deprecated. In future, it will be treated as `np.float64 == np.dtype(float).type`.\n",
      "  from ._conv import register_converters as _register_converters\n"
     ]
    },
    {
     "name": "stdout",
     "output_type": "stream",
     "text": [
      "<class 'pandas.core.frame.DataFrame'>\n",
      "RangeIndex: 840 entries, 0 to 839\n",
      "Data columns (total 6 columns):\n",
      "Date      840 non-null object\n",
      "Open      840 non-null object\n",
      "High      840 non-null object\n",
      "Low       840 non-null object\n",
      "Close     840 non-null object\n",
      "Volume    840 non-null object\n",
      "dtypes: object(6)\n",
      "memory usage: 39.5+ KB\n",
      "stock_info.shape:  (839, 5)\n",
      "stock_info[0]:  [214000. 217000. 211000. 211000. 166820.]\n",
      "price.shape:  (839, 4)\n",
      "price[0]:  [214000. 217000. 211000. 211000.]\n",
      "norm_price[0]:  [0.41609195 0.42988506 0.40229885 0.40229885]\n",
      "====================================================================================================\n",
      "volume.shape:  (839, 1)\n",
      "volume[0]:  [166820.]\n",
      "norm_volume[0]:  [0.04349307]\n",
      "====================================================================================================\n",
      "x.shape:  (839, 5)\n",
      "x[0]:  [0.41609195 0.42988506 0.40229885 0.40229885 0.04349307]\n",
      "x[-1]:  [0.80229885 0.89885057 0.78850575 0.89425287 0.21590093]\n",
      "====================================================================================================\n",
      "y.shape:  (839, 1)\n",
      "y[0]:  [0.40229885]\n",
      "y[-1]:  [0.89425287]\n"
     ]
    }
   ],
   "source": [
    "import tensorflow as tf\n",
    "import numpy as np\n",
    "import pandas as pd\n",
    "import datetime\n",
    "import matplotlib.pyplot as plt\n",
    "\n",
    "import os\n",
    "os.environ['CUDA_VISIBLE_DEVICES'] = \"2\"\n",
    "\n",
    "# 하이퍼파라미터\n",
    "input_data_column_cnt = 5  # 입력데이터의 컬럼 개수(Variable 개수)\n",
    "output_data_column_cnt = 1 # 결과데이터의 컬럼 개수\n",
    " \n",
    "predict_day = 2     # 예측하고자 하는 날짜\n",
    "seq_length = 28        # 1개 시퀀스의 길이(시계열데이터 입력 개수)\n",
    "rnn_cell_hidden_dim = 20   # 각 셀의 (hidden)출력 크기\n",
    "forget_bias = 1.0          # 망각편향(기본값 1.0)\n",
    "num_stacked_layers = 1     # stacked LSTM layers 개수\n",
    "keep_prob = 1.0            # dropout할 때 keep할 비율\n",
    " \n",
    "epoch_num = 1000           # 에폭 횟수(학습용전체데이터를 몇 회 반복해서 학습할 것인가 입력)\n",
    "learning_rate = 0.01       # 학습률\n",
    "\n",
    "def initialize_session():\n",
    "    config = tf.ConfigProto()\n",
    "    config.gpu_options.allow_growth = True\n",
    "    # config.gpu_options.per_process_gpu_memory_fraction = 0.4\n",
    "    return tf.Session(config=config)\n",
    " \n",
    "# 랜덤에 의해 똑같은 결과를 재현하도록 시드 설정\n",
    "# 하이퍼파라미터를 튜닝하기 위한 용도(흔들리면 무엇때문에 좋아졌는지 알기 어려움)\n",
    "tf.set_random_seed(777)\n",
    " \n",
    "# Standardization\n",
    "def data_standardization(x):\n",
    "    x_np = np.asarray(x)\n",
    "    return (x_np - x_np.mean()) / x_np.std()\n",
    " \n",
    "# 너무 작거나 너무 큰 값이 학습을 방해하는 것을 방지하고자 정규화한다\n",
    "# x가 양수라는 가정하에 최소값과 최대값을 이용하여 0~1사이의 값으로 변환\n",
    "# Min-Max scaling\n",
    "def min_max_scaling(x):\n",
    "    x_np = np.asarray(x)\n",
    "    return (x_np - x_np.min()) / (x_np.max() - x_np.min() + 1e-7) # 1e-7은 0으로 나누는 오류 예방차원\n",
    " \n",
    "# 정규화된 값을 원래의 값으로 되돌린다\n",
    "# 정규화하기 이전의 org_x값과 되돌리고 싶은 x를 입력하면 역정규화된 값을 리턴한다\n",
    "def reverse_min_max_scaling(org_x, x):\n",
    "    org_x_np = np.asarray(org_x)\n",
    "    x_np = np.asarray(x)\n",
    "    return (x_np * (org_x_np.max() - org_x_np.min() + 1e-7)) + org_x_np.min()\n",
    "\n",
    "# 데이터를 로딩한다.\n",
    "stock_file_name = './dataset/sds_201501~201805.csv' # 아마존 주가데이터 파일\n",
    "encoding = 'euc-kr' # 문자 인코딩\n",
    "names = ['Date','Open','High','Low','Close','Volume']\n",
    "raw_dataframe = pd.read_csv(stock_file_name, names=names, encoding=encoding) #판다스이용 csv파일 로딩\n",
    "raw_dataframe.info() # 데이터 정보 출력\n",
    " \n",
    "# raw_dataframe.drop('Date', axis=1, inplace=True) # 시간열을 제거하고 dataframe 재생성하지 않기\n",
    "del raw_dataframe['Date'] # 위 줄과 같은 효과\n",
    " \n",
    "stock_info = raw_dataframe.values[1:].astype(np.float) # 금액&거래량 문자열을 부동소수점형으로 변환한다\n",
    "print(\"stock_info.shape: \", stock_info.shape)\n",
    "print(\"stock_info[0]: \", stock_info[0])\n",
    "\n",
    "\n",
    "# 데이터 전처리\n",
    "# 가격과 거래량 수치의 차이가 많아나서 각각 별도로 정규화한다\n",
    " \n",
    "# 가격형태 데이터들을 정규화한다\n",
    "# ['Open','High','Low','Close','Adj Close','Volume']에서 'Adj Close'까지 취함\n",
    "# 곧, 마지막 열 Volume를 제외한 모든 열\n",
    "price = stock_info[:,:-1]\n",
    "norm_price = min_max_scaling(price) # 가격형태 데이터 정규화 처리\n",
    "print(\"price.shape: \", price.shape)\n",
    "print(\"price[0]: \", price[0])\n",
    "print(\"norm_price[0]: \", norm_price[0])\n",
    "print(\"=\"*100) # 화면상 구분용\n",
    " \n",
    "# 거래량형태 데이터를 정규화한다\n",
    "# ['Open','High','Low','Close','Adj Close','Volume']에서 마지막 'Volume'만 취함\n",
    "# [:,-1]이 아닌 [:,-1:]이므로 주의하자! 스칼라가아닌 벡터값 산출해야만 쉽게 병합 가능\n",
    "volume = stock_info[:,-1:]\n",
    "norm_volume = min_max_scaling(volume) # 거래량형태 데이터 정규화 처리\n",
    "print(\"volume.shape: \", volume.shape)\n",
    "print(\"volume[0]: \", volume[0])\n",
    "print(\"norm_volume[0]: \", norm_volume[0])\n",
    "print(\"=\"*100) # 화면상 구분용\n",
    " \n",
    "# 행은 그대로 두고 열을 우측에 붙여 합친다\n",
    "x = np.concatenate((norm_price, norm_volume), axis=1) # axis=1, 세로로 합친다\n",
    "print(\"x.shape: \", x.shape)\n",
    "print(\"x[0]: \", x[0])    # x의 첫 값\n",
    "print(\"x[-1]: \", x[-1])  # x의 마지막 값\n",
    "print(\"=\"*100) # 화면상 구분용\n",
    " \n",
    "y = x[:, [-2]] # 타켓은 주식 종가이다\n",
    "#y = x[:,-2] # 타켓은 주식 종가이다\n",
    "print(\"y.shape: \", y.shape)\n",
    "print(\"y[0]: \",y[0])     # y의 첫 값\n",
    "print(\"y[-1]: \",y[-1])   # y의 마지막 값"
   ]
  },
  {
   "cell_type": "code",
   "execution_count": 2,
   "metadata": {},
   "outputs": [
    {
     "name": "stdout",
     "output_type": "stream",
     "text": [
      "[[0.41609195 0.42988506 0.40229885 0.40229885 0.04349307]\n",
      " [0.43908046 0.44827586 0.4045977  0.41609195 0.02922534]\n",
      " [0.44597701 0.45287356 0.43908046 0.44597701 0.00593272]\n",
      " [0.46666667 0.46896552 0.44367816 0.44827586 0.01468833]\n",
      " [0.46896552 0.47126437 0.45287356 0.46666667 0.01520991]\n",
      " [0.44137931 0.45517241 0.42758621 0.45287356 0.01375448]\n",
      " [0.44367816 0.45517241 0.43678161 0.43908046 0.01832541]\n",
      " [0.45977011 0.46206897 0.44137931 0.45977011 0.00770944]\n",
      " [0.44827586 0.45517241 0.44137931 0.44827586 0.01108857]\n",
      " [0.45057471 0.46436782 0.44597701 0.45287356 0.01032169]\n",
      " [0.45517241 0.45747126 0.43678161 0.45287356 0.00485323]\n",
      " [0.44597701 0.45977011 0.43678161 0.44137931 0.01410809]\n",
      " [0.45977011 0.47816092 0.44597701 0.45057471 0.00866062]\n",
      " [0.44137931 0.46206897 0.43908046 0.45977011 0.00918554]\n",
      " [0.44137931 0.45747126 0.43448276 0.45287356 0.0194679 ]\n",
      " [0.39310345 0.45057471 0.3908046  0.43678161 0.05156345]\n",
      " [0.45057471 0.45977011 0.38390805 0.3908046  0.07640449]\n",
      " [0.48505747 0.49885057 0.43678161 0.43678161 0.07010916]\n",
      " [0.48965517 0.51264368 0.47816092 0.50804598 0.0213276 ]\n",
      " [0.54022989 0.54942529 0.47816092 0.49195402 0.06678536]\n",
      " [0.54942529 0.57471264 0.54712644 0.55862069 0.01566084]\n",
      " [0.53563218 0.55402299 0.53333333 0.54252874 0.01313457]\n",
      " [0.54712644 0.55402299 0.53103448 0.53563218 0.01967986]\n",
      " [0.54482759 0.55402299 0.52873563 0.54942529 0.01534655]\n",
      " [0.53793103 0.56321839 0.52413793 0.55402299 0.0311457 ]\n",
      " [0.55862069 0.55862069 0.51264368 0.53563218 0.02434179]\n",
      " [0.51034483 0.55402299 0.51034483 0.54942529 0.06474902]\n",
      " [0.51724138 0.52873563 0.48735632 0.49195402 0.0336743 ]] -> [0.52183908]\n"
     ]
    }
   ],
   "source": [
    "dataX = [] # 입력으로 사용될 Sequence Data\n",
    "dataY = [] # 출력(타켓)으로 사용\n",
    "    \n",
    "for i in range(0, len(y) - seq_length - predict_day):\n",
    "    _x = x[i:i + seq_length]\n",
    "    _y = y[i + seq_length + predict_day - 1]\n",
    "    if i is 0:\n",
    "        print(_x, \"->\", _y) # 첫번째 행만 출력해 봄\n",
    "    #print(i + seq_length+predict_day)\n",
    "    dataX.append(_x)\n",
    "    dataY.append(_y)"
   ]
  },
  {
   "cell_type": "code",
   "execution_count": 3,
   "metadata": {},
   "outputs": [
    {
     "data": {
      "text/plain": [
       "(243, 1)"
      ]
     },
     "execution_count": 3,
     "metadata": {},
     "output_type": "execute_result"
    }
   ],
   "source": [
    "\n",
    "# 학습용/테스트용 데이터 생성\n",
    "# 전체 70%를 학습용 데이터로 사용\n",
    "train_size = int(len(dataY) * 0.7)\n",
    "# 나머지(30%)를 테스트용 데이터로 사용\n",
    "test_size = len(dataY) - train_size\n",
    " \n",
    "# 데이터를 잘라 학습용 데이터 생성\n",
    "trainX = np.array(dataX[0:train_size])\n",
    "trainY = np.array(dataY[0:train_size])\n",
    " \n",
    "# 데이터를 잘라 테스트용 데이터 생성\n",
    "testX = np.array(dataX[train_size:len(dataX)])\n",
    "testY = np.array(dataY[train_size:len(dataY)])\n",
    "\n",
    "testY.shape"
   ]
  },
  {
   "cell_type": "code",
   "execution_count": 4,
   "metadata": {},
   "outputs": [
    {
     "name": "stdout",
     "output_type": "stream",
     "text": [
      "X:  Tensor(\"Placeholder:0\", shape=(?, 28, 5), dtype=float32)\n",
      "Y:  Tensor(\"Placeholder_1:0\", shape=(?, 1), dtype=float32)\n",
      "targets:  Tensor(\"Placeholder_2:0\", shape=(?, 1), dtype=float32)\n",
      "predictions:  Tensor(\"Placeholder_3:0\", shape=(?, 1), dtype=float32)\n"
     ]
    }
   ],
   "source": [
    "# 텐서플로우 플레이스홀더 생성\n",
    "# 입력 X, 출력 Y를 생성한다\n",
    "X = tf.placeholder(tf.float32, [None, seq_length, input_data_column_cnt])\n",
    "print(\"X: \", X)\n",
    "Y = tf.placeholder(tf.float32, [None, 1])\n",
    "print(\"Y: \", Y)\n",
    "\n",
    "W = tf.Variable(tf.random_normal([rnn_cell_hidden_dim, output_data_column_cnt]))\n",
    "b = tf.Variable(tf.random_normal([output_data_column_cnt]))\n",
    "\n",
    "# 검증용 측정지표를 산출하기 위한 targets, predictions를 생성한다\n",
    "targets = tf.placeholder(tf.float32, [None, 1])\n",
    "print(\"targets: \", targets)\n",
    " \n",
    "predictions = tf.placeholder(tf.float32, [None, 1])\n",
    "print(\"predictions: \", predictions)\n",
    " \n",
    "# 모델(LSTM 네트워크) 생성\n",
    "def lstm_cell():\n",
    "    # LSTM셀을 생성\n",
    "    # num_units: 각 Cell 출력 크기\n",
    "    # forget_bias:  to the biases of the forget gate \n",
    "    #              (default: 1)  in order to reduce the scale of forgetting in the beginning of the training.\n",
    "    # state_is_tuple: True ==> accepted and returned states are 2-tuples of the c_state and m_state.\n",
    "    # state_is_tuple: False ==> they are concatenated along the column axis.\n",
    "    cell = tf.contrib.rnn.BasicLSTMCell(num_units=rnn_cell_hidden_dim, \n",
    "                                        forget_bias=forget_bias, state_is_tuple=True, activation=tf.nn.softsign)\n",
    "    if keep_prob < 1.0:\n",
    "        cell = tf.contrib.rnn.DropoutWrapper(cell, output_keep_prob=keep_prob)\n",
    "    return cell\n",
    " \n",
    "# num_stacked_layers개의 층으로 쌓인 Stacked RNNs 생성\n",
    "stackedRNNs = [lstm_cell() for _ in range(num_stacked_layers)]\n",
    "multi_cells = tf.contrib.rnn.MultiRNNCell(stackedRNNs, state_is_tuple=True) if num_stacked_layers > 1 else lstm_cell()"
   ]
  },
  {
   "cell_type": "code",
   "execution_count": 5,
   "metadata": {},
   "outputs": [
    {
     "name": "stdout",
     "output_type": "stream",
     "text": [
      "hypothesis_fw:  Tensor(\"bidirectional_rnn/fw/fw/transpose_1:0\", shape=(?, 28, 20), dtype=float32)\n",
      "hypothesis_bw:  Tensor(\"ReverseV2:0\", shape=(?, 28, 20), dtype=float32)\n",
      "hypothesis[:, -1] Tensor(\"strided_slice:0\", shape=(?,), dtype=float32)\n"
     ]
    }
   ],
   "source": [
    "cell_fw = tf.nn.rnn_cell.BasicLSTMCell(num_units=rnn_cell_hidden_dim, \n",
    "                                        forget_bias=forget_bias, state_is_tuple=True, activation=tf.nn.softsign)\n",
    "cell_bw = tf.nn.rnn_cell.BasicLSTMCell(num_units=rnn_cell_hidden_dim, \n",
    "                                        forget_bias=forget_bias, state_is_tuple=True, activation=tf.nn.softsign)\n",
    "\n",
    "tf.contrib.rnn.MultiRNNCell(stackedRNNs, state_is_tuple=True)\n",
    "\n",
    "(hypothesis_fw, hypothesis_bw), (states_fw, states_bw)  = tf.nn.bidirectional_dynamic_rnn(cell_fw, cell_bw, X, dtype=tf.float32)\n",
    " \n",
    "# RNN Cell(여기서는 LSTM셀임)들을 연결\n",
    "#hypothesis, _states = tf.nn.dynamic_rnn(multi_cells, X, dtype=tf.float32)\n",
    "print(\"hypothesis_fw: \", hypothesis_fw)\n",
    "print(\"hypothesis_bw: \", hypothesis_bw)\n",
    " \n",
    "# [:, -1]를 잘 살펴보자. LSTM RNN의 마지막 (hidden)출력만을 사용했다.\n",
    "# 과거 여러 거래일의 주가를 이용해서 다음날의 주가 1개를 예측하기때문에 MANY-TO-ONE형태이다\n",
    "#hypothesis = tf.contrib.layers.fully_connected(hypothesis[:, -1], output_data_column_cnt, activation_fn=tf.identity)\n",
    "#hypothesis = tf.contrib.layers.fully_connected(hypothesis[:, -1], output_data_column_cnt, activation_fn=tf.identity)\n",
    "#hypothesis = tf.concat([hypothesis_fw, hypothesis_bw], axis = -1)\n",
    "\n",
    "hypothesis = tf.concat([states_fw.h, states_bw.h], axis = -1)\n",
    "hypothesis = tf.contrib.layers.fully_connected(hypothesis, output_data_column_cnt)\n",
    "#hypothesis = tf.nn.relu(tf.matmul(hypothesis[:, -1], W) + b)\n",
    "#hypothesis = tf.identity(tf.matmul(hypothesis[:, -1], W) + b)\n",
    "print('hypothesis[:, -1]', hypothesis[:, -1])\n",
    " \n",
    "# 손실함수로 평균제곱오차를 사용한다\n",
    "loss = tf.reduce_sum(tf.square(hypothesis - Y))\n",
    "# 최적화함수로 AdamOptimizer를 사용한다\n",
    "optimizer = tf.train.AdamOptimizer(learning_rate)\n",
    "# optimizer = tf.train.RMSPropOptimizer(learning_rate) # LSTM과 궁합 별로임\n",
    " \n",
    "train = optimizer.minimize(loss)\n",
    " \n",
    "# RMSE(Root Mean Square Error)\n",
    "# 제곱오차의 평균을 구하고 다시 제곱근을 구하면 평균 오차가 나온다\n",
    "# rmse = tf.sqrt(tf.reduce_mean(tf.square(targets-predictions))) # 아래 코드와 같다\n",
    "rmse = tf.sqrt(tf.reduce_mean(tf.squared_difference(targets, predictions)))\n",
    "\n",
    "train_error_summary = [] # 학습용 데이터의 오류를 중간 중간 기록한다\n",
    "test_error_summary = []  # 테스트용 데이터의 오류를 중간 중간 기록한다\n",
    "test_predict = ''        # 테스트용데이터로 예측한 결과\n",
    " \n",
    "sess = tf.Session()\n",
    "sess.run(tf.global_variables_initializer())\n",
    "\n",
    " "
   ]
  },
  {
   "cell_type": "code",
   "execution_count": 6,
   "metadata": {},
   "outputs": [
    {
     "name": "stdout",
     "output_type": "stream",
     "text": [
      "학습을 시작합니다...\n",
      "epoch: 100, train_error(A): 0.01846154034137726, test_error(B): 0.037522971630096436, B-A: 0.019061431288719177\n",
      "epoch: 200, train_error(A): 0.013585744425654411, test_error(B): 0.027113312855362892, B-A: 0.01352756842970848\n",
      "epoch: 300, train_error(A): 0.011218343861401081, test_error(B): 0.022736145183444023, B-A: 0.011517801322042942\n",
      "epoch: 400, train_error(A): 0.009287035092711449, test_error(B): 0.02057618275284767, B-A: 0.011289147660136223\n",
      "epoch: 500, train_error(A): 0.00829274021089077, test_error(B): 0.02031927928328514, B-A: 0.012026539072394371\n",
      "epoch: 600, train_error(A): 0.008057202212512493, test_error(B): 0.019505493342876434, B-A: 0.011448291130363941\n",
      "epoch: 700, train_error(A): 0.00784128624945879, test_error(B): 0.019140830263495445, B-A: 0.011299544014036655\n",
      "epoch: 800, train_error(A): 0.007719594053924084, test_error(B): 0.01903744786977768, B-A: 0.011317853815853596\n",
      "epoch: 900, train_error(A): 0.007757259998470545, test_error(B): 0.01943366974592209, B-A: 0.011676410213112831\n",
      "epoch: 1000, train_error(A): 0.007594902068376541, test_error(B): 0.01912068761885166, B-A: 0.01152578555047512\n",
      "elapsed_time: 0:00:29.429281\n",
      "elapsed_time per epoch: 0:00:00.029429\n"
     ]
    }
   ],
   "source": [
    " \n",
    "# 학습한다\n",
    "start_time = datetime.datetime.now() # 시작시간을 기록한다\n",
    "print('학습을 시작합니다...')\n",
    "for epoch in range(epoch_num):\n",
    "    _, _loss = sess.run([train, loss], feed_dict={X: trainX, Y: trainY})\n",
    "    if ((epoch+1) % 100 == 0) or (epoch == epoch_num-1): # 100번째마다 또는 마지막 epoch인 경우\n",
    "        # 학습용데이터로 rmse오차를 구한다\n",
    "        train_predict = sess.run(hypothesis, feed_dict={X: trainX})\n",
    "        train_error = sess.run(rmse, feed_dict={targets: trainY, predictions: train_predict})\n",
    "        train_error_summary.append(train_error)\n",
    " \n",
    "        # 테스트용데이터로 rmse오차를 구한다\n",
    "        test_predict = sess.run(hypothesis, feed_dict={X: testX})\n",
    "        test_error = sess.run(rmse, feed_dict={targets: testY, predictions: test_predict})\n",
    "        test_error_summary.append(test_error)\n",
    "        \n",
    "        # 현재 오류를 출력한다\n",
    "        print(\"epoch: {}, train_error(A): {}, test_error(B): {}, B-A: {}\".format(epoch+1, train_error, test_error, test_error-train_error))\n",
    "        \n",
    "end_time = datetime.datetime.now() # 종료시간을 기록한다\n",
    "elapsed_time = end_time - start_time # 경과시간을 구한다\n",
    "print('elapsed_time:',elapsed_time)\n",
    "print('elapsed_time per epoch:',elapsed_time/epoch_num)\n",
    " "
   ]
  },
  {
   "cell_type": "code",
   "execution_count": 7,
   "metadata": {},
   "outputs": [
    {
     "name": "stdout",
     "output_type": "stream",
     "text": [
      "input_data_column_cnt: 5,output_data_column_cnt: 1,seq_length: 28,rnn_cell_hidden_dim: 20,forget_bias: 1.0,num_stacked_layers: 1,keep_prob: 1.0,epoch_num: 1000,learning_rate: 0.01,train_error: 0.007594902,test_error: 0.019120688,min_test_error: 0.019037448\n"
     ]
    }
   ],
   "source": [
    "\n",
    "# 하이퍼파라미터 출력\n",
    "print('input_data_column_cnt:', input_data_column_cnt, end='')\n",
    "print(',output_data_column_cnt:', output_data_column_cnt, end='')\n",
    " \n",
    "print(',seq_length:', seq_length, end='')\n",
    "print(',rnn_cell_hidden_dim:', rnn_cell_hidden_dim, end='')\n",
    "print(',forget_bias:', forget_bias, end='')\n",
    "print(',num_stacked_layers:', num_stacked_layers, end='')\n",
    "print(',keep_prob:', keep_prob, end='')\n",
    " \n",
    "print(',epoch_num:', epoch_num, end='')\n",
    "print(',learning_rate:', learning_rate, end='')\n",
    " \n",
    "print(',train_error:', train_error_summary[-1], end='')\n",
    "print(',test_error:', test_error_summary[-1], end='')\n",
    "print(',min_test_error:', np.min(test_error_summary))\n",
    " "
   ]
  },
  {
   "cell_type": "code",
   "execution_count": 8,
   "metadata": {},
   "outputs": [
    {
     "data": {
      "text/plain": [
       "Text(0,0.5,'Root Mean Square Error')"
      ]
     },
     "execution_count": 8,
     "metadata": {},
     "output_type": "execute_result"
    },
    {
     "data": {
      "image/png": "[encoded data removed]",
      "text/plain": [
       "<matplotlib.figure.Figure at 0x7efe828060f0>"
      ]
     },
     "metadata": {},
     "output_type": "display_data"
    }
   ],
   "source": [
    "# 결과 그래프 출력\n",
    "\n",
    "plt.figure(1)\n",
    "plt.plot(train_error_summary, 'gold')\n",
    "plt.plot(test_error_summary, 'b')\n",
    "plt.xlabel('Epoch(x100)')\n",
    "plt.ylabel('Root Mean Square Error')"
   ]
  },
  {
   "cell_type": "code",
   "execution_count": 9,
   "metadata": {},
   "outputs": [
    {
     "data": {
      "text/plain": [
       "<matplotlib.figure.Figure at 0x7eff2619e080>"
      ]
     },
     "metadata": {},
     "output_type": "display_data"
    },
    {
     "data": {
      "text/plain": [
       "<matplotlib.figure.Figure at 0x7efe807b1828>"
      ]
     },
     "metadata": {},
     "output_type": "display_data"
    }
   ],
   "source": [
    "test_predict = sess.run(hypothesis, feed_dict={X: testX})\n",
    "#test_error = sess.run(rmse, feed_dict={targets: testY, predictions: test_predict})\n",
    "#test_error_summary.append(test_error)\n",
    "\n",
    "plt.figure(figsize=(20,5))\n",
    "plt.figure()\n",
    "testY_ = reverse_min_max_scaling(price,testY)\n",
    "test_predict_ = reverse_min_max_scaling(price,test_predict)"
   ]
  },
  {
   "cell_type": "code",
   "execution_count": 10,
   "metadata": {},
   "outputs": [
    {
     "data": {
      "image/png": "[encoded data removed]",
      "text/plain": [
       "<matplotlib.figure.Figure at 0x7efe827d4eb8>"
      ]
     },
     "metadata": {},
     "output_type": "display_data"
    }
   ],
   "source": [
    "plt.plot(testY_, color=\"red\", label=\"Real\")\n",
    "plt.plot(test_predict_, color=\"blue\", label=\"Predict\")\n",
    "plt.xlabel('Time Period')\n",
    "plt.ylabel('Stock Price')\n",
    "plt.legend(loc='upper left', frameon=False)\n",
    "plt.show()"
   ]
  },
  {
   "cell_type": "code",
   "execution_count": 11,
   "metadata": {},
   "outputs": [
    {
     "name": "stdout",
     "output_type": "stream",
     "text": [
      "recent_data.shape: (1, 4, 5)\n",
      "recent_data: [[[0.77701149 0.80229885 0.76781609 0.76781609 0.04666923]\n",
      "  [0.83678161 0.84597701 0.77701149 0.78390805 0.12276277]\n",
      "  [0.91494253 0.93793103 0.84827586 0.85747126 0.17242419]\n",
      "  [0.80229885 0.89885057 0.78850575 0.89425287 0.21590093]]]\n",
      "test_predict [0.7904099]\n",
      "Tomorrow's stock price [295414.16]\n"
     ]
    }
   ],
   "source": [
    "\n",
    "# sequence length만큼의 가장 최근 데이터를 슬라이싱한다\n",
    "recent_data = np.array([x[len(x)-seq_length : ]])\n",
    "print(\"recent_data.shape:\", recent_data.shape)\n",
    "print(\"recent_data:\", recent_data)\n",
    " \n",
    "# 내일 종가를 예측해본다\n",
    "test_predict = sess.run(hypothesis, feed_dict={X: recent_data})\n",
    " \n",
    "print(\"test_predict\", test_predict[0])\n",
    "test_predict = reverse_min_max_scaling(price,test_predict) # 금액데이터 역정규화한다\n",
    "print(\"Tomorrow's stock price\", test_predict[0]) # 예측한 주가를 출력한다"
   ]
  },
  {
   "cell_type": "code",
   "execution_count": 12,
   "metadata": {},
   "outputs": [],
   "source": [
    "test_predict_list = []\n",
    "for x in testX:\n",
    "    test_predict = sess.run(hypothesis, feed_dict={X: testX})\n"
   ]
  },
  {
   "cell_type": "code",
   "execution_count": null,
   "metadata": {},
   "outputs": [],
   "source": []
  }
 ],
 "metadata": {
  "kernelspec": {
   "display_name": "Python 3",
   "language": "python",
   "name": "python3"
  },
  "language_info": {
   "codemirror_mode": {
    "name": "ipython",
    "version": 3
   },
   "file_extension": ".py",
   "mimetype": "text/x-python",
   "name": "python",
   "nbconvert_exporter": "python",
   "pygments_lexer": "ipython3",
   "version": "3.6.4"
  }
 },
 "nbformat": 4,
 "nbformat_minor": 2
}
