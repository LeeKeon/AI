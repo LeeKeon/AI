{
 "cells": [
  {
   "cell_type": "code",
   "execution_count": 1,
   "metadata": {},
   "outputs": [
    {
     "name": "stderr",
     "output_type": "stream",
     "text": [
      "/etc/anaconda3/lib/python3.6/site-packages/h5py/__init__.py:36: FutureWarning: Conversion of the second argument of issubdtype from `float` to `np.floating` is deprecated. In future, it will be treated as `np.float64 == np.dtype(float).type`.\n",
      "  from ._conv import register_converters as _register_converters\n"
     ]
    }
   ],
   "source": [
    "# -*- coding: utf-8 -*-\n",
    "\n",
    "import os\n",
    "os.environ['CUDA_VISIBLE_DEVICES'] = \"2\"\n",
    "\n",
    "import tensorflow as tf\n",
    "import numpy as np\n",
    "import time\n",
    "\n",
    "def initialize_session():\n",
    "    config = tf.ConfigProto()\n",
    "    config.gpu_options.per_process_gpu_memory_fraction = 0.4\n",
    "    return tf.Session(config=config)"
   ]
  },
  {
   "cell_type": "code",
   "execution_count": 2,
   "metadata": {
    "scrolled": true
   },
   "outputs": [
    {
     "name": "stderr",
     "output_type": "stream",
     "text": [
      "Using TensorFlow backend.\n"
     ]
    }
   ],
   "source": [
    "##################################################\n",
    "BATCH_SIZE = 100\n",
    "class_size = 4\n",
    "use_clip = True         # Gradient clipping 쓸지 여부\n",
    "train_keep_prob = 0.7\n",
    "train_acc_summary = [] # 학습용 데이터의 정확도를 중간 중간 기록한다\n",
    "test_acc_summary = []  # 테스트용 데이터의 정확도를 중간 중간 기록한다\n",
    "train_loss_summary = [] # 학습용 데이터의 정확도를 중간 중간 기록한다\n",
    "test_loss_summary = []  # 테스트용 데이터의 정확도를 중간 중간 기록한다\n",
    "hypothesis_summary = []\n",
    "\n",
    "max_len = 1000           # sequence 단어 수 제한\n",
    "max_vocab = 50000       # maximum 단어 개수\n",
    "emb_dim = 64         # 단어 embedding dimension\n",
    "hidden_dim = 16        # RNN hidden dim\n",
    "learning_rate = 0.0001  # Learning rate\n",
    "use_clip = True         # Gradient clipping 쓸지 여부\n",
    "##################################################\n",
    "\n",
    "from genre_data_loader_merge_test import movie_data\n",
    "data = movie_data(max_vocab=max_vocab, max_len=max_len)\n",
    "\n",
    "train_total_batch = int(len(data.x_ids_train) / BATCH_SIZE)\n",
    "test_total_batch = int(len(data.x_ids_test) / BATCH_SIZE)"
   ]
  },
  {
   "cell_type": "code",
   "execution_count": 3,
   "metadata": {},
   "outputs": [
    {
     "name": "stdout",
     "output_type": "stream",
     "text": [
      "5400\n",
      "5400\n",
      "600\n",
      "600\n",
      "train_total_batch 54\n",
      "test_total_batch 6\n"
     ]
    }
   ],
   "source": [
    "print(len(data.x_ids_train))\n",
    "print(len(data.y_train))\n",
    "\n",
    "print(len(data.x_ids_test))\n",
    "print(len(data.y_test))\n",
    "\n",
    "print('train_total_batch',train_total_batch)\n",
    "print('test_total_batch',test_total_batch)"
   ]
  },
  {
   "cell_type": "code",
   "execution_count": 4,
   "metadata": {},
   "outputs": [
    {
     "name": "stdout",
     "output_type": "stream",
     "text": [
      "Tensor(\"Placeholder:0\", shape=(?, 1000), dtype=int32)\n",
      "Tensor(\"Placeholder_1:0\", shape=(?,), dtype=int32)\n",
      "Tensor(\"Placeholder_2:0\", shape=(?,), dtype=int32)\n",
      "6\n"
     ]
    }
   ],
   "source": [
    "from genre_movie_rnn_test import LSTM_Model\n",
    "END_TOKEN = \"<eos>\"\n",
    "lstm_model = LSTM_Model(max_len=max_len,\n",
    "              emb_dim=emb_dim,\n",
    "              hidden_dim=hidden_dim,\n",
    "              vocab_size=max_vocab,\n",
    "              class_size=class_size,\n",
    "              use_clip=True, learning_rate=learning_rate, end_token=data.w2idx[END_TOKEN])\n",
    "\n",
    "\n",
    "sess = initialize_session()\n",
    "sess.run(tf.global_variables_initializer())\n",
    "\n",
    "print(test_total_batch)\n",
    "\n",
    "def test_model():\n",
    "    test_loss, test_acc = 0, 0\n",
    "\n",
    "    for _ in range(test_total_batch):\n",
    "        test_x_txt, length, test_y = data.get_test(BATCH_SIZE)\n",
    "        loss, acc = sess.run([lstm_model.loss, lstm_model.accuracy], feed_dict={lstm_model.x: test_x_txt, lstm_model.x_len: length, lstm_model.y: test_y, lstm_model.keep_prob: 1.0})\n",
    "        \n",
    "        #loss, acc = sess.run([model.loss, model.accuracy],\n",
    "        #                      feed_dict={model.x_image: test_x, model.y_label: test_y, model.keep_prob : 1.0, model.is_training:False})\n",
    "        #test_ids, length, label = data.get_test(BATCH_SIZE)\n",
    "        #loss, acc = sess.run([model.loss, model.accuracy], feed_dict={model.x: test_ids, model.x_len: length, model.y: label})\n",
    "\n",
    "        test_loss += loss\n",
    "        test_acc += acc\n",
    "        \n",
    "    return test_loss/test_total_batch, test_acc/test_total_batch\n",
    "    #Tensor(\"rnn/transpose_1:0\", shape=(?, 25, 128), dtype=float32)"
   ]
  },
  {
   "cell_type": "code",
   "execution_count": 5,
   "metadata": {
    "scrolled": true
   },
   "outputs": [
    {
     "name": "stdout",
     "output_type": "stream",
     "text": [
      "epoch 1 - train_loss: 1.36833452, train_acc: 0.36481482, test_loss: 1.32078749, test_acc: 0.42000000\n",
      "epoch 2 - train_loss: 1.18603264, train_acc: 0.49666666, test_loss: 1.13551774, test_acc: 0.48500000\n",
      "epoch 3 - train_loss: 0.97521365, train_acc: 0.59925926, test_loss: 1.06327246, test_acc: 0.53166666\n",
      "epoch 4 - train_loss: 0.79103233, train_acc: 0.70185186, test_loss: 0.99142344, test_acc: 0.57833332\n",
      "epoch 5 - train_loss: 0.60373491, train_acc: 0.78462963, test_loss: 0.91898828, test_acc: 0.61166667\n",
      "epoch 6 - train_loss: 0.43537151, train_acc: 0.84981481, test_loss: 0.89217926, test_acc: 0.63833334\n",
      "epoch 7 - train_loss: 0.30263689, train_acc: 0.90629630, test_loss: 0.89000877, test_acc: 0.65833333\n",
      "epoch 8 - train_loss: 0.20607025, train_acc: 0.94074074, test_loss: 0.90871930, test_acc: 0.65333334\n",
      "epoch 9 - train_loss: 0.14012722, train_acc: 0.96555556, test_loss: 0.95534061, test_acc: 0.66000000\n",
      "epoch 10 - train_loss: 0.09922389, train_acc: 0.97500001, test_loss: 0.98955929, test_acc: 0.66999999\n",
      "epoch 11 - train_loss: 0.07268116, train_acc: 0.98296298, test_loss: 1.03741971, test_acc: 0.67833332\n",
      "epoch 12 - train_loss: 0.05532628, train_acc: 0.98851853, test_loss: 1.09438439, test_acc: 0.66833332\n",
      "epoch 13 - train_loss: 0.04388329, train_acc: 0.99148149, test_loss: 1.14697490, test_acc: 0.67333332\n",
      "epoch 14 - train_loss: 0.03694819, train_acc: 0.99240741, test_loss: 1.21668502, test_acc: 0.67833334\n",
      "epoch 15 - train_loss: 0.02981718, train_acc: 0.99277778, test_loss: 1.25926681, test_acc: 0.67666667\n",
      "epoch 16 - train_loss: 0.02625558, train_acc: 0.99351852, test_loss: 1.28614175, test_acc: 0.68333334\n",
      "epoch 17 - train_loss: 0.02371355, train_acc: 0.99425926, test_loss: 1.33122079, test_acc: 0.67500000\n",
      "epoch 18 - train_loss: 0.02116951, train_acc: 0.99407408, test_loss: 1.35292345, test_acc: 0.68500000\n",
      "epoch 19 - train_loss: 0.01963221, train_acc: 0.99407408, test_loss: 1.36223869, test_acc: 0.67333332\n",
      "epoch 20 - train_loss: 0.01835013, train_acc: 0.99425926, test_loss: 1.39934829, test_acc: 0.67499999\n",
      "epoch 21 - train_loss: 0.01847943, train_acc: 0.99500000, test_loss: 1.41566809, test_acc: 0.67499998\n",
      "epoch 22 - train_loss: 0.01769184, train_acc: 0.99462963, test_loss: 1.41753809, test_acc: 0.67833333\n",
      "epoch 23 - train_loss: 0.01733437, train_acc: 0.99518519, test_loss: 1.44421063, test_acc: 0.67833333\n",
      "epoch 24 - train_loss: 0.01842846, train_acc: 0.99388889, test_loss: 1.47000649, test_acc: 0.67499999\n",
      "epoch 25 - train_loss: 0.01606978, train_acc: 0.99500000, test_loss: 1.48368098, test_acc: 0.68166666\n",
      "epoch 26 - train_loss: 0.01575933, train_acc: 0.99462963, test_loss: 1.48561118, test_acc: 0.68166667\n",
      "epoch 27 - train_loss: 0.01635529, train_acc: 0.99462963, test_loss: 1.49725697, test_acc: 0.68333334\n",
      "epoch 28 - train_loss: 0.01540664, train_acc: 0.99462963, test_loss: 1.52416895, test_acc: 0.68000000\n",
      "epoch 29 - train_loss: 0.01436032, train_acc: 0.99481482, test_loss: 1.52930778, test_acc: 0.68500000\n",
      "epoch 30 - train_loss: 0.01465144, train_acc: 0.99481482, test_loss: 1.53373800, test_acc: 0.68666668\n",
      "epoch 31 - train_loss: 0.01451149, train_acc: 0.99462963, test_loss: 1.54726859, test_acc: 0.68333334\n",
      "epoch 32 - train_loss: 0.01421235, train_acc: 0.99444445, test_loss: 1.54685601, test_acc: 0.68500000\n",
      "epoch 33 - train_loss: 0.01388435, train_acc: 0.99500000, test_loss: 1.56461463, test_acc: 0.68500000\n",
      "epoch 34 - train_loss: 0.01499890, train_acc: 0.99462963, test_loss: 1.56664813, test_acc: 0.68166666\n",
      "epoch 35 - train_loss: 0.01449643, train_acc: 0.99407408, test_loss: 1.57817427, test_acc: 0.69000001\n",
      "epoch 36 - train_loss: 0.01489160, train_acc: 0.99351852, test_loss: 1.58687294, test_acc: 0.68833334\n",
      "epoch 37 - train_loss: 0.01343303, train_acc: 0.99500000, test_loss: 1.58487866, test_acc: 0.68000001\n",
      "epoch 38 - train_loss: 0.01384421, train_acc: 0.99462963, test_loss: 1.59832664, test_acc: 0.69500000\n",
      "epoch 39 - train_loss: 0.01340598, train_acc: 0.99444445, test_loss: 1.60162928, test_acc: 0.68166667\n",
      "epoch 40 - train_loss: 0.01346540, train_acc: 0.99462963, test_loss: 1.60470194, test_acc: 0.69333334\n",
      "epoch 41 - train_loss: 0.01381737, train_acc: 0.99500000, test_loss: 1.61487931, test_acc: 0.68833334\n",
      "epoch 42 - train_loss: 0.01336540, train_acc: 0.99462963, test_loss: 1.62214855, test_acc: 0.68333335\n",
      "epoch 43 - train_loss: 0.01452027, train_acc: 0.99481482, test_loss: 1.61255662, test_acc: 0.69166667\n",
      "epoch 44 - train_loss: 0.01403093, train_acc: 0.99444445, test_loss: 1.62099441, test_acc: 0.69333334\n",
      "epoch 45 - train_loss: 0.01330742, train_acc: 0.99500000, test_loss: 1.63047125, test_acc: 0.68833334\n",
      "epoch 46 - train_loss: 0.01222227, train_acc: 0.99518519, test_loss: 1.62225386, test_acc: 0.69500000\n",
      "epoch 47 - train_loss: 0.01289969, train_acc: 0.99481482, test_loss: 1.63332919, test_acc: 0.68666666\n",
      "epoch 48 - train_loss: 0.01306047, train_acc: 0.99500000, test_loss: 1.62854095, test_acc: 0.69500000\n",
      "epoch 49 - train_loss: 0.01296145, train_acc: 0.99425926, test_loss: 1.63112493, test_acc: 0.69166667\n",
      "epoch 50 - train_loss: 0.01258335, train_acc: 0.99462963, test_loss: 1.64336767, test_acc: 0.69000001\n",
      "epoch 51 - train_loss: 0.01321200, train_acc: 0.99500000, test_loss: 1.64352087, test_acc: 0.68666667\n",
      "epoch 52 - train_loss: 0.01246137, train_acc: 0.99574074, test_loss: 1.63855849, test_acc: 0.69000001\n",
      "epoch 53 - train_loss: 0.01259162, train_acc: 0.99500000, test_loss: 1.64254332, test_acc: 0.68500000\n",
      "epoch 54 - train_loss: 0.01279648, train_acc: 0.99500000, test_loss: 1.64860471, test_acc: 0.69000000\n",
      "epoch 55 - train_loss: 0.01380503, train_acc: 0.99462963, test_loss: 1.64210039, test_acc: 0.68666667\n",
      "epoch 56 - train_loss: 0.01283150, train_acc: 0.99500000, test_loss: 1.66029644, test_acc: 0.67833333\n",
      "epoch 57 - train_loss: 0.01194812, train_acc: 0.99537037, test_loss: 1.65271252, test_acc: 0.68500001\n",
      "epoch 58 - train_loss: 0.01232272, train_acc: 0.99444445, test_loss: 1.66408493, test_acc: 0.67833333\n",
      "epoch 59 - train_loss: 0.01262758, train_acc: 0.99500000, test_loss: 1.67968192, test_acc: 0.68000001\n",
      "epoch 60 - train_loss: 0.01243419, train_acc: 0.99555556, test_loss: 1.67272431, test_acc: 0.67666666\n"
     ]
    },
    {
     "ename": "KeyboardInterrupt",
     "evalue": "",
     "output_type": "error",
     "traceback": [
      "\u001b[0;31m---------------------------------------------------------------------------\u001b[0m",
      "\u001b[0;31mKeyboardInterrupt\u001b[0m                         Traceback (most recent call last)",
      "\u001b[0;32m<ipython-input-5-066c158b03de>\u001b[0m in \u001b[0;36m<module>\u001b[0;34m()\u001b[0m\n\u001b[1;32m      7\u001b[0m \u001b[0;34m\u001b[0m\u001b[0m\n\u001b[1;32m      8\u001b[0m         loss, acc, _, = sess.run([lstm_model.loss, lstm_model.accuracy, lstm_model.update],\n\u001b[0;32m----> 9\u001b[0;31m                             feed_dict={lstm_model.x: train_x_txt, lstm_model.x_len: length, lstm_model.y: train_y, lstm_model.keep_prob: 0.8})\n\u001b[0m\u001b[1;32m     10\u001b[0m \u001b[0;34m\u001b[0m\u001b[0m\n\u001b[1;32m     11\u001b[0m         \u001b[0mtrain_avg_loss\u001b[0m \u001b[0;34m+=\u001b[0m \u001b[0mloss\u001b[0m \u001b[0;34m/\u001b[0m \u001b[0mtrain_total_batch\u001b[0m\u001b[0;34m\u001b[0m\u001b[0m\n",
      "\u001b[0;32m/etc/anaconda3/lib/python3.6/site-packages/tensorflow/python/client/session.py\u001b[0m in \u001b[0;36mrun\u001b[0;34m(self, fetches, feed_dict, options, run_metadata)\u001b[0m\n\u001b[1;32m    898\u001b[0m     \u001b[0;32mtry\u001b[0m\u001b[0;34m:\u001b[0m\u001b[0;34m\u001b[0m\u001b[0m\n\u001b[1;32m    899\u001b[0m       result = self._run(None, fetches, feed_dict, options_ptr,\n\u001b[0;32m--> 900\u001b[0;31m                          run_metadata_ptr)\n\u001b[0m\u001b[1;32m    901\u001b[0m       \u001b[0;32mif\u001b[0m \u001b[0mrun_metadata\u001b[0m\u001b[0;34m:\u001b[0m\u001b[0;34m\u001b[0m\u001b[0m\n\u001b[1;32m    902\u001b[0m         \u001b[0mproto_data\u001b[0m \u001b[0;34m=\u001b[0m \u001b[0mtf_session\u001b[0m\u001b[0;34m.\u001b[0m\u001b[0mTF_GetBuffer\u001b[0m\u001b[0;34m(\u001b[0m\u001b[0mrun_metadata_ptr\u001b[0m\u001b[0;34m)\u001b[0m\u001b[0;34m\u001b[0m\u001b[0m\n",
      "\u001b[0;32m/etc/anaconda3/lib/python3.6/site-packages/tensorflow/python/client/session.py\u001b[0m in \u001b[0;36m_run\u001b[0;34m(self, handle, fetches, feed_dict, options, run_metadata)\u001b[0m\n\u001b[1;32m   1133\u001b[0m     \u001b[0;32mif\u001b[0m \u001b[0mfinal_fetches\u001b[0m \u001b[0;32mor\u001b[0m \u001b[0mfinal_targets\u001b[0m \u001b[0;32mor\u001b[0m \u001b[0;34m(\u001b[0m\u001b[0mhandle\u001b[0m \u001b[0;32mand\u001b[0m \u001b[0mfeed_dict_tensor\u001b[0m\u001b[0;34m)\u001b[0m\u001b[0;34m:\u001b[0m\u001b[0;34m\u001b[0m\u001b[0m\n\u001b[1;32m   1134\u001b[0m       results = self._do_run(handle, final_targets, final_fetches,\n\u001b[0;32m-> 1135\u001b[0;31m                              feed_dict_tensor, options, run_metadata)\n\u001b[0m\u001b[1;32m   1136\u001b[0m     \u001b[0;32melse\u001b[0m\u001b[0;34m:\u001b[0m\u001b[0;34m\u001b[0m\u001b[0m\n\u001b[1;32m   1137\u001b[0m       \u001b[0mresults\u001b[0m \u001b[0;34m=\u001b[0m \u001b[0;34m[\u001b[0m\u001b[0;34m]\u001b[0m\u001b[0;34m\u001b[0m\u001b[0m\n",
      "\u001b[0;32m/etc/anaconda3/lib/python3.6/site-packages/tensorflow/python/client/session.py\u001b[0m in \u001b[0;36m_do_run\u001b[0;34m(self, handle, target_list, fetch_list, feed_dict, options, run_metadata)\u001b[0m\n\u001b[1;32m   1314\u001b[0m     \u001b[0;32mif\u001b[0m \u001b[0mhandle\u001b[0m \u001b[0;32mis\u001b[0m \u001b[0;32mNone\u001b[0m\u001b[0;34m:\u001b[0m\u001b[0;34m\u001b[0m\u001b[0m\n\u001b[1;32m   1315\u001b[0m       return self._do_call(_run_fn, feeds, fetches, targets, options,\n\u001b[0;32m-> 1316\u001b[0;31m                            run_metadata)\n\u001b[0m\u001b[1;32m   1317\u001b[0m     \u001b[0;32melse\u001b[0m\u001b[0;34m:\u001b[0m\u001b[0;34m\u001b[0m\u001b[0m\n\u001b[1;32m   1318\u001b[0m       \u001b[0;32mreturn\u001b[0m \u001b[0mself\u001b[0m\u001b[0;34m.\u001b[0m\u001b[0m_do_call\u001b[0m\u001b[0;34m(\u001b[0m\u001b[0m_prun_fn\u001b[0m\u001b[0;34m,\u001b[0m \u001b[0mhandle\u001b[0m\u001b[0;34m,\u001b[0m \u001b[0mfeeds\u001b[0m\u001b[0;34m,\u001b[0m \u001b[0mfetches\u001b[0m\u001b[0;34m)\u001b[0m\u001b[0;34m\u001b[0m\u001b[0m\n",
      "\u001b[0;32m/etc/anaconda3/lib/python3.6/site-packages/tensorflow/python/client/session.py\u001b[0m in \u001b[0;36m_do_call\u001b[0;34m(self, fn, *args)\u001b[0m\n\u001b[1;32m   1320\u001b[0m   \u001b[0;32mdef\u001b[0m \u001b[0m_do_call\u001b[0m\u001b[0;34m(\u001b[0m\u001b[0mself\u001b[0m\u001b[0;34m,\u001b[0m \u001b[0mfn\u001b[0m\u001b[0;34m,\u001b[0m \u001b[0;34m*\u001b[0m\u001b[0margs\u001b[0m\u001b[0;34m)\u001b[0m\u001b[0;34m:\u001b[0m\u001b[0;34m\u001b[0m\u001b[0m\n\u001b[1;32m   1321\u001b[0m     \u001b[0;32mtry\u001b[0m\u001b[0;34m:\u001b[0m\u001b[0;34m\u001b[0m\u001b[0m\n\u001b[0;32m-> 1322\u001b[0;31m       \u001b[0;32mreturn\u001b[0m \u001b[0mfn\u001b[0m\u001b[0;34m(\u001b[0m\u001b[0;34m*\u001b[0m\u001b[0margs\u001b[0m\u001b[0;34m)\u001b[0m\u001b[0;34m\u001b[0m\u001b[0m\n\u001b[0m\u001b[1;32m   1323\u001b[0m     \u001b[0;32mexcept\u001b[0m \u001b[0merrors\u001b[0m\u001b[0;34m.\u001b[0m\u001b[0mOpError\u001b[0m \u001b[0;32mas\u001b[0m \u001b[0me\u001b[0m\u001b[0;34m:\u001b[0m\u001b[0;34m\u001b[0m\u001b[0m\n\u001b[1;32m   1324\u001b[0m       \u001b[0mmessage\u001b[0m \u001b[0;34m=\u001b[0m \u001b[0mcompat\u001b[0m\u001b[0;34m.\u001b[0m\u001b[0mas_text\u001b[0m\u001b[0;34m(\u001b[0m\u001b[0me\u001b[0m\u001b[0;34m.\u001b[0m\u001b[0mmessage\u001b[0m\u001b[0;34m)\u001b[0m\u001b[0;34m\u001b[0m\u001b[0m\n",
      "\u001b[0;32m/etc/anaconda3/lib/python3.6/site-packages/tensorflow/python/client/session.py\u001b[0m in \u001b[0;36m_run_fn\u001b[0;34m(feed_dict, fetch_list, target_list, options, run_metadata)\u001b[0m\n\u001b[1;32m   1305\u001b[0m       \u001b[0mself\u001b[0m\u001b[0;34m.\u001b[0m\u001b[0m_extend_graph\u001b[0m\u001b[0;34m(\u001b[0m\u001b[0;34m)\u001b[0m\u001b[0;34m\u001b[0m\u001b[0m\n\u001b[1;32m   1306\u001b[0m       return self._call_tf_sessionrun(\n\u001b[0;32m-> 1307\u001b[0;31m           options, feed_dict, fetch_list, target_list, run_metadata)\n\u001b[0m\u001b[1;32m   1308\u001b[0m \u001b[0;34m\u001b[0m\u001b[0m\n\u001b[1;32m   1309\u001b[0m     \u001b[0;32mdef\u001b[0m \u001b[0m_prun_fn\u001b[0m\u001b[0;34m(\u001b[0m\u001b[0mhandle\u001b[0m\u001b[0;34m,\u001b[0m \u001b[0mfeed_dict\u001b[0m\u001b[0;34m,\u001b[0m \u001b[0mfetch_list\u001b[0m\u001b[0;34m)\u001b[0m\u001b[0;34m:\u001b[0m\u001b[0;34m\u001b[0m\u001b[0m\n",
      "\u001b[0;32m/etc/anaconda3/lib/python3.6/site-packages/tensorflow/python/client/session.py\u001b[0m in \u001b[0;36m_call_tf_sessionrun\u001b[0;34m(self, options, feed_dict, fetch_list, target_list, run_metadata)\u001b[0m\n\u001b[1;32m   1407\u001b[0m       return tf_session.TF_SessionRun_wrapper(\n\u001b[1;32m   1408\u001b[0m           \u001b[0mself\u001b[0m\u001b[0;34m.\u001b[0m\u001b[0m_session\u001b[0m\u001b[0;34m,\u001b[0m \u001b[0moptions\u001b[0m\u001b[0;34m,\u001b[0m \u001b[0mfeed_dict\u001b[0m\u001b[0;34m,\u001b[0m \u001b[0mfetch_list\u001b[0m\u001b[0;34m,\u001b[0m \u001b[0mtarget_list\u001b[0m\u001b[0;34m,\u001b[0m\u001b[0;34m\u001b[0m\u001b[0m\n\u001b[0;32m-> 1409\u001b[0;31m           run_metadata)\n\u001b[0m\u001b[1;32m   1410\u001b[0m     \u001b[0;32melse\u001b[0m\u001b[0;34m:\u001b[0m\u001b[0;34m\u001b[0m\u001b[0m\n\u001b[1;32m   1411\u001b[0m       \u001b[0;32mwith\u001b[0m \u001b[0merrors\u001b[0m\u001b[0;34m.\u001b[0m\u001b[0mraise_exception_on_not_ok_status\u001b[0m\u001b[0;34m(\u001b[0m\u001b[0;34m)\u001b[0m \u001b[0;32mas\u001b[0m \u001b[0mstatus\u001b[0m\u001b[0;34m:\u001b[0m\u001b[0;34m\u001b[0m\u001b[0m\n",
      "\u001b[0;31mKeyboardInterrupt\u001b[0m: "
     ]
    }
   ],
   "source": [
    "for epoch in range(300):\n",
    "    \n",
    "    train_avg_loss, train_avg_acc = 0, 0\n",
    "    \n",
    "    for it in range(train_total_batch):\n",
    "        train_x_txt, length, train_y = data.get_train(BATCH_SIZE)\n",
    "        \n",
    "        loss, acc, _, = sess.run([lstm_model.loss, lstm_model.accuracy, lstm_model.update],\n",
    "                            feed_dict={lstm_model.x: train_x_txt, lstm_model.x_len: length, lstm_model.y: train_y, lstm_model.keep_prob: 0.8})\n",
    "        \n",
    "        train_avg_loss += loss / train_total_batch\n",
    "        train_avg_acc += acc / train_total_batch\n",
    "        \n",
    "        #if it % 10 == 0 and it > 0:\n",
    "            #model.save(sess)\n",
    "            #print(\"* train_loss: {:.8f}, train_acc: {:.8f}\".format(loss/BATCH_SIZE, acc))\n",
    "            \n",
    "        #if it % 20 == 0 and it > 0:\n",
    "            #model.save(sess)\n",
    "            #test_avg_loss, test_avg_acc = test_model()\n",
    "            #print(\"** 100 test_loss: {:.8f}, test_acc: {:.8f}\".format(test_avg_loss, test_avg_acc))\n",
    "        \n",
    "    test_avg_loss, test_avg_acc = test_model()\n",
    "    \n",
    "    train_acc_summary.append(train_avg_acc)\n",
    "    test_acc_summary.append(test_avg_acc)\n",
    "    train_loss_summary.append(train_avg_loss)\n",
    "    test_loss_summary.append(test_avg_loss)\n",
    "    #hypothesis_summary.append(hypothesis_)\n",
    "    \n",
    "    print(\"epoch {} - train_loss: {:.8f}, train_acc: {:.8f}, test_loss: {:.8f}, test_acc: {:.8f}\"\n",
    "          .format(epoch+1, train_avg_loss, train_avg_acc, test_avg_loss, test_avg_acc))  "
   ]
  },
  {
   "cell_type": "code",
   "execution_count": null,
   "metadata": {},
   "outputs": [],
   "source": [
    "print('Max Train Accuracy {:.2f}%'.format(np.max(train_acc_summary)))\n",
    "print('Max Test Accuracy {:.2f}%'.format(np.max(test_acc_summary)))\n",
    "\n",
    "import matplotlib.pyplot as plt\n",
    "\n",
    "# Get the figure and the axes\n",
    "fig, (acc, loss) = plt.subplots(nrows=1,ncols=2, sharey=False, figsize=(15, 5))\n",
    "\n",
    "# 첫번째 그래프\n",
    "acc.plot(train_acc_summary, 'r', label='train')\n",
    "acc.plot(test_acc_summary, 'b', label='test')\n",
    "acc.legend(loc='upper left', frameon=False)\n",
    "acc.set(title='Accuracy', xlabel='Epoch', ylabel='Accuracy')\n",
    "\n",
    "# 두번째 그래프\n",
    "loss.plot(train_loss_summary, 'r', label='train')\n",
    "loss.plot(test_loss_summary, 'b', label='test')\n",
    "loss.legend(loc='upper left', frameon=False)\n",
    "loss.set(title='Loss', xlabel='Epoch', ylabel='Accuracy')\n",
    "\n",
    "# Title the figure\n",
    "fig.suptitle('TEST', fontsize=14, fontweight='bold')"
   ]
  },
  {
   "cell_type": "code",
   "execution_count": null,
   "metadata": {},
   "outputs": [],
   "source": [
    "#model.restore(sess)"
   ]
  },
  {
   "cell_type": "code",
   "execution_count": null,
   "metadata": {},
   "outputs": [],
   "source": [
    "#test_avg_loss, test_avg_acc = test_model()\n",
    "#test_avg_acc"
   ]
  },
  {
   "cell_type": "code",
   "execution_count": null,
   "metadata": {},
   "outputs": [],
   "source": [
    "hypothesis_summary[-1]"
   ]
  },
  {
   "cell_type": "code",
   "execution_count": null,
   "metadata": {},
   "outputs": [],
   "source": [
    "w = hypothesis_summary[-1]\n",
    "print(w.shape)\n",
    "w = w.reshape(134,91,3,4)\n",
    "\n",
    "w_min, w_max = np.min(w), np.max(w)\n",
    "\n",
    "classes = ['Romance', 'Horror', 'Adventure', 'Documentary']\n",
    "for i in range(4):\n",
    "    plt.subplot(2,5,i+1)\n",
    "    \n",
    "    wimg=255.0*(w[:,:,:,i].squeeze() - w_min)/(w_max-w_min)\n",
    "    plt.imshow(wimg.astype('uint8'))\n",
    "    plt.axis('off')\n",
    "    plt.title(classes[i])"
   ]
  },
  {
   "cell_type": "code",
   "execution_count": null,
   "metadata": {},
   "outputs": [],
   "source": [
    "w = best_softmax.Weights[:-1, :]\n",
    "w = w.reshape(32,32,3,10)\n",
    "\n",
    "w_min, w_max = np.min(w), np.max(w)\n",
    "\n",
    "classes = ['plane', 'car', 'bird', 'cat', 'deer', 'dog', 'frog', 'horse', 'ship', 'truck']\n",
    "for i in range(10):\n",
    "    plt.subplot(2,5,i+1)\n",
    "    \n",
    "    wimg=255.0*(w[:,:,:,i].squeeze() - w_min)/(w_max-w_min)\n",
    "    plt.imshow(wimg.astype('uint8'))\n",
    "    plt.axis('off')\n",
    "    plt.title(classes[i])"
   ]
  },
  {
   "cell_type": "code",
   "execution_count": null,
   "metadata": {},
   "outputs": [],
   "source": [
    "tt = tf.nn.softmax()"
   ]
  },
  {
   "cell_type": "code",
   "execution_count": null,
   "metadata": {},
   "outputs": [],
   "source": []
  }
 ],
 "metadata": {
  "kernelspec": {
   "display_name": "Python 3",
   "language": "python",
   "name": "python3"
  },
  "language_info": {
   "codemirror_mode": {
    "name": "ipython",
    "version": 3
   },
   "file_extension": ".py",
   "mimetype": "text/x-python",
   "name": "python",
   "nbconvert_exporter": "python",
   "pygments_lexer": "ipython3",
   "version": "3.6.4"
  }
 },
 "nbformat": 4,
 "nbformat_minor": 2
}
