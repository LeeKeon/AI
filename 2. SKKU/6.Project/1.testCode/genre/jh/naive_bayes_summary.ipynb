{
 "cells": [
  {
   "cell_type": "code",
   "execution_count": 6,
   "metadata": {},
   "outputs": [],
   "source": [
    "import nltk\n",
    "import numpy as np\n",
    "import os\n",
    "import re\n",
    "from sklearn.cross_validation import train_test_split\n",
    "from sklearn.naive_bayes import MultinomialNB\n",
    "from sklearn.feature_extraction.text import TfidfVectorizer, CountVectorizer\n",
    "from nltk.stem.snowball import SnowballStemmer\n",
    "from sklearn.metrics import accuracy_score\n",
    "\n",
    "stemmer = SnowballStemmer('english')\n",
    "def tokenize_stem(text):\n",
    "    tokens = [word for sent in nltk.sent_tokenize(text) for word in nltk.word_tokenize(sent)]\n",
    "    # print(tokens)\n",
    "    final_tokens = []\n",
    "    for token in tokens:\n",
    "#         if re.search('[a-zA-Z]', token):\n",
    "            # print(token)\n",
    "        final_tokens.append(token)\n",
    "    stems = [stemmer.stem(t) for t in final_tokens]\n",
    "\n",
    "    return final_tokens #stems\n",
    "\n",
    "path=\"../dataset/poster_txt\"\n",
    "adventure_list = os.listdir(path + \"/Adventure\")\n",
    "documentary_list = os.listdir(path + \"/Documentary\")\n",
    "horror_list = os.listdir(path + \"/Horror\")\n",
    "romance_list = os.listdir(path + \"/Romance\")\n",
    "\n",
    "size = min(len(adventure_list), len(documentary_list), len(horror_list), len(romance_list))\n",
    "lines = []\n",
    "label = []\n",
    "for i in range(size):\n",
    "    with open(path + \"/Adventure/\" + adventure_list[i], \"r\", encoding=\"utf-8\") as fin:\n",
    "        lines.append(fin.readline())\n",
    "        label.append('Adventure')\n",
    "    with open(path + \"/Documentary/\" + documentary_list[i], \"r\", encoding=\"utf-8\") as fin:\n",
    "        lines.append(fin.readline())\n",
    "        label.append('Documentary')\n",
    "    with open(path + \"/Horror/\" + horror_list[i], \"r\", encoding=\"utf-8\") as fin:\n",
    "        lines.append(fin.readline())\n",
    "        label.append('Horror')\n",
    "    with open(path + \"/Romance/\" + romance_list[i], \"r\", encoding=\"utf-8\") as fin:\n",
    "        lines.append(fin.readline())\n",
    "        label.append('Romance')\n",
    "\n",
    "\n",
    "\n",
    "\n"
   ]
  },
  {
   "cell_type": "code",
   "execution_count": 7,
   "metadata": {},
   "outputs": [
    {
     "name": "stdout",
     "output_type": "stream",
     "text": [
      "Max_df : 1.0, Min_df: 0.3, Accuracy: 0.4467\n",
      "Max_df : 1.0, Min_df: 0.2, Accuracy: 0.5067\n",
      "Max_df : 1.0, Min_df: 0.1, Accuracy: 0.5558\n",
      "Max_df : 1.0, Min_df: 0.0, Accuracy: 0.8208\n",
      "Max_df : 0.9, Min_df: 0.3, Accuracy: 0.4533\n",
      "Max_df : 0.9, Min_df: 0.2, Accuracy: 0.5017\n",
      "Max_df : 0.9, Min_df: 0.1, Accuracy: 0.5350\n",
      "Max_df : 0.9, Min_df: 0.0, Accuracy: 0.8250\n",
      "Max_df : 0.8, Min_df: 0.3, Accuracy: 0.4200\n",
      "Max_df : 0.8, Min_df: 0.2, Accuracy: 0.4733\n",
      "Max_df : 0.8, Min_df: 0.1, Accuracy: 0.5342\n",
      "Max_df : 0.8, Min_df: 0.0, Accuracy: 0.8308\n"
     ]
    }
   ],
   "source": [
    "for maxdf in [1.0, 0.9, 0.8]:\n",
    "    for mindf in [0.3, 0.2, 0.1, 0.0]:\n",
    "        tfidf_vectorizer = TfidfVectorizer(max_features=20000,  max_df=maxdf, min_df=mindf, tokenizer=tokenize_stem)\n",
    "        tfidf_matrix = tfidf_vectorizer.fit_transform(lines)\n",
    "\n",
    "        X_train, X_test, Y_train, Y_test = train_test_split(tfidf_matrix, label, test_size = 0.2)\n",
    "\n",
    "        mnb= MultinomialNB()\n",
    "        mnb.fit(X_train, Y_train)\n",
    "\n",
    "        pred = mnb.predict(X_test)\n",
    "        accuracy = accuracy_score(Y_test, pred)\n",
    "        print(\"Max_df : {:.1f}, Min_df: {:.1f}, Accuracy: {:.4f}\".format(maxdf, mindf, accuracy))"
   ]
  },
  {
   "cell_type": "code",
   "execution_count": 3,
   "metadata": {},
   "outputs": [
    {
     "name": "stdout",
     "output_type": "stream",
     "text": [
      "Max_df : 1.0, Min_df: 0.3, Accuracy: 0.2472\n",
      "Max_df : 1.0, Min_df: 0.2, Accuracy: 0.2383\n",
      "Max_df : 1.0, Min_df: 0.1, Accuracy: 0.4328\n",
      "Max_df : 1.0, Min_df: 0.0, Accuracy: 0.8261\n",
      "Max_df : 0.9, Min_df: 0.3, Accuracy: 0.2472\n",
      "Max_df : 0.9, Min_df: 0.2, Accuracy: 0.2444\n",
      "Max_df : 0.9, Min_df: 0.1, Accuracy: 0.4017\n",
      "Max_df : 0.9, Min_df: 0.0, Accuracy: 0.8167\n",
      "Max_df : 0.8, Min_df: 0.3, Accuracy: 0.2433\n",
      "Max_df : 0.8, Min_df: 0.2, Accuracy: 0.2389\n",
      "Max_df : 0.8, Min_df: 0.1, Accuracy: 0.4367\n",
      "Max_df : 0.8, Min_df: 0.0, Accuracy: 0.8183\n"
     ]
    }
   ],
   "source": [
    "\n",
    "\n",
    "for maxdf in [1.0, 0.9, 0.8]:\n",
    "    for mindf in [0.3, 0.2, 0.1, 0.0]:\n",
    "        count_vectorizer = CountVectorizer(max_features=50000,  max_df = maxdf, min_df = mindf, stop_words='english', tokenizer=tokenize_stem)\n",
    "        count_matrix = count_vectorizer.fit_transform(lines)\n",
    "\n",
    "        X_train, X_test, Y_train, Y_test = train_test_split(count_matrix, label, test_size = 0.3)\n",
    "\n",
    "        mnb= MultinomialNB()\n",
    "        mnb.fit(X_train, Y_train)\n",
    "\n",
    "        pred = mnb.predict(X_test)\n",
    "        accuracy = accuracy_score(Y_test, pred)\n",
    "        print(\"Max_df : {:.1f}, Min_df: {:.1f}, Accuracy: {:.4f}\".format(maxdf, mindf, accuracy))\n"
   ]
  },
  {
   "cell_type": "code",
   "execution_count": null,
   "metadata": {},
   "outputs": [],
   "source": [
    "mnb= MultinomialNB()\n",
    "mnb.fit(X_train, Y_train)"
   ]
  },
  {
   "cell_type": "code",
   "execution_count": null,
   "metadata": {},
   "outputs": [],
   "source": [
    "pred = mnb.predict(X_test)\n",
    "\n",
    "accuracy = accuracy_score(Y_test, pred)\n",
    "print(\"%.6f\"%accuracy)"
   ]
  },
  {
   "cell_type": "code",
   "execution_count": null,
   "metadata": {},
   "outputs": [],
   "source": []
  }
 ],
 "metadata": {
  "kernelspec": {
   "display_name": "Python 3",
   "language": "python",
   "name": "python3"
  },
  "language_info": {
   "codemirror_mode": {
    "name": "ipython",
    "version": 3
   },
   "file_extension": ".py",
   "mimetype": "text/x-python",
   "name": "python",
   "nbconvert_exporter": "python",
   "pygments_lexer": "ipython3",
   "version": "3.6.4"
  }
 },
 "nbformat": 4,
 "nbformat_minor": 2
}
