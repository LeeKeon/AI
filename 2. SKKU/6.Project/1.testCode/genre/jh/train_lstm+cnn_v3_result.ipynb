{
 "cells": [
  {
   "cell_type": "code",
   "execution_count": 1,
   "metadata": {},
   "outputs": [
    {
     "name": "stderr",
     "output_type": "stream",
     "text": [
      "/etc/anaconda3/lib/python3.6/site-packages/h5py/__init__.py:36: FutureWarning: Conversion of the second argument of issubdtype from `float` to `np.floating` is deprecated. In future, it will be treated as `np.float64 == np.dtype(float).type`.\n",
      "  from ._conv import register_converters as _register_converters\n"
     ]
    }
   ],
   "source": [
    "# -*- coding: utf-8 -*-\n",
    "\n",
    "import os\n",
    "os.environ['CUDA_VISIBLE_DEVICES'] = \"2\"\n",
    "\n",
    "import tensorflow as tf\n",
    "import numpy as np\n",
    "import time\n",
    "\n",
    "def initialize_session():\n",
    "    config = tf.ConfigProto()\n",
    "    config.gpu_options.per_process_gpu_memory_fraction = 0.4\n",
    "    return tf.Session(config=config)\n"
   ]
  },
  {
   "cell_type": "code",
   "execution_count": 2,
   "metadata": {},
   "outputs": [
    {
     "name": "stderr",
     "output_type": "stream",
     "text": [
      "Using TensorFlow backend.\n"
     ]
    },
    {
     "name": "stdout",
     "output_type": "stream",
     "text": [
      "x_train size 4800\n",
      "y_train size 4800\n",
      "x_test  size 1200\n",
      "y_test  size 1200\n",
      "x_ids_train  size 4800\n",
      "x_len_train  size 4800\n",
      "x_ids_test  size 1200\n",
      "x_len_test  size 1200\n",
      "(?, 128)\n"
     ]
    }
   ],
   "source": [
    "##################################################\n",
    "BATCH_SIZE = 100\n",
    "class_size = 4\n",
    "learning_rate = 0.0005   # Learning rate\n",
    "use_clip = True         # Gradient clipping 쓸지 여부\n",
    "train_keep_prob = 0.7\n",
    "max_len = 200           # sequence 단어 수 제한\n",
    "max_vocab = 40000       # maximum 단어 개수\n",
    "emb_dim = 128            # 단어 embedding dimension\n",
    "hidden_dim = 128        # RNN hidden dim\n",
    "train_acc_summary = [] # 학습용 데이터의 정확도를 중간 중간 기록한다\n",
    "test_acc_summary = []  # 테스트용 데이터의 정확도를 중간 중간 기록한다\n",
    "train_loss_summary = [] # 학습용 데이터의 정확도를 중간 중간 기록한다\n",
    "test_loss_summary = []  # 테스트용 데이터의 정확도를 중간 중간 기록한다\n",
    "hypothesis_summary = []\n",
    "##################################################\n",
    "from ensemble_loader import movie_data\n",
    "data = movie_data(max_vocab=max_vocab, max_len=max_len)\n",
    "\n",
    "train_total_batch = int(data.train_size / BATCH_SIZE)\n",
    "test_total_batch = int(data.test_size / BATCH_SIZE)\n",
    "\n",
    "from genre_ensemble_model_v3 import Model\n",
    "model = Model(max_len=max_len,\n",
    "              emb_dim=emb_dim,\n",
    "              hidden_dim=hidden_dim,\n",
    "              vocab_size=max_vocab,\n",
    "              class_size=class_size,\n",
    "              use_clip=True, learning_rate=learning_rate)\n",
    "\n",
    "sess = initialize_session()\n",
    "sess.run(tf.global_variables_initializer())"
   ]
  },
  {
   "cell_type": "code",
   "execution_count": 3,
   "metadata": {},
   "outputs": [
    {
     "name": "stdout",
     "output_type": "stream",
     "text": [
      " - Restoring variables...\n",
      "WARNING:tensorflow:From /home/eve/Team8/genre/jh/genre_ensemble_model_v3.py:148: all_variables (from tensorflow.python.ops.variables) is deprecated and will be removed after 2017-03-02.\n",
      "Instructions for updating:\n",
      "Please use tf.global_variables instead.\n",
      "INFO:tensorflow:Restoring parameters from models/model\n",
      " * model restored \n"
     ]
    }
   ],
   "source": [
    "model.restore(sess)"
   ]
  },
  {
   "cell_type": "code",
   "execution_count": 4,
   "metadata": {},
   "outputs": [
    {
     "data": {
      "text/plain": [
       "100"
      ]
     },
     "execution_count": 4,
     "metadata": {},
     "output_type": "execute_result"
    }
   ],
   "source": [
    "BATCH_SIZE"
   ]
  },
  {
   "cell_type": "code",
   "execution_count": 64,
   "metadata": {},
   "outputs": [],
   "source": [
    "def test_model():\n",
    "    test_loss, test_acc = 0, 0\n",
    "    t_result = []\n",
    "    f_result = []\n",
    "    hypothesys_true = []\n",
    "    hypothesys_false = []\n",
    "    for _ in range(test_total_batch):\n",
    "        test_movieid = data.get_test_movieid(BATCH_SIZE)\n",
    "        test_x_img, test_ids, test_length, test_y = data.get_test(BATCH_SIZE)\n",
    "        \n",
    "\n",
    "        _hypothesys, pred = sess.run([model.genre_prob, model.y_pred],\n",
    "                              feed_dict={model.x_image: test_x_img, model.x_ids: test_ids, model.x_len: test_length,\n",
    "                              model.y_label: test_y, model.keep_prob : 1.0, model.is_training:False})\n",
    "        \n",
    "\n",
    "        for i, p in enumerate(pred):\n",
    "            if test_y[i] == p:\n",
    "                t_result.append((p, test_y[i], test_movieid[i], i))\n",
    "                hypothesys_true.append(_hypothesys[i])\n",
    "            else:\n",
    "                f_result.append((p, test_y[i], test_movieid[i], i))\n",
    "                hypothesys_false.append(_hypothesys[i])\n",
    "\n",
    "    return t_result, hypothesys_true, f_result, hypothesys_false"
   ]
  },
  {
   "cell_type": "code",
   "execution_count": 65,
   "metadata": {},
   "outputs": [],
   "source": [
    "t_result, hypothesys_t, f_result,  hypothesys_f= test_model()"
   ]
  },
  {
   "cell_type": "code",
   "execution_count": 66,
   "metadata": {},
   "outputs": [
    {
     "data": {
      "text/plain": [
       "'Horror'"
      ]
     },
     "execution_count": 66,
     "metadata": {},
     "output_type": "execute_result"
    }
   ],
   "source": [
    "data.movieid_2_genre[1712159]"
   ]
  },
  {
   "cell_type": "code",
   "execution_count": 67,
   "metadata": {},
   "outputs": [
    {
     "data": {
      "text/plain": [
       "{0: 'Romance', 1: 'Horror', 2: 'Adventure', 3: 'Documentary'}"
      ]
     },
     "execution_count": 67,
     "metadata": {},
     "output_type": "execute_result"
    }
   ],
   "source": [
    "data.labelid_2_genre"
   ]
  },
  {
   "cell_type": "code",
   "execution_count": 48,
   "metadata": {},
   "outputs": [
    {
     "data": {
      "text/plain": [
       "(3, 354623, 76)"
      ]
     },
     "execution_count": 48,
     "metadata": {},
     "output_type": "execute_result"
    }
   ],
   "source": [
    "#romance\n",
    " (0, 0, 2994832, 5),\n",
    " (0, 0, 126916, 31),\n",
    "\n",
    "#Horror\n",
    " (1, 1, 376650, 24),\n",
    "(1, 1, 1179056, 62),\n",
    "\n",
    "#Adventure\n",
    " (2, 2, 2312390, 65),\n",
    " (2, 2, 98205, 72),\n",
    "\n",
    "#Documentary\n",
    " (3, 3, 4477936, 79),\n",
    " (3, 3, 1597089, 84),"
   ]
  },
  {
   "cell_type": "code",
   "execution_count": 81,
   "metadata": {},
   "outputs": [
    {
     "name": "stdout",
     "output_type": "stream",
     "text": [
      "216 230 197 242\n"
     ]
    }
   ],
   "source": [
    "t_result\n",
    "c1, c2, c3, c4 = 0, 0, 0, 0\n",
    "for a, b, c, d in t_result:\n",
    "    if a == 0:\n",
    "        c1 += 1\n",
    "    elif a == 1:\n",
    "        c2 += 1\n",
    "    elif a == 2:\n",
    "        c3 += 1\n",
    "    elif a == 3:\n",
    "        c4 += 1\n",
    "\n",
    "print(c1, c2, c3, c4)"
   ]
  },
  {
   "cell_type": "code",
   "execution_count": 43,
   "metadata": {},
   "outputs": [
    {
     "data": {
      "text/plain": [
       "(3, 118949, 79)"
      ]
     },
     "execution_count": 43,
     "metadata": {},
     "output_type": "execute_result"
    }
   ],
   "source": [
    "#romance\n",
    "(2, 0, 284837, 42)\n",
    "(3, 0, 3142232, 22)\n",
    "\n",
    "#Horror\n",
    "(2, 1, 239641, 96)\n",
    "(0, 1, 74287, 97)\n",
    "\n",
    "#Adventure\n",
    "(0, 2, 823451, 71)\n",
    "(1, 2, 1228915, 9)\n",
    "\n",
    "#Documentary\n",
    "(2, 3, 1581829, 83)\n",
    "(0, 3, 1495768, 79)"
   ]
  },
  {
   "cell_type": "code",
   "execution_count": 76,
   "metadata": {},
   "outputs": [
    {
     "data": {
      "text/plain": [
       "1"
      ]
     },
     "execution_count": 76,
     "metadata": {},
     "output_type": "execute_result"
    }
   ],
   "source": [
    "f_result[0]"
   ]
  },
  {
   "cell_type": "code",
   "execution_count": 56,
   "metadata": {},
   "outputs": [
    {
     "data": {
      "text/plain": [
       "array([5.9403926e-03, 1.0189525e-03, 9.9237436e-01, 6.6630985e-04],\n",
       "      dtype=float32)"
      ]
     },
     "execution_count": 56,
     "metadata": {},
     "output_type": "execute_result"
    }
   ],
   "source": [
    "hypothesys_f[36]"
   ]
  },
  {
   "cell_type": "code",
   "execution_count": 75,
   "metadata": {},
   "outputs": [
    {
     "data": {
      "text/plain": [
       "tuple"
      ]
     },
     "execution_count": 75,
     "metadata": {},
     "output_type": "execute_result"
    }
   ],
   "source": [
    "type(f_result[0])"
   ]
  },
  {
   "cell_type": "code",
   "execution_count": 86,
   "metadata": {},
   "outputs": [
    {
     "name": "stdout",
     "output_type": "stream",
     "text": [
      "7 2 25 0\n"
     ]
    }
   ],
   "source": [
    "c1, c2, c3, c4 = 0, 0, 0, 0\n",
    "for a, b, c, d in f_result:\n",
    "    if a == 3:\n",
    "        if b == 0:\n",
    "            c1 +=1\n",
    "        elif b == 1:\n",
    "            c2 +=1\n",
    "        elif b == 2:\n",
    "            c3 +=1\n",
    "\n",
    "print(c1, c2, c3, c4)"
   ]
  },
  {
   "cell_type": "code",
   "execution_count": 103,
   "metadata": {},
   "outputs": [],
   "source": [
    "import matplotlib.pyplot as plt\n",
    "import numpy as np\n",
    "import pandas as pd\n",
    "import seaborn as sn"
   ]
  },
  {
   "cell_type": "code",
   "execution_count": 111,
   "metadata": {},
   "outputs": [
    {
     "data": {
      "text/plain": [
       "<matplotlib.axes._subplots.AxesSubplot at 0x7f62043d3860>"
      ]
     },
     "execution_count": 111,
     "metadata": {},
     "output_type": "execute_result"
    },
    {
     "data": {
      "image/png": "[encoded data removed]",
      "text/plain": [
       "<matplotlib.figure.Figure at 0x7f620438a5f8>"
      ]
     },
     "metadata": {},
     "output_type": "display_data"
    }
   ],
   "source": [
    "m = [[221,19,38,7],\n",
    "     [20,241,45,2],\n",
    "    [38,19, 209,25],\n",
    "    [13,6,40,242],]\n",
    "df_cm = pd.DataFrame(m, index=[\"Romance\", \"Horror\", \"Adventure\", \"Documentary\"], \n",
    "                     columns=[\"Romance\", \"Horror\", \"Adventure\", \"Documentary\"])\n",
    "#plt.figure(figsize = (10,7))\n",
    "sn.set(font_scale=1.5)#for label size\n",
    "sn.heatmap(df_cm, annot=True,annot_kws={\"size\": 14})# font size"
   ]
  },
  {
   "cell_type": "code",
   "execution_count": null,
   "metadata": {},
   "outputs": [],
   "source": []
  }
 ],
 "metadata": {
  "kernelspec": {
   "display_name": "Python 3",
   "language": "python",
   "name": "python3"
  },
  "language_info": {
   "codemirror_mode": {
    "name": "ipython",
    "version": 3
   },
   "file_extension": ".py",
   "mimetype": "text/x-python",
   "name": "python",
   "nbconvert_exporter": "python",
   "pygments_lexer": "ipython3",
   "version": "3.6.4"
  }
 },
 "nbformat": 4,
 "nbformat_minor": 2
}
