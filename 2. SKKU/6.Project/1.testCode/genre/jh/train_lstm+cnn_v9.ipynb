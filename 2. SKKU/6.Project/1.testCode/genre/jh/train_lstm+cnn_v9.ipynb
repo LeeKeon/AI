{
 "cells": [
  {
   "cell_type": "code",
   "execution_count": 1,
   "metadata": {},
   "outputs": [
    {
     "name": "stderr",
     "output_type": "stream",
     "text": [
      "/etc/anaconda3/lib/python3.6/site-packages/h5py/__init__.py:36: FutureWarning: Conversion of the second argument of issubdtype from `float` to `np.floating` is deprecated. In future, it will be treated as `np.float64 == np.dtype(float).type`.\n",
      "  from ._conv import register_converters as _register_converters\n"
     ]
    }
   ],
   "source": [
    "# -*- coding: utf-8 -*-\n",
    "\n",
    "import os\n",
    "os.environ['CUDA_VISIBLE_DEVICES'] = \"2\"\n",
    "\n",
    "import tensorflow as tf\n",
    "import numpy as np\n",
    "import time\n",
    "\n",
    "def initialize_session():\n",
    "    config = tf.ConfigProto()\n",
    "    config.gpu_options.per_process_gpu_memory_fraction = 0.4\n",
    "    return tf.Session(config=config)\n"
   ]
  },
  {
   "cell_type": "code",
   "execution_count": 2,
   "metadata": {},
   "outputs": [
    {
     "name": "stderr",
     "output_type": "stream",
     "text": [
      "Using TensorFlow backend.\n"
     ]
    },
    {
     "name": "stdout",
     "output_type": "stream",
     "text": [
      "x_train size 4800\n",
      "y_train size 4800\n",
      "x_test  size 1200\n",
      "y_test  size 1200\n",
      "x_ids_train  size 4800\n",
      "x_len_train  size 4800\n",
      "x_ids_test  size 1200\n",
      "x_len_test  size 1200\n"
     ]
    }
   ],
   "source": [
    "##################################################\n",
    "BATCH_SIZE = 100\n",
    "class_size = 4\n",
    "learning_rate = 0.0003   # Learning rate\n",
    "use_clip = True         # Gradient clipping 쓸지 여부\n",
    "train_keep_prob = 0.7\n",
    "max_len = 500           # sequence 단어 수 제한\n",
    "max_vocab = 40000       # maximum 단어 개수\n",
    "emb_dim = 128            # 단어 embedding dimension\n",
    "hidden_dim = 128        # RNN hidden dim\n",
    "train_acc_summary = [] # 학습용 데이터의 정확도를 중간 중간 기록한다\n",
    "test_acc_summary = []  # 테스트용 데이터의 정확도를 중간 중간 기록한다\n",
    "train_loss_summary = [] # 학습용 데이터의 정확도를 중간 중간 기록한다\n",
    "test_loss_summary = []  # 테스트용 데이터의 정확도를 중간 중간 기록한다\n",
    "hypothesis_summary = []\n",
    "##################################################\n",
    "from ensemble_loader import movie_data\n",
    "data = movie_data(max_vocab=max_vocab, max_len=max_len)\n",
    "\n",
    "train_total_batch = int(data.train_size / BATCH_SIZE)\n",
    "test_total_batch = int(data.test_size / BATCH_SIZE)\n",
    "\n",
    "from genre_ensemble_model_v9 import Model\n",
    "model = Model(max_len=max_len,\n",
    "              emb_dim=emb_dim,\n",
    "              hidden_dim=hidden_dim,\n",
    "              vocab_size=max_vocab,\n",
    "              class_size=class_size,\n",
    "              use_clip=True, learning_rate=learning_rate)\n",
    "\n",
    "sess = initialize_session()\n",
    "sess.run(tf.global_variables_initializer())"
   ]
  },
  {
   "cell_type": "code",
   "execution_count": 3,
   "metadata": {},
   "outputs": [],
   "source": [
    "def test_model():\n",
    "    test_loss, test_acc = 0, 0\n",
    "\n",
    "    for _ in range(test_total_batch):\n",
    "        test_x_img, test_ids, test_length, test_y = data.get_test(BATCH_SIZE)\n",
    "\n",
    "        loss, acc = sess.run([model.loss, model.accuracy],\n",
    "                              feed_dict={model.x_image: test_x_img, model.x_ids: test_ids, model.x_len: test_length,\n",
    "                              model.y_label: test_y, model.keep_prob : 1.0, model.is_training:False})\n",
    "        test_loss += loss\n",
    "        test_acc += acc\n",
    "\n",
    "    return test_loss/test_total_batch, test_acc/test_total_batch\n",
    "    #print(\" * test loss: {:.3f} | test acc: {:.3f}\\n\".format(test_loss / test_cnt, sess.run(model.accuracy, feed_dict={model.x_image: test_x, model.y_label: test_label})))\n",
    "\n",
    "\n"
   ]
  },
  {
   "cell_type": "code",
   "execution_count": 4,
   "metadata": {},
   "outputs": [
    {
     "name": "stdout",
     "output_type": "stream",
     "text": [
      "epoch 1 - train_loss: 1.3145, train_acc: 0.3800, test_loss: 1.1980, test_acc: 0.4617\n",
      "epoch 2 - train_loss: 1.0578, train_acc: 0.5631, test_loss: 0.9862, test_acc: 0.6167\n",
      "epoch 3 - train_loss: 0.8422, train_acc: 0.7094, test_loss: 0.8869, test_acc: 0.6808\n",
      "epoch 4 - train_loss: 0.6835, train_acc: 0.8081, test_loss: 0.8691, test_acc: 0.6925\n",
      "epoch 5 - train_loss: 0.5558, train_acc: 0.8827, test_loss: 0.9016, test_acc: 0.6858\n",
      "epoch 6 - train_loss: 0.4876, train_acc: 0.9281, test_loss: 0.9226, test_acc: 0.6758\n",
      "epoch 7 - train_loss: 0.4697, train_acc: 0.9325, test_loss: 0.9059, test_acc: 0.6825\n",
      "epoch 8 - train_loss: 0.4409, train_acc: 0.9554, test_loss: 0.9238, test_acc: 0.6992\n",
      "epoch 9 - train_loss: 0.4134, train_acc: 0.9719, test_loss: 0.8806, test_acc: 0.7208\n",
      "epoch 10 - train_loss: 0.4047, train_acc: 0.9796, test_loss: 0.9049, test_acc: 0.7142\n",
      "epoch 11 - train_loss: 0.3974, train_acc: 0.9835, test_loss: 0.8704, test_acc: 0.7267\n",
      "epoch 12 - train_loss: 0.3922, train_acc: 0.9856, test_loss: 0.8880, test_acc: 0.7283\n",
      "epoch 13 - train_loss: 0.3873, train_acc: 0.9879, test_loss: 0.9832, test_acc: 0.6975\n",
      "epoch 14 - train_loss: 0.3872, train_acc: 0.9852, test_loss: 0.9078, test_acc: 0.7200\n",
      "epoch 15 - train_loss: 0.3817, train_acc: 0.9900, test_loss: 0.9068, test_acc: 0.7258\n",
      "epoch 16 - train_loss: 0.3794, train_acc: 0.9906, test_loss: 0.9178, test_acc: 0.7258\n",
      "epoch 17 - train_loss: 0.3773, train_acc: 0.9906, test_loss: 0.9273, test_acc: 0.7267\n",
      "epoch 18 - train_loss: 0.3760, train_acc: 0.9906, test_loss: 0.9337, test_acc: 0.7250\n",
      "epoch 19 - train_loss: 0.3736, train_acc: 0.9906, test_loss: 0.9378, test_acc: 0.7233\n",
      "epoch 20 - train_loss: 0.3723, train_acc: 0.9910, test_loss: 0.9422, test_acc: 0.7225\n",
      "epoch 21 - train_loss: 0.3705, train_acc: 0.9910, test_loss: 0.9464, test_acc: 0.7208\n",
      "epoch 22 - train_loss: 0.3697, train_acc: 0.9910, test_loss: 0.9481, test_acc: 0.7200\n",
      "epoch 23 - train_loss: 0.3681, train_acc: 0.9910, test_loss: 0.9533, test_acc: 0.7183\n",
      "epoch 24 - train_loss: 0.3667, train_acc: 0.9910, test_loss: 0.9549, test_acc: 0.7158\n",
      "epoch 25 - train_loss: 0.3651, train_acc: 0.9910, test_loss: 0.9570, test_acc: 0.7133\n",
      "epoch 26 - train_loss: 0.3637, train_acc: 0.9910, test_loss: 0.9608, test_acc: 0.7125\n",
      "epoch 27 - train_loss: 0.3625, train_acc: 0.9910, test_loss: 0.9648, test_acc: 0.7133\n",
      "epoch 28 - train_loss: 0.3609, train_acc: 0.9913, test_loss: 0.9702, test_acc: 0.7142\n",
      "epoch 29 - train_loss: 0.3600, train_acc: 0.9913, test_loss: 0.9692, test_acc: 0.7167\n",
      "epoch 30 - train_loss: 0.3584, train_acc: 0.9917, test_loss: 0.9663, test_acc: 0.7150\n",
      "epoch 31 - train_loss: 0.3575, train_acc: 0.9917, test_loss: 0.9740, test_acc: 0.7142\n",
      "epoch 32 - train_loss: 0.3567, train_acc: 0.9917, test_loss: 0.9827, test_acc: 0.7125\n",
      "epoch 33 - train_loss: 0.3543, train_acc: 0.9917, test_loss: 0.9934, test_acc: 0.7133\n",
      "epoch 34 - train_loss: 0.3538, train_acc: 0.9919, test_loss: 0.9958, test_acc: 0.7150\n",
      "epoch 35 - train_loss: 0.3532, train_acc: 0.9921, test_loss: 1.0073, test_acc: 0.7133\n",
      "epoch 36 - train_loss: 0.3520, train_acc: 0.9919, test_loss: 1.0081, test_acc: 0.7142\n",
      "epoch 37 - train_loss: 0.3506, train_acc: 0.9917, test_loss: 1.0140, test_acc: 0.7142\n",
      "epoch 38 - train_loss: 0.3489, train_acc: 0.9919, test_loss: 1.0182, test_acc: 0.7158\n",
      "epoch 39 - train_loss: 0.3478, train_acc: 0.9919, test_loss: 1.0187, test_acc: 0.7150\n",
      "epoch 40 - train_loss: 0.3469, train_acc: 0.9915, test_loss: 1.0420, test_acc: 0.7083\n"
     ]
    }
   ],
   "source": [
    "for epoch in range(40):\n",
    "\n",
    "    train_avg_loss, train_avg_acc = 0, 0\n",
    "\n",
    "    for it in range(train_total_batch):\n",
    "        train_x_img, train_ids, train_length, train_y = data.get_train(BATCH_SIZE)\n",
    "\n",
    "        loss, acc, _, hypothesis_ = sess.run([model.loss, model.accuracy, model.update, model.genre_prob],\n",
    "                                              feed_dict={model.x_image: train_x_img, model.x_ids: train_ids, model.x_len: train_length,\n",
    "                                              model.y_label: train_y, model.keep_prob : train_keep_prob, model.is_training:True})\n",
    "        train_avg_loss += loss / train_total_batch\n",
    "        train_avg_acc += acc / train_total_batch\n",
    "\n",
    "        #if it % 10 == 0 and it > 0:\n",
    "            #model.save(sess)\n",
    "            #print(\"*Model Saved train_loss: {:.4f}, train_acc: {:.4f}\".format(loss/BATCH_SIZE, acc))\n",
    "\n",
    "    test_avg_loss, test_avg_acc = test_model()\n",
    "\n",
    "    train_acc_summary.append(train_avg_acc)\n",
    "    test_acc_summary.append(test_avg_acc)\n",
    "    train_loss_summary.append(train_avg_loss)\n",
    "    test_loss_summary.append(test_avg_loss)\n",
    "    hypothesis_summary.append(hypothesis_)\n",
    "\n",
    "    print(\"epoch {} - train_loss: {:.4f}, train_acc: {:.4f}, test_loss: {:.4f}, test_acc: {:.4f}\"\n",
    "          .format(epoch+1, train_avg_loss, train_avg_acc, test_avg_loss, test_avg_acc))"
   ]
  },
  {
   "cell_type": "code",
   "execution_count": null,
   "metadata": {},
   "outputs": [],
   "source": []
  }
 ],
 "metadata": {
  "kernelspec": {
   "display_name": "Python 3",
   "language": "python",
   "name": "python3"
  },
  "language_info": {
   "codemirror_mode": {
    "name": "ipython",
    "version": 3
   },
   "file_extension": ".py",
   "mimetype": "text/x-python",
   "name": "python",
   "nbconvert_exporter": "python",
   "pygments_lexer": "ipython3",
   "version": "3.6.4"
  }
 },
 "nbformat": 4,
 "nbformat_minor": 2
}
