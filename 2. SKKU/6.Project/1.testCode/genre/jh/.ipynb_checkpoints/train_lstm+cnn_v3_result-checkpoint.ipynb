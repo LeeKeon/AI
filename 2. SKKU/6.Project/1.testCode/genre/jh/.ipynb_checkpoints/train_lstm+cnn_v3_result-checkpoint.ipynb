{
 "cells": [
  {
   "cell_type": "code",
   "execution_count": 1,
   "metadata": {},
   "outputs": [
    {
     "name": "stderr",
     "output_type": "stream",
     "text": [
      "/etc/anaconda3/lib/python3.6/site-packages/h5py/__init__.py:36: FutureWarning: Conversion of the second argument of issubdtype from `float` to `np.floating` is deprecated. In future, it will be treated as `np.float64 == np.dtype(float).type`.\n",
      "  from ._conv import register_converters as _register_converters\n"
     ]
    }
   ],
   "source": [
    "# -*- coding: utf-8 -*-\n",
    "\n",
    "import os\n",
    "os.environ['CUDA_VISIBLE_DEVICES'] = \"2\"\n",
    "\n",
    "import tensorflow as tf\n",
    "import numpy as np\n",
    "import time\n",
    "\n",
    "def initialize_session():\n",
    "    config = tf.ConfigProto()\n",
    "    config.gpu_options.per_process_gpu_memory_fraction = 0.4\n",
    "    return tf.Session(config=config)\n"
   ]
  },
  {
   "cell_type": "code",
   "execution_count": 2,
   "metadata": {},
   "outputs": [
    {
     "name": "stderr",
     "output_type": "stream",
     "text": [
      "Using TensorFlow backend.\n"
     ]
    },
    {
     "name": "stdout",
     "output_type": "stream",
     "text": [
      "x_train size 4800\n",
      "y_train size 4800\n",
      "x_test  size 1200\n",
      "y_test  size 1200\n",
      "x_ids_train  size 4800\n",
      "x_len_train  size 4800\n",
      "x_ids_test  size 1200\n",
      "x_len_test  size 1200\n",
      "(?, 128)\n"
     ]
    }
   ],
   "source": [
    "##################################################\n",
    "BATCH_SIZE = 100\n",
    "class_size = 4\n",
    "learning_rate = 0.0005   # Learning rate\n",
    "use_clip = True         # Gradient clipping 쓸지 여부\n",
    "train_keep_prob = 0.7\n",
    "max_len = 200           # sequence 단어 수 제한\n",
    "max_vocab = 40000       # maximum 단어 개수\n",
    "emb_dim = 128            # 단어 embedding dimension\n",
    "hidden_dim = 128        # RNN hidden dim\n",
    "train_acc_summary = [] # 학습용 데이터의 정확도를 중간 중간 기록한다\n",
    "test_acc_summary = []  # 테스트용 데이터의 정확도를 중간 중간 기록한다\n",
    "train_loss_summary = [] # 학습용 데이터의 정확도를 중간 중간 기록한다\n",
    "test_loss_summary = []  # 테스트용 데이터의 정확도를 중간 중간 기록한다\n",
    "hypothesis_summary = []\n",
    "##################################################\n",
    "from ensemble_loader import movie_data\n",
    "data = movie_data(max_vocab=max_vocab, max_len=max_len)\n",
    "\n",
    "train_total_batch = int(data.train_size / BATCH_SIZE)\n",
    "test_total_batch = int(data.test_size / BATCH_SIZE)\n",
    "\n",
    "from genre_ensemble_model_v3 import Model\n",
    "model = Model(max_len=max_len,\n",
    "              emb_dim=emb_dim,\n",
    "              hidden_dim=hidden_dim,\n",
    "              vocab_size=max_vocab,\n",
    "              class_size=class_size,\n",
    "              use_clip=True, learning_rate=learning_rate)\n",
    "\n",
    "sess = initialize_session()\n",
    "sess.run(tf.global_variables_initializer())"
   ]
  },
  {
   "cell_type": "code",
   "execution_count": 3,
   "metadata": {},
   "outputs": [],
   "source": [
    "def test_model():\n",
    "    test_loss, test_acc = 0, 0\n",
    "\n",
    "    for _ in range(test_total_batch):\n",
    "        test_x_img, test_ids, test_length, test_y = data.get_test(BATCH_SIZE)\n",
    "\n",
    "        loss, acc = sess.run([model.loss, model.accuracy],\n",
    "                              feed_dict={model.x_image: test_x_img, model.x_ids: test_ids, model.x_len: test_length,\n",
    "                              model.y_label: test_y, model.keep_prob : 1.0, model.is_training:False})\n",
    "        test_loss += loss\n",
    "        test_acc += acc\n",
    "\n",
    "    return test_loss/test_total_batch, test_acc/test_total_batch\n",
    "    #print(\" * test loss: {:.3f} | test acc: {:.3f}\\n\".format(test_loss / test_cnt, sess.run(model.accuracy, feed_dict={model.x_image: test_x, model.y_label: test_label})))\n",
    "\n",
    "\n"
   ]
  },
  {
   "cell_type": "code",
   "execution_count": null,
   "metadata": {},
   "outputs": [
    {
     "name": "stdout",
     "output_type": "stream",
     "text": [
      "WARNING:tensorflow:From /home/eve/Team8/genre/jh/genre_ensemble_model_v3.py:140: all_variables (from tensorflow.python.ops.variables) is deprecated and will be removed after 2017-03-02.\n",
      "Instructions for updating:\n",
      "Please use tf.global_variables instead.\n",
      " * model saved at 'models/model'\n",
      "epoch 1 - train_loss: 1.2674, train_acc: 0.4042, test_loss: 1.1017, test_acc: 0.5808\n",
      " * model saved at 'models/model'\n",
      "epoch 2 - train_loss: 0.9219, train_acc: 0.6144, test_loss: 0.8452, test_acc: 0.6533\n",
      " * model saved at 'models/model'\n",
      "epoch 3 - train_loss: 0.5582, train_acc: 0.7821, test_loss: 0.7692, test_acc: 0.7008\n",
      " * model saved at 'models/model'\n",
      "epoch 4 - train_loss: 0.2689, train_acc: 0.9077, test_loss: 0.7155, test_acc: 0.7358\n",
      "epoch 5 - train_loss: 0.1205, train_acc: 0.9610, test_loss: 1.1438, test_acc: 0.6950\n",
      " * model saved at 'models/model'\n",
      "epoch 6 - train_loss: 0.0772, train_acc: 0.9783, test_loss: 0.8775, test_acc: 0.7500\n",
      " * model saved at 'models/model'\n",
      "epoch 7 - train_loss: 0.0577, train_acc: 0.9819, test_loss: 0.7135, test_acc: 0.7508\n",
      " * model saved at 'models/model'\n",
      "epoch 8 - train_loss: 0.0265, train_acc: 0.9919, test_loss: 0.8555, test_acc: 0.7542\n",
      " * model saved at 'models/model'\n",
      "epoch 9 - train_loss: 0.0153, train_acc: 0.9946, test_loss: 0.8869, test_acc: 0.7650\n",
      "epoch 10 - train_loss: 0.0128, train_acc: 0.9952, test_loss: 1.0049, test_acc: 0.7550\n",
      "epoch 11 - train_loss: 0.0109, train_acc: 0.9956, test_loss: 1.2635, test_acc: 0.7308\n",
      "epoch 12 - train_loss: 0.0118, train_acc: 0.9963, test_loss: 1.0197, test_acc: 0.7508\n",
      "epoch 13 - train_loss: 0.0099, train_acc: 0.9965, test_loss: 1.1480, test_acc: 0.7558\n",
      "epoch 14 - train_loss: 0.0098, train_acc: 0.9960, test_loss: 1.0662, test_acc: 0.7642\n",
      "epoch 15 - train_loss: 0.0077, train_acc: 0.9971, test_loss: 1.3000, test_acc: 0.7492\n",
      "epoch 16 - train_loss: 0.0079, train_acc: 0.9973, test_loss: 1.1050, test_acc: 0.7583\n",
      "epoch 17 - train_loss: 0.0063, train_acc: 0.9979, test_loss: 1.2592, test_acc: 0.7550\n",
      "epoch 18 - train_loss: 0.0069, train_acc: 0.9981, test_loss: 1.3343, test_acc: 0.7375\n",
      "epoch 19 - train_loss: 0.0074, train_acc: 0.9979, test_loss: 1.1377, test_acc: 0.7508\n",
      "epoch 20 - train_loss: 0.0054, train_acc: 0.9981, test_loss: 1.3253, test_acc: 0.7408\n",
      "epoch 21 - train_loss: 0.0054, train_acc: 0.9981, test_loss: 1.3138, test_acc: 0.7408\n",
      "epoch 22 - train_loss: 0.0052, train_acc: 0.9975, test_loss: 1.3285, test_acc: 0.7358\n",
      "epoch 23 - train_loss: 0.0073, train_acc: 0.9971, test_loss: 1.2426, test_acc: 0.7258\n",
      "epoch 24 - train_loss: 0.0074, train_acc: 0.9981, test_loss: 1.0160, test_acc: 0.7425\n",
      "epoch 25 - train_loss: 0.0049, train_acc: 0.9985, test_loss: 1.3055, test_acc: 0.7508\n",
      "epoch 26 - train_loss: 0.0119, train_acc: 0.9963, test_loss: 1.0416, test_acc: 0.7567\n",
      "epoch 27 - train_loss: 0.0109, train_acc: 0.9958, test_loss: 1.1483, test_acc: 0.7533\n",
      "epoch 28 - train_loss: 0.0134, train_acc: 0.9958, test_loss: 1.0816, test_acc: 0.7558\n",
      "epoch 29 - train_loss: 0.0070, train_acc: 0.9971, test_loss: 1.2593, test_acc: 0.7325\n",
      "epoch 30 - train_loss: 0.0100, train_acc: 0.9967, test_loss: 1.2061, test_acc: 0.7358\n",
      "epoch 31 - train_loss: 0.0053, train_acc: 0.9981, test_loss: 1.2026, test_acc: 0.7508\n",
      "epoch 32 - train_loss: 0.0050, train_acc: 0.9983, test_loss: 1.2652, test_acc: 0.7542\n",
      "epoch 33 - train_loss: 0.0053, train_acc: 0.9977, test_loss: 1.2079, test_acc: 0.7517\n",
      "epoch 34 - train_loss: 0.0026, train_acc: 0.9992, test_loss: 1.3488, test_acc: 0.7550\n",
      "epoch 35 - train_loss: 0.0018, train_acc: 0.9996, test_loss: 1.3555, test_acc: 0.7458\n",
      "epoch 36 - train_loss: 0.0031, train_acc: 0.9988, test_loss: 1.5081, test_acc: 0.7442\n",
      " * model saved at 'models/model'\n",
      "epoch 37 - train_loss: 0.0020, train_acc: 0.9994, test_loss: 1.2436, test_acc: 0.7692\n",
      "epoch 38 - train_loss: 0.0057, train_acc: 0.9979, test_loss: 1.2252, test_acc: 0.7517\n",
      "epoch 39 - train_loss: 0.0026, train_acc: 0.9994, test_loss: 1.3430, test_acc: 0.7492\n",
      "epoch 40 - train_loss: 0.0017, train_acc: 0.9994, test_loss: 1.5737, test_acc: 0.7317\n",
      "epoch 41 - train_loss: 0.0008, train_acc: 0.9998, test_loss: 1.4712, test_acc: 0.7517\n",
      "epoch 42 - train_loss: 0.0006, train_acc: 0.9996, test_loss: 1.5226, test_acc: 0.7442\n",
      "epoch 43 - train_loss: 0.0007, train_acc: 0.9996, test_loss: 1.5565, test_acc: 0.7517\n",
      "epoch 44 - train_loss: 0.0003, train_acc: 1.0000, test_loss: 1.5795, test_acc: 0.7483\n",
      "epoch 45 - train_loss: 0.0002, train_acc: 1.0000, test_loss: 1.6300, test_acc: 0.7525\n",
      "epoch 46 - train_loss: 0.0002, train_acc: 1.0000, test_loss: 1.6922, test_acc: 0.7492\n",
      "epoch 47 - train_loss: 0.0002, train_acc: 1.0000, test_loss: 1.7311, test_acc: 0.7458\n",
      "epoch 48 - train_loss: 0.0001, train_acc: 1.0000, test_loss: 1.7779, test_acc: 0.7458\n",
      "epoch 49 - train_loss: 0.0001, train_acc: 1.0000, test_loss: 1.7986, test_acc: 0.7417\n",
      "epoch 50 - train_loss: 0.0001, train_acc: 1.0000, test_loss: 1.8350, test_acc: 0.7425\n",
      "epoch 51 - train_loss: 0.0001, train_acc: 1.0000, test_loss: 1.8510, test_acc: 0.7392\n",
      "epoch 52 - train_loss: 0.0001, train_acc: 1.0000, test_loss: 1.8878, test_acc: 0.7358\n",
      "epoch 53 - train_loss: 0.0001, train_acc: 1.0000, test_loss: 1.9041, test_acc: 0.7367\n",
      "epoch 54 - train_loss: 0.0001, train_acc: 1.0000, test_loss: 1.9146, test_acc: 0.7342\n",
      "epoch 55 - train_loss: 0.0001, train_acc: 1.0000, test_loss: 1.9385, test_acc: 0.7325\n",
      "epoch 56 - train_loss: 0.0001, train_acc: 1.0000, test_loss: 1.9630, test_acc: 0.7300\n",
      "epoch 57 - train_loss: 0.0000, train_acc: 1.0000, test_loss: 1.9825, test_acc: 0.7325\n",
      "epoch 58 - train_loss: 0.0000, train_acc: 1.0000, test_loss: 1.9959, test_acc: 0.7308\n",
      "epoch 59 - train_loss: 0.0001, train_acc: 1.0000, test_loss: 2.0116, test_acc: 0.7283\n",
      "epoch 60 - train_loss: 0.0001, train_acc: 1.0000, test_loss: 2.0113, test_acc: 0.7292\n",
      "epoch 61 - train_loss: 0.0000, train_acc: 1.0000, test_loss: 2.0196, test_acc: 0.7292\n",
      "epoch 62 - train_loss: 0.0000, train_acc: 1.0000, test_loss: 2.0395, test_acc: 0.7283\n",
      "epoch 63 - train_loss: 0.0000, train_acc: 1.0000, test_loss: 2.0582, test_acc: 0.7267\n",
      "epoch 64 - train_loss: 0.0000, train_acc: 1.0000, test_loss: 2.0590, test_acc: 0.7300\n",
      "epoch 65 - train_loss: 0.0000, train_acc: 1.0000, test_loss: 2.0442, test_acc: 0.7300\n",
      "epoch 66 - train_loss: 0.0000, train_acc: 1.0000, test_loss: 2.0686, test_acc: 0.7292\n",
      "epoch 67 - train_loss: 0.0000, train_acc: 1.0000, test_loss: 2.0809, test_acc: 0.7283\n",
      "epoch 68 - train_loss: 0.0000, train_acc: 1.0000, test_loss: 2.0944, test_acc: 0.7275\n",
      "epoch 69 - train_loss: 0.0000, train_acc: 1.0000, test_loss: 2.1108, test_acc: 0.7258\n",
      "epoch 70 - train_loss: 0.0000, train_acc: 1.0000, test_loss: 2.1221, test_acc: 0.7258\n",
      "epoch 71 - train_loss: 0.0000, train_acc: 1.0000, test_loss: 2.1351, test_acc: 0.7250\n",
      "epoch 72 - train_loss: 0.0000, train_acc: 1.0000, test_loss: 2.1474, test_acc: 0.7250\n",
      "epoch 73 - train_loss: 0.0000, train_acc: 1.0000, test_loss: 2.1576, test_acc: 0.7267\n",
      "epoch 74 - train_loss: 0.0000, train_acc: 1.0000, test_loss: 2.1717, test_acc: 0.7258\n",
      "epoch 75 - train_loss: 0.0000, train_acc: 1.0000, test_loss: 2.1836, test_acc: 0.7250\n",
      "epoch 76 - train_loss: 0.0000, train_acc: 1.0000, test_loss: 2.1913, test_acc: 0.7217\n",
      "epoch 77 - train_loss: 0.0000, train_acc: 1.0000, test_loss: 2.2020, test_acc: 0.7200\n",
      "epoch 78 - train_loss: 0.0000, train_acc: 1.0000, test_loss: 2.2103, test_acc: 0.7217\n",
      "epoch 79 - train_loss: 0.0000, train_acc: 1.0000, test_loss: 2.2180, test_acc: 0.7217\n",
      "epoch 80 - train_loss: 0.0000, train_acc: 1.0000, test_loss: 2.2298, test_acc: 0.7200\n",
      "epoch 81 - train_loss: 0.0000, train_acc: 1.0000, test_loss: 2.2388, test_acc: 0.7217\n",
      "epoch 82 - train_loss: 0.0000, train_acc: 1.0000, test_loss: 2.2458, test_acc: 0.7217\n",
      "epoch 83 - train_loss: 0.0000, train_acc: 1.0000, test_loss: 2.2536, test_acc: 0.7225\n",
      "epoch 84 - train_loss: 0.0000, train_acc: 1.0000, test_loss: 2.2634, test_acc: 0.7208\n",
      "epoch 85 - train_loss: 0.0000, train_acc: 1.0000, test_loss: 2.2725, test_acc: 0.7200\n",
      "epoch 86 - train_loss: 0.0000, train_acc: 1.0000, test_loss: 2.2839, test_acc: 0.7183\n",
      "epoch 87 - train_loss: 0.0000, train_acc: 1.0000, test_loss: 2.2911, test_acc: 0.7183\n",
      "epoch 88 - train_loss: 0.0000, train_acc: 1.0000, test_loss: 2.2988, test_acc: 0.7200\n",
      "epoch 89 - train_loss: 0.0000, train_acc: 1.0000, test_loss: 2.3062, test_acc: 0.7208\n"
     ]
    },
    {
     "name": "stdout",
     "output_type": "stream",
     "text": [
      "epoch 90 - train_loss: 0.0000, train_acc: 1.0000, test_loss: 2.3148, test_acc: 0.7200\n",
      "epoch 91 - train_loss: 0.0000, train_acc: 1.0000, test_loss: 2.3212, test_acc: 0.7200\n",
      "epoch 92 - train_loss: 0.0000, train_acc: 1.0000, test_loss: 2.3272, test_acc: 0.7200\n",
      "epoch 93 - train_loss: 0.0000, train_acc: 1.0000, test_loss: 2.3346, test_acc: 0.7200\n",
      "epoch 94 - train_loss: 0.0000, train_acc: 1.0000, test_loss: 2.3415, test_acc: 0.7200\n",
      "epoch 95 - train_loss: 0.0000, train_acc: 1.0000, test_loss: 2.3502, test_acc: 0.7192\n",
      "epoch 96 - train_loss: 0.0000, train_acc: 1.0000, test_loss: 2.3568, test_acc: 0.7200\n",
      "epoch 97 - train_loss: 0.0000, train_acc: 1.0000, test_loss: 2.3634, test_acc: 0.7183\n",
      "epoch 98 - train_loss: 0.0000, train_acc: 1.0000, test_loss: 2.3705, test_acc: 0.7200\n",
      "epoch 99 - train_loss: 0.0000, train_acc: 1.0000, test_loss: 2.3801, test_acc: 0.7208\n"
     ]
    }
   ],
   "source": [
    "max_acc = 0\n",
    "for epoch in range(100):\n",
    "\n",
    "    train_avg_loss, train_avg_acc = 0, 0\n",
    "\n",
    "    for it in range(train_total_batch):\n",
    "        train_x_img, train_ids, train_length, train_y = data.get_train(BATCH_SIZE)\n",
    "\n",
    "        loss, acc, _, hypothesis_ = sess.run([model.loss, model.accuracy, model.update, model.genre_prob],\n",
    "                                              feed_dict={model.x_image: train_x_img, model.x_ids: train_ids, model.x_len: train_length,\n",
    "                                              model.y_label: train_y, model.keep_prob : train_keep_prob, model.is_training:True})\n",
    "        train_avg_loss += loss / train_total_batch\n",
    "        train_avg_acc += acc / train_total_batch\n",
    "\n",
    "        #if it % 10 == 0 and it > 0:\n",
    "            #model.save(sess)\n",
    "            #print(\"*Model Saved train_loss: {:.4f}, train_acc: {:.4f}\".format(loss/BATCH_SIZE, acc))\n",
    "\n",
    "    test_avg_loss, test_avg_acc = test_model()\n",
    "\n",
    "    train_acc_summary.append(train_avg_acc)\n",
    "    test_acc_summary.append(test_avg_acc)\n",
    "    train_loss_summary.append(train_avg_loss)\n",
    "    test_loss_summary.append(test_avg_loss)\n",
    "    hypothesis_summary.append(hypothesis_)\n",
    "    if max_acc < test_avg_acc:\n",
    "        model.save(sess)\n",
    "        max_acc = test_avg_acc\n",
    "\n",
    "    print(\"epoch {} - train_loss: {:.4f}, train_acc: {:.4f}, test_loss: {:.4f}, test_acc: {:.4f}\"\n",
    "          .format(epoch+1, train_avg_loss, train_avg_acc, test_avg_loss, test_avg_acc))"
   ]
  },
  {
   "cell_type": "code",
   "execution_count": 115,
   "metadata": {},
   "outputs": [
    {
     "name": "stdout",
     "output_type": "stream",
     "text": [
      " - Restoring variables...\n",
      "INFO:tensorflow:Restoring parameters from models/model\n",
      " * model restored \n"
     ]
    }
   ],
   "source": [
    "model.restore(sess)"
   ]
  },
  {
   "cell_type": "code",
   "execution_count": 175,
   "metadata": {},
   "outputs": [],
   "source": [
    "test_x_img, test_ids, test_length, test_y= data.get_test(1)"
   ]
  },
  {
   "cell_type": "code",
   "execution_count": 183,
   "metadata": {},
   "outputs": [
    {
     "data": {
      "text/plain": [
       "['240402.jpg',\n",
       " '314871.jpg',\n",
       " '404203.jpg',\n",
       " '409673.jpg',\n",
       " '2322441.jpg',\n",
       " '5340362.jpg',\n",
       " '5465868.jpg',\n",
       " '2048824.jpg']"
      ]
     },
     "execution_count": 183,
     "metadata": {},
     "output_type": "execute_result"
    }
   ],
   "source": [
    "test_file = []\n",
    "input_files = ['240402', '314871','404203','409673','2322441','5340362','5465868','2048824']\n",
    "\n",
    "for i in input_files:\n",
    "    test_file.append(i+'.jpg')\n",
    "\n",
    "test_file"
   ]
  },
  {
   "cell_type": "code",
   "execution_count": 184,
   "metadata": {},
   "outputs": [],
   "source": [
    "_, test_x_img, test_ids, test_length, test_y = data.init_data(test_file)\n",
    "hypothesys = sess.run(model.genre_prob,\n",
    "    feed_dict={model.x_image: test_x_img, model.x_ids: test_ids, model.x_len: test_length,\n",
    "                              model.y_label: test_y, model.keep_prob : 1.0, model.is_training:False})"
   ]
  },
  {
   "cell_type": "code",
   "execution_count": 187,
   "metadata": {},
   "outputs": [],
   "source": [
    "hypothesys_ = hypothesys.tolist()"
   ]
  },
  {
   "cell_type": "code",
   "execution_count": 188,
   "metadata": {},
   "outputs": [
    {
     "name": "stdout",
     "output_type": "stream",
     "text": [
      "240402.jpg\n",
      "Romance 99.98 %\n",
      "Horror 0.02 %\n",
      "Adventure 0.00 %\n",
      "Documentary 0.00 %\n",
      "----------------------------------------------------------------------------------------------------\n",
      "314871.jpg\n",
      "Romance 99.92 %\n",
      "Horror 0.07 %\n",
      "Adventure 0.00 %\n",
      "Documentary 0.00 %\n",
      "----------------------------------------------------------------------------------------------------\n",
      "404203.jpg\n",
      "Romance 99.95 %\n",
      "Horror 0.04 %\n",
      "Adventure 0.00 %\n",
      "Documentary 0.00 %\n",
      "----------------------------------------------------------------------------------------------------\n",
      "409673.jpg\n",
      "Romance 100.00 %\n",
      "Horror 0.00 %\n",
      "Adventure 0.00 %\n",
      "Documentary 0.00 %\n",
      "----------------------------------------------------------------------------------------------------\n",
      "2322441.jpg\n",
      "Romance 99.96 %\n",
      "Horror 0.04 %\n",
      "Adventure 0.00 %\n",
      "Documentary 0.00 %\n",
      "----------------------------------------------------------------------------------------------------\n",
      "5340362.jpg\n",
      "Romance 99.99 %\n",
      "Horror 0.01 %\n",
      "Adventure 0.00 %\n",
      "Documentary 0.00 %\n",
      "----------------------------------------------------------------------------------------------------\n",
      "5465868.jpg\n",
      "Romance 99.99 %\n",
      "Horror 0.01 %\n",
      "Adventure 0.00 %\n",
      "Documentary 0.00 %\n",
      "----------------------------------------------------------------------------------------------------\n",
      "2048824.jpg\n",
      "Romance 99.99 %\n",
      "Horror 0.01 %\n",
      "Adventure 0.00 %\n",
      "Documentary 0.00 %\n",
      "----------------------------------------------------------------------------------------------------\n"
     ]
    }
   ],
   "source": [
    "for file, prob_list in zip(test_file,hypothesys_):\n",
    "    print(file)\n",
    "    for i, prob in enumerate(prob_list):\n",
    "        #print(prob)\n",
    "        print(data.labelid_2_genre[i], '{:.2f}'.format(prob * 100), \"%\")\n",
    "    print('-' * 100)"
   ]
  },
  {
   "cell_type": "code",
   "execution_count": null,
   "metadata": {},
   "outputs": [],
   "source": []
  }
 ],
 "metadata": {
  "kernelspec": {
   "display_name": "Python 3",
   "language": "python",
   "name": "python3"
  },
  "language_info": {
   "codemirror_mode": {
    "name": "ipython",
    "version": 3
   },
   "file_extension": ".py",
   "mimetype": "text/x-python",
   "name": "python",
   "nbconvert_exporter": "python",
   "pygments_lexer": "ipython3",
   "version": "3.6.4"
  }
 },
 "nbformat": 4,
 "nbformat_minor": 2
}
