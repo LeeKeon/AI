{
 "cells": [
  {
   "cell_type": "code",
   "execution_count": 1,
   "metadata": {},
   "outputs": [
    {
     "name": "stderr",
     "output_type": "stream",
     "text": [
      "/etc/anaconda3/lib/python3.6/site-packages/h5py/__init__.py:36: FutureWarning: Conversion of the second argument of issubdtype from `float` to `np.floating` is deprecated. In future, it will be treated as `np.float64 == np.dtype(float).type`.\n",
      "  from ._conv import register_converters as _register_converters\n"
     ]
    }
   ],
   "source": [
    "# -*- coding: utf-8 -*-\n",
    "\n",
    "import os\n",
    "os.environ['CUDA_VISIBLE_DEVICES'] = \"2\"\n",
    "\n",
    "import tensorflow as tf\n",
    "import numpy as np\n",
    "import time\n",
    "\n",
    "def initialize_session():\n",
    "    config = tf.ConfigProto()\n",
    "    config.gpu_options.per_process_gpu_memory_fraction = 0.4\n",
    "    return tf.Session(config=config)"
   ]
  },
  {
   "cell_type": "code",
   "execution_count": 2,
   "metadata": {
    "scrolled": true
   },
   "outputs": [
    {
     "name": "stderr",
     "output_type": "stream",
     "text": [
      "Using TensorFlow backend.\n"
     ]
    },
    {
     "name": "stdout",
     "output_type": "stream",
     "text": [
      "conv1 Tensor(\"MaxPool:0\", shape=(?, 67, 45, 64), dtype=float32)\n",
      "conv2 Tensor(\"dropout/mul:0\", shape=(?, 33, 22, 128), dtype=float32)\n",
      "conv3 Tensor(\"dropout_1/mul:0\", shape=(?, 16, 11, 256), dtype=float32)\n",
      "x_image Tensor(\"Mean:0\", shape=(?, 256), dtype=float32)\n",
      "Tensor(\"Placeholder_3:0\", shape=(?, 100), dtype=int32)\n",
      "Tensor(\"Placeholder_4:0\", shape=(?,), dtype=int32)\n",
      "Tensor(\"Placeholder_5:0\", shape=(?,), dtype=int32)\n",
      "12\n"
     ]
    }
   ],
   "source": [
    "##################################################\n",
    "BATCH_SIZE = 100\n",
    "class_size = 4\n",
    "learning_rate = 0.0005   # Learning rate\n",
    "use_clip = True         # Gradient clipping 쓸지 여부\n",
    "train_keep_prob = 0.7\n",
    "max_len = 100           # sequence 단어 수 제한\n",
    "max_vocab = 50000       # maximum 단어 개수\n",
    "emb_dim = 256            # 단어 embedding dimension\n",
    "hidden_dim = 256        # RNN hidden dim\n",
    "\n",
    "train_acc_summary = [] # 학습용 데이터의 정확도를 중간 중간 기록한다\n",
    "test_acc_summary = []  # 테스트용 데이터의 정확도를 중간 중간 기록한다\n",
    "train_loss_summary = [] # 학습용 데이터의 정확도를 중간 중간 기록한다\n",
    "test_loss_summary = []  # 테스트용 데이터의 정확도를 중간 중간 기록한다\n",
    "hypothesis_summary = []\n",
    "##################################################\n",
    "\n",
    "from genre_data_loader_merge import movie_data\n",
    "data = movie_data(data_type='both', max_vocab=max_vocab, max_len=max_len)\n",
    "#from plot_loader import plot_data\n",
    "#data = plot_data(max_vocab=max_vocab, max_len=max_len)\n",
    "\n",
    "\n",
    "train_total_batch = int(data.train_size / BATCH_SIZE)\n",
    "test_total_batch = int(data.test_size / BATCH_SIZE)\n",
    "\n",
    "from genre_model_resnet_style import CNN_Model\n",
    "cnn_model = CNN_Model(use_clip=use_clip, class_size=class_size, learning_rate=learning_rate)\n",
    "\n",
    "from genre_movie_rnn_test import LSTM_Model\n",
    "END_TOKEN = \"<eos>\"\n",
    "lstm_model = LSTM_Model(max_len=max_len,\n",
    "              emb_dim=emb_dim,\n",
    "              hidden_dim=hidden_dim,\n",
    "              vocab_size=max_vocab,\n",
    "              class_size=class_size,\n",
    "              use_clip=True, learning_rate=learning_rate, end_token=data.w2idx[END_TOKEN])\n",
    "\n",
    "\n",
    "sess = initialize_session()\n",
    "sess.run(tf.global_variables_initializer())\n",
    "\n",
    "print(test_total_batch)\n",
    "\n",
    "def test_model():\n",
    "    test_loss, test_acc = 0, 0\n",
    "\n",
    "    for _ in range(test_total_batch):\n",
    "        test_x_img, test_x_txt, length, test_y = data.get_test(BATCH_SIZE)\n",
    "        loss, acc = sess.run([lstm_model.loss, lstm_model.accuracy], feed_dict={lstm_model.x: test_x_txt, lstm_model.x_len: length, lstm_model.y: test_y})\n",
    "        \n",
    "        #loss, acc = sess.run([model.loss, model.accuracy],\n",
    "        #                      feed_dict={model.x_image: test_x, model.y_label: test_y, model.keep_prob : 1.0, model.is_training:False})\n",
    "        #test_ids, length, label = data.get_test(BATCH_SIZE)\n",
    "        #loss, acc = sess.run([model.loss, model.accuracy], feed_dict={model.x: test_ids, model.x_len: length, model.y: label})\n",
    "\n",
    "        test_loss += loss\n",
    "        test_acc += acc\n",
    "        \n",
    "    return test_loss/test_total_batch, test_acc/test_total_batch\n",
    "    #print(\" * test loss: {:.3f} | test acc: {:.3f}\\n\".format(test_loss / test_cnt, sess.run(model.accuracy, feed_dict={model.x_image: test_x, model.y_label: test_label})))"
   ]
  },
  {
   "cell_type": "code",
   "execution_count": 3,
   "metadata": {
    "scrolled": true
   },
   "outputs": [
    {
     "ename": "InternalError",
     "evalue": "Blas GEMM launch failed : a.shape=(100, 512), b.shape=(512, 1024), m=100, n=1024, k=512\n\t [[Node: rnn/while/basic_lstm_cell/MatMul = MatMul[T=DT_FLOAT, transpose_a=false, transpose_b=false, _device=\"/job:localhost/replica:0/task:0/device:GPU:0\"](rnn/while/basic_lstm_cell/concat, rnn/while/basic_lstm_cell/MatMul/Enter)]]\n\t [[Node: Mean_4/_33 = _Recv[client_terminated=false, recv_device=\"/job:localhost/replica:0/task:0/device:CPU:0\", send_device=\"/job:localhost/replica:0/task:0/device:GPU:0\", send_device_incarnation=1, tensor_name=\"edge_1006_Mean_4\", tensor_type=DT_FLOAT, _device=\"/job:localhost/replica:0/task:0/device:CPU:0\"]()]]\n\nCaused by op 'rnn/while/basic_lstm_cell/MatMul', defined at:\n  File \"/etc/anaconda3/lib/python3.6/runpy.py\", line 193, in _run_module_as_main\n    \"__main__\", mod_spec)\n  File \"/etc/anaconda3/lib/python3.6/runpy.py\", line 85, in _run_code\n    exec(code, run_globals)\n  File \"/etc/anaconda3/lib/python3.6/site-packages/ipykernel_launcher.py\", line 16, in <module>\n    app.launch_new_instance()\n  File \"/etc/anaconda3/lib/python3.6/site-packages/traitlets/config/application.py\", line 658, in launch_instance\n    app.start()\n  File \"/etc/anaconda3/lib/python3.6/site-packages/ipykernel/kernelapp.py\", line 478, in start\n    self.io_loop.start()\n  File \"/etc/anaconda3/lib/python3.6/site-packages/zmq/eventloop/ioloop.py\", line 177, in start\n    super(ZMQIOLoop, self).start()\n  File \"/etc/anaconda3/lib/python3.6/site-packages/tornado/ioloop.py\", line 888, in start\n    handler_func(fd_obj, events)\n  File \"/etc/anaconda3/lib/python3.6/site-packages/tornado/stack_context.py\", line 277, in null_wrapper\n    return fn(*args, **kwargs)\n  File \"/etc/anaconda3/lib/python3.6/site-packages/zmq/eventloop/zmqstream.py\", line 440, in _handle_events\n    self._handle_recv()\n  File \"/etc/anaconda3/lib/python3.6/site-packages/zmq/eventloop/zmqstream.py\", line 472, in _handle_recv\n    self._run_callback(callback, msg)\n  File \"/etc/anaconda3/lib/python3.6/site-packages/zmq/eventloop/zmqstream.py\", line 414, in _run_callback\n    callback(*args, **kwargs)\n  File \"/etc/anaconda3/lib/python3.6/site-packages/tornado/stack_context.py\", line 277, in null_wrapper\n    return fn(*args, **kwargs)\n  File \"/etc/anaconda3/lib/python3.6/site-packages/ipykernel/kernelbase.py\", line 283, in dispatcher\n    return self.dispatch_shell(stream, msg)\n  File \"/etc/anaconda3/lib/python3.6/site-packages/ipykernel/kernelbase.py\", line 233, in dispatch_shell\n    handler(stream, idents, msg)\n  File \"/etc/anaconda3/lib/python3.6/site-packages/ipykernel/kernelbase.py\", line 399, in execute_request\n    user_expressions, allow_stdin)\n  File \"/etc/anaconda3/lib/python3.6/site-packages/ipykernel/ipkernel.py\", line 208, in do_execute\n    res = shell.run_cell(code, store_history=store_history, silent=silent)\n  File \"/etc/anaconda3/lib/python3.6/site-packages/ipykernel/zmqshell.py\", line 537, in run_cell\n    return super(ZMQInteractiveShell, self).run_cell(*args, **kwargs)\n  File \"/etc/anaconda3/lib/python3.6/site-packages/IPython/core/interactiveshell.py\", line 2728, in run_cell\n    interactivity=interactivity, compiler=compiler, result=result)\n  File \"/etc/anaconda3/lib/python3.6/site-packages/IPython/core/interactiveshell.py\", line 2850, in run_ast_nodes\n    if self.run_code(code, result):\n  File \"/etc/anaconda3/lib/python3.6/site-packages/IPython/core/interactiveshell.py\", line 2910, in run_code\n    exec(code_obj, self.user_global_ns, self.user_ns)\n  File \"<ipython-input-2-d8d4e2454079>\", line 38, in <module>\n    use_clip=True, learning_rate=learning_rate, end_token=data.w2idx[END_TOKEN])\n  File \"/home/eve/Team8/genre/genre_movie_rnn_test.py\", line 36, in __init__\n    self.build_model()\n  File \"/home/eve/Team8/genre/genre_movie_rnn_test.py\", line 45, in build_model\n    outputs, states = tf.nn.dynamic_rnn(cell, self.x_emb, dtype=tf.float32)\n  File \"/etc/anaconda3/lib/python3.6/site-packages/tensorflow/python/ops/rnn.py\", line 627, in dynamic_rnn\n    dtype=dtype)\n  File \"/etc/anaconda3/lib/python3.6/site-packages/tensorflow/python/ops/rnn.py\", line 824, in _dynamic_rnn_loop\n    swap_memory=swap_memory)\n  File \"/etc/anaconda3/lib/python3.6/site-packages/tensorflow/python/ops/control_flow_ops.py\", line 3224, in while_loop\n    result = loop_context.BuildLoop(cond, body, loop_vars, shape_invariants)\n  File \"/etc/anaconda3/lib/python3.6/site-packages/tensorflow/python/ops/control_flow_ops.py\", line 2956, in BuildLoop\n    pred, body, original_loop_vars, loop_vars, shape_invariants)\n  File \"/etc/anaconda3/lib/python3.6/site-packages/tensorflow/python/ops/control_flow_ops.py\", line 2893, in _BuildLoop\n    body_result = body(*packed_vars_for_body)\n  File \"/etc/anaconda3/lib/python3.6/site-packages/tensorflow/python/ops/control_flow_ops.py\", line 3194, in <lambda>\n    body = lambda i, lv: (i + 1, orig_body(*lv))\n  File \"/etc/anaconda3/lib/python3.6/site-packages/tensorflow/python/ops/rnn.py\", line 795, in _time_step\n    (output, new_state) = call_cell()\n  File \"/etc/anaconda3/lib/python3.6/site-packages/tensorflow/python/ops/rnn.py\", line 781, in <lambda>\n    call_cell = lambda: cell(input_t, state)\n  File \"/etc/anaconda3/lib/python3.6/site-packages/tensorflow/python/ops/rnn_cell_impl.py\", line 1099, in __call__\n    output, new_state = self._cell(inputs, state, scope=scope)\n  File \"/etc/anaconda3/lib/python3.6/site-packages/tensorflow/python/ops/rnn_cell_impl.py\", line 339, in __call__\n    *args, **kwargs)\n  File \"/etc/anaconda3/lib/python3.6/site-packages/tensorflow/python/layers/base.py\", line 717, in __call__\n    outputs = self.call(inputs, *args, **kwargs)\n  File \"/etc/anaconda3/lib/python3.6/site-packages/tensorflow/python/ops/rnn_cell_impl.py\", line 620, in call\n    array_ops.concat([inputs, h], 1), self._kernel)\n  File \"/etc/anaconda3/lib/python3.6/site-packages/tensorflow/python/ops/math_ops.py\", line 2122, in matmul\n    a, b, transpose_a=transpose_a, transpose_b=transpose_b, name=name)\n  File \"/etc/anaconda3/lib/python3.6/site-packages/tensorflow/python/ops/gen_math_ops.py\", line 4279, in mat_mul\n    name=name)\n  File \"/etc/anaconda3/lib/python3.6/site-packages/tensorflow/python/framework/op_def_library.py\", line 787, in _apply_op_helper\n    op_def=op_def)\n  File \"/etc/anaconda3/lib/python3.6/site-packages/tensorflow/python/framework/ops.py\", line 3392, in create_op\n    op_def=op_def)\n  File \"/etc/anaconda3/lib/python3.6/site-packages/tensorflow/python/framework/ops.py\", line 1718, in __init__\n    self._traceback = self._graph._extract_stack()  # pylint: disable=protected-access\n\nInternalError (see above for traceback): Blas GEMM launch failed : a.shape=(100, 512), b.shape=(512, 1024), m=100, n=1024, k=512\n\t [[Node: rnn/while/basic_lstm_cell/MatMul = MatMul[T=DT_FLOAT, transpose_a=false, transpose_b=false, _device=\"/job:localhost/replica:0/task:0/device:GPU:0\"](rnn/while/basic_lstm_cell/concat, rnn/while/basic_lstm_cell/MatMul/Enter)]]\n\t [[Node: Mean_4/_33 = _Recv[client_terminated=false, recv_device=\"/job:localhost/replica:0/task:0/device:CPU:0\", send_device=\"/job:localhost/replica:0/task:0/device:GPU:0\", send_device_incarnation=1, tensor_name=\"edge_1006_Mean_4\", tensor_type=DT_FLOAT, _device=\"/job:localhost/replica:0/task:0/device:CPU:0\"]()]]\n",
     "output_type": "error",
     "traceback": [
      "\u001b[0;31m---------------------------------------------------------------------------\u001b[0m",
      "\u001b[0;31mInternalError\u001b[0m                             Traceback (most recent call last)",
      "\u001b[0;32m/etc/anaconda3/lib/python3.6/site-packages/tensorflow/python/client/session.py\u001b[0m in \u001b[0;36m_do_call\u001b[0;34m(self, fn, *args)\u001b[0m\n\u001b[1;32m   1321\u001b[0m     \u001b[0;32mtry\u001b[0m\u001b[0;34m:\u001b[0m\u001b[0;34m\u001b[0m\u001b[0m\n\u001b[0;32m-> 1322\u001b[0;31m       \u001b[0;32mreturn\u001b[0m \u001b[0mfn\u001b[0m\u001b[0;34m(\u001b[0m\u001b[0;34m*\u001b[0m\u001b[0margs\u001b[0m\u001b[0;34m)\u001b[0m\u001b[0;34m\u001b[0m\u001b[0m\n\u001b[0m\u001b[1;32m   1323\u001b[0m     \u001b[0;32mexcept\u001b[0m \u001b[0merrors\u001b[0m\u001b[0;34m.\u001b[0m\u001b[0mOpError\u001b[0m \u001b[0;32mas\u001b[0m \u001b[0me\u001b[0m\u001b[0;34m:\u001b[0m\u001b[0;34m\u001b[0m\u001b[0m\n",
      "\u001b[0;32m/etc/anaconda3/lib/python3.6/site-packages/tensorflow/python/client/session.py\u001b[0m in \u001b[0;36m_run_fn\u001b[0;34m(feed_dict, fetch_list, target_list, options, run_metadata)\u001b[0m\n\u001b[1;32m   1306\u001b[0m       return self._call_tf_sessionrun(\n\u001b[0;32m-> 1307\u001b[0;31m           options, feed_dict, fetch_list, target_list, run_metadata)\n\u001b[0m\u001b[1;32m   1308\u001b[0m \u001b[0;34m\u001b[0m\u001b[0m\n",
      "\u001b[0;32m/etc/anaconda3/lib/python3.6/site-packages/tensorflow/python/client/session.py\u001b[0m in \u001b[0;36m_call_tf_sessionrun\u001b[0;34m(self, options, feed_dict, fetch_list, target_list, run_metadata)\u001b[0m\n\u001b[1;32m   1408\u001b[0m           \u001b[0mself\u001b[0m\u001b[0;34m.\u001b[0m\u001b[0m_session\u001b[0m\u001b[0;34m,\u001b[0m \u001b[0moptions\u001b[0m\u001b[0;34m,\u001b[0m \u001b[0mfeed_dict\u001b[0m\u001b[0;34m,\u001b[0m \u001b[0mfetch_list\u001b[0m\u001b[0;34m,\u001b[0m \u001b[0mtarget_list\u001b[0m\u001b[0;34m,\u001b[0m\u001b[0;34m\u001b[0m\u001b[0m\n\u001b[0;32m-> 1409\u001b[0;31m           run_metadata)\n\u001b[0m\u001b[1;32m   1410\u001b[0m     \u001b[0;32melse\u001b[0m\u001b[0;34m:\u001b[0m\u001b[0;34m\u001b[0m\u001b[0m\n",
      "\u001b[0;31mInternalError\u001b[0m: Blas GEMM launch failed : a.shape=(100, 512), b.shape=(512, 1024), m=100, n=1024, k=512\n\t [[Node: rnn/while/basic_lstm_cell/MatMul = MatMul[T=DT_FLOAT, transpose_a=false, transpose_b=false, _device=\"/job:localhost/replica:0/task:0/device:GPU:0\"](rnn/while/basic_lstm_cell/concat, rnn/while/basic_lstm_cell/MatMul/Enter)]]\n\t [[Node: Mean_4/_33 = _Recv[client_terminated=false, recv_device=\"/job:localhost/replica:0/task:0/device:CPU:0\", send_device=\"/job:localhost/replica:0/task:0/device:GPU:0\", send_device_incarnation=1, tensor_name=\"edge_1006_Mean_4\", tensor_type=DT_FLOAT, _device=\"/job:localhost/replica:0/task:0/device:CPU:0\"]()]]",
      "\nDuring handling of the above exception, another exception occurred:\n",
      "\u001b[0;31mInternalError\u001b[0m                             Traceback (most recent call last)",
      "\u001b[0;32m<ipython-input-3-9b3dbeb81fe5>\u001b[0m in \u001b[0;36m<module>\u001b[0;34m()\u001b[0m\n\u001b[1;32m     12\u001b[0m \u001b[0;34m\u001b[0m\u001b[0m\n\u001b[1;32m     13\u001b[0m         loss, acc, _, = sess.run([lstm_model.loss, lstm_model.accuracy, lstm_model.update],\n\u001b[0;32m---> 14\u001b[0;31m                             feed_dict={lstm_model.x: train_x_txt, lstm_model.x_len: length, lstm_model.y: train_y, lstm_model.keep_prob: 0.75})\n\u001b[0m\u001b[1;32m     15\u001b[0m \u001b[0;34m\u001b[0m\u001b[0m\n\u001b[1;32m     16\u001b[0m         \u001b[0;31m#train_ids, length, label = data.get_train(BATCH_SIZE)\u001b[0m\u001b[0;34m\u001b[0m\u001b[0;34m\u001b[0m\u001b[0m\n",
      "\u001b[0;32m/etc/anaconda3/lib/python3.6/site-packages/tensorflow/python/client/session.py\u001b[0m in \u001b[0;36mrun\u001b[0;34m(self, fetches, feed_dict, options, run_metadata)\u001b[0m\n\u001b[1;32m    898\u001b[0m     \u001b[0;32mtry\u001b[0m\u001b[0;34m:\u001b[0m\u001b[0;34m\u001b[0m\u001b[0m\n\u001b[1;32m    899\u001b[0m       result = self._run(None, fetches, feed_dict, options_ptr,\n\u001b[0;32m--> 900\u001b[0;31m                          run_metadata_ptr)\n\u001b[0m\u001b[1;32m    901\u001b[0m       \u001b[0;32mif\u001b[0m \u001b[0mrun_metadata\u001b[0m\u001b[0;34m:\u001b[0m\u001b[0;34m\u001b[0m\u001b[0m\n\u001b[1;32m    902\u001b[0m         \u001b[0mproto_data\u001b[0m \u001b[0;34m=\u001b[0m \u001b[0mtf_session\u001b[0m\u001b[0;34m.\u001b[0m\u001b[0mTF_GetBuffer\u001b[0m\u001b[0;34m(\u001b[0m\u001b[0mrun_metadata_ptr\u001b[0m\u001b[0;34m)\u001b[0m\u001b[0;34m\u001b[0m\u001b[0m\n",
      "\u001b[0;32m/etc/anaconda3/lib/python3.6/site-packages/tensorflow/python/client/session.py\u001b[0m in \u001b[0;36m_run\u001b[0;34m(self, handle, fetches, feed_dict, options, run_metadata)\u001b[0m\n\u001b[1;32m   1133\u001b[0m     \u001b[0;32mif\u001b[0m \u001b[0mfinal_fetches\u001b[0m \u001b[0;32mor\u001b[0m \u001b[0mfinal_targets\u001b[0m \u001b[0;32mor\u001b[0m \u001b[0;34m(\u001b[0m\u001b[0mhandle\u001b[0m \u001b[0;32mand\u001b[0m \u001b[0mfeed_dict_tensor\u001b[0m\u001b[0;34m)\u001b[0m\u001b[0;34m:\u001b[0m\u001b[0;34m\u001b[0m\u001b[0m\n\u001b[1;32m   1134\u001b[0m       results = self._do_run(handle, final_targets, final_fetches,\n\u001b[0;32m-> 1135\u001b[0;31m                              feed_dict_tensor, options, run_metadata)\n\u001b[0m\u001b[1;32m   1136\u001b[0m     \u001b[0;32melse\u001b[0m\u001b[0;34m:\u001b[0m\u001b[0;34m\u001b[0m\u001b[0m\n\u001b[1;32m   1137\u001b[0m       \u001b[0mresults\u001b[0m \u001b[0;34m=\u001b[0m \u001b[0;34m[\u001b[0m\u001b[0;34m]\u001b[0m\u001b[0;34m\u001b[0m\u001b[0m\n",
      "\u001b[0;32m/etc/anaconda3/lib/python3.6/site-packages/tensorflow/python/client/session.py\u001b[0m in \u001b[0;36m_do_run\u001b[0;34m(self, handle, target_list, fetch_list, feed_dict, options, run_metadata)\u001b[0m\n\u001b[1;32m   1314\u001b[0m     \u001b[0;32mif\u001b[0m \u001b[0mhandle\u001b[0m \u001b[0;32mis\u001b[0m \u001b[0;32mNone\u001b[0m\u001b[0;34m:\u001b[0m\u001b[0;34m\u001b[0m\u001b[0m\n\u001b[1;32m   1315\u001b[0m       return self._do_call(_run_fn, feeds, fetches, targets, options,\n\u001b[0;32m-> 1316\u001b[0;31m                            run_metadata)\n\u001b[0m\u001b[1;32m   1317\u001b[0m     \u001b[0;32melse\u001b[0m\u001b[0;34m:\u001b[0m\u001b[0;34m\u001b[0m\u001b[0m\n\u001b[1;32m   1318\u001b[0m       \u001b[0;32mreturn\u001b[0m \u001b[0mself\u001b[0m\u001b[0;34m.\u001b[0m\u001b[0m_do_call\u001b[0m\u001b[0;34m(\u001b[0m\u001b[0m_prun_fn\u001b[0m\u001b[0;34m,\u001b[0m \u001b[0mhandle\u001b[0m\u001b[0;34m,\u001b[0m \u001b[0mfeeds\u001b[0m\u001b[0;34m,\u001b[0m \u001b[0mfetches\u001b[0m\u001b[0;34m)\u001b[0m\u001b[0;34m\u001b[0m\u001b[0m\n",
      "\u001b[0;32m/etc/anaconda3/lib/python3.6/site-packages/tensorflow/python/client/session.py\u001b[0m in \u001b[0;36m_do_call\u001b[0;34m(self, fn, *args)\u001b[0m\n\u001b[1;32m   1333\u001b[0m         \u001b[0;32mexcept\u001b[0m \u001b[0mKeyError\u001b[0m\u001b[0;34m:\u001b[0m\u001b[0;34m\u001b[0m\u001b[0m\n\u001b[1;32m   1334\u001b[0m           \u001b[0;32mpass\u001b[0m\u001b[0;34m\u001b[0m\u001b[0m\n\u001b[0;32m-> 1335\u001b[0;31m       \u001b[0;32mraise\u001b[0m \u001b[0mtype\u001b[0m\u001b[0;34m(\u001b[0m\u001b[0me\u001b[0m\u001b[0;34m)\u001b[0m\u001b[0;34m(\u001b[0m\u001b[0mnode_def\u001b[0m\u001b[0;34m,\u001b[0m \u001b[0mop\u001b[0m\u001b[0;34m,\u001b[0m \u001b[0mmessage\u001b[0m\u001b[0;34m)\u001b[0m\u001b[0;34m\u001b[0m\u001b[0m\n\u001b[0m\u001b[1;32m   1336\u001b[0m \u001b[0;34m\u001b[0m\u001b[0m\n\u001b[1;32m   1337\u001b[0m   \u001b[0;32mdef\u001b[0m \u001b[0m_extend_graph\u001b[0m\u001b[0;34m(\u001b[0m\u001b[0mself\u001b[0m\u001b[0;34m)\u001b[0m\u001b[0;34m:\u001b[0m\u001b[0;34m\u001b[0m\u001b[0m\n",
      "\u001b[0;31mInternalError\u001b[0m: Blas GEMM launch failed : a.shape=(100, 512), b.shape=(512, 1024), m=100, n=1024, k=512\n\t [[Node: rnn/while/basic_lstm_cell/MatMul = MatMul[T=DT_FLOAT, transpose_a=false, transpose_b=false, _device=\"/job:localhost/replica:0/task:0/device:GPU:0\"](rnn/while/basic_lstm_cell/concat, rnn/while/basic_lstm_cell/MatMul/Enter)]]\n\t [[Node: Mean_4/_33 = _Recv[client_terminated=false, recv_device=\"/job:localhost/replica:0/task:0/device:CPU:0\", send_device=\"/job:localhost/replica:0/task:0/device:GPU:0\", send_device_incarnation=1, tensor_name=\"edge_1006_Mean_4\", tensor_type=DT_FLOAT, _device=\"/job:localhost/replica:0/task:0/device:CPU:0\"]()]]\n\nCaused by op 'rnn/while/basic_lstm_cell/MatMul', defined at:\n  File \"/etc/anaconda3/lib/python3.6/runpy.py\", line 193, in _run_module_as_main\n    \"__main__\", mod_spec)\n  File \"/etc/anaconda3/lib/python3.6/runpy.py\", line 85, in _run_code\n    exec(code, run_globals)\n  File \"/etc/anaconda3/lib/python3.6/site-packages/ipykernel_launcher.py\", line 16, in <module>\n    app.launch_new_instance()\n  File \"/etc/anaconda3/lib/python3.6/site-packages/traitlets/config/application.py\", line 658, in launch_instance\n    app.start()\n  File \"/etc/anaconda3/lib/python3.6/site-packages/ipykernel/kernelapp.py\", line 478, in start\n    self.io_loop.start()\n  File \"/etc/anaconda3/lib/python3.6/site-packages/zmq/eventloop/ioloop.py\", line 177, in start\n    super(ZMQIOLoop, self).start()\n  File \"/etc/anaconda3/lib/python3.6/site-packages/tornado/ioloop.py\", line 888, in start\n    handler_func(fd_obj, events)\n  File \"/etc/anaconda3/lib/python3.6/site-packages/tornado/stack_context.py\", line 277, in null_wrapper\n    return fn(*args, **kwargs)\n  File \"/etc/anaconda3/lib/python3.6/site-packages/zmq/eventloop/zmqstream.py\", line 440, in _handle_events\n    self._handle_recv()\n  File \"/etc/anaconda3/lib/python3.6/site-packages/zmq/eventloop/zmqstream.py\", line 472, in _handle_recv\n    self._run_callback(callback, msg)\n  File \"/etc/anaconda3/lib/python3.6/site-packages/zmq/eventloop/zmqstream.py\", line 414, in _run_callback\n    callback(*args, **kwargs)\n  File \"/etc/anaconda3/lib/python3.6/site-packages/tornado/stack_context.py\", line 277, in null_wrapper\n    return fn(*args, **kwargs)\n  File \"/etc/anaconda3/lib/python3.6/site-packages/ipykernel/kernelbase.py\", line 283, in dispatcher\n    return self.dispatch_shell(stream, msg)\n  File \"/etc/anaconda3/lib/python3.6/site-packages/ipykernel/kernelbase.py\", line 233, in dispatch_shell\n    handler(stream, idents, msg)\n  File \"/etc/anaconda3/lib/python3.6/site-packages/ipykernel/kernelbase.py\", line 399, in execute_request\n    user_expressions, allow_stdin)\n  File \"/etc/anaconda3/lib/python3.6/site-packages/ipykernel/ipkernel.py\", line 208, in do_execute\n    res = shell.run_cell(code, store_history=store_history, silent=silent)\n  File \"/etc/anaconda3/lib/python3.6/site-packages/ipykernel/zmqshell.py\", line 537, in run_cell\n    return super(ZMQInteractiveShell, self).run_cell(*args, **kwargs)\n  File \"/etc/anaconda3/lib/python3.6/site-packages/IPython/core/interactiveshell.py\", line 2728, in run_cell\n    interactivity=interactivity, compiler=compiler, result=result)\n  File \"/etc/anaconda3/lib/python3.6/site-packages/IPython/core/interactiveshell.py\", line 2850, in run_ast_nodes\n    if self.run_code(code, result):\n  File \"/etc/anaconda3/lib/python3.6/site-packages/IPython/core/interactiveshell.py\", line 2910, in run_code\n    exec(code_obj, self.user_global_ns, self.user_ns)\n  File \"<ipython-input-2-d8d4e2454079>\", line 38, in <module>\n    use_clip=True, learning_rate=learning_rate, end_token=data.w2idx[END_TOKEN])\n  File \"/home/eve/Team8/genre/genre_movie_rnn_test.py\", line 36, in __init__\n    self.build_model()\n  File \"/home/eve/Team8/genre/genre_movie_rnn_test.py\", line 45, in build_model\n    outputs, states = tf.nn.dynamic_rnn(cell, self.x_emb, dtype=tf.float32)\n  File \"/etc/anaconda3/lib/python3.6/site-packages/tensorflow/python/ops/rnn.py\", line 627, in dynamic_rnn\n    dtype=dtype)\n  File \"/etc/anaconda3/lib/python3.6/site-packages/tensorflow/python/ops/rnn.py\", line 824, in _dynamic_rnn_loop\n    swap_memory=swap_memory)\n  File \"/etc/anaconda3/lib/python3.6/site-packages/tensorflow/python/ops/control_flow_ops.py\", line 3224, in while_loop\n    result = loop_context.BuildLoop(cond, body, loop_vars, shape_invariants)\n  File \"/etc/anaconda3/lib/python3.6/site-packages/tensorflow/python/ops/control_flow_ops.py\", line 2956, in BuildLoop\n    pred, body, original_loop_vars, loop_vars, shape_invariants)\n  File \"/etc/anaconda3/lib/python3.6/site-packages/tensorflow/python/ops/control_flow_ops.py\", line 2893, in _BuildLoop\n    body_result = body(*packed_vars_for_body)\n  File \"/etc/anaconda3/lib/python3.6/site-packages/tensorflow/python/ops/control_flow_ops.py\", line 3194, in <lambda>\n    body = lambda i, lv: (i + 1, orig_body(*lv))\n  File \"/etc/anaconda3/lib/python3.6/site-packages/tensorflow/python/ops/rnn.py\", line 795, in _time_step\n    (output, new_state) = call_cell()\n  File \"/etc/anaconda3/lib/python3.6/site-packages/tensorflow/python/ops/rnn.py\", line 781, in <lambda>\n    call_cell = lambda: cell(input_t, state)\n  File \"/etc/anaconda3/lib/python3.6/site-packages/tensorflow/python/ops/rnn_cell_impl.py\", line 1099, in __call__\n    output, new_state = self._cell(inputs, state, scope=scope)\n  File \"/etc/anaconda3/lib/python3.6/site-packages/tensorflow/python/ops/rnn_cell_impl.py\", line 339, in __call__\n    *args, **kwargs)\n  File \"/etc/anaconda3/lib/python3.6/site-packages/tensorflow/python/layers/base.py\", line 717, in __call__\n    outputs = self.call(inputs, *args, **kwargs)\n  File \"/etc/anaconda3/lib/python3.6/site-packages/tensorflow/python/ops/rnn_cell_impl.py\", line 620, in call\n    array_ops.concat([inputs, h], 1), self._kernel)\n  File \"/etc/anaconda3/lib/python3.6/site-packages/tensorflow/python/ops/math_ops.py\", line 2122, in matmul\n    a, b, transpose_a=transpose_a, transpose_b=transpose_b, name=name)\n  File \"/etc/anaconda3/lib/python3.6/site-packages/tensorflow/python/ops/gen_math_ops.py\", line 4279, in mat_mul\n    name=name)\n  File \"/etc/anaconda3/lib/python3.6/site-packages/tensorflow/python/framework/op_def_library.py\", line 787, in _apply_op_helper\n    op_def=op_def)\n  File \"/etc/anaconda3/lib/python3.6/site-packages/tensorflow/python/framework/ops.py\", line 3392, in create_op\n    op_def=op_def)\n  File \"/etc/anaconda3/lib/python3.6/site-packages/tensorflow/python/framework/ops.py\", line 1718, in __init__\n    self._traceback = self._graph._extract_stack()  # pylint: disable=protected-access\n\nInternalError (see above for traceback): Blas GEMM launch failed : a.shape=(100, 512), b.shape=(512, 1024), m=100, n=1024, k=512\n\t [[Node: rnn/while/basic_lstm_cell/MatMul = MatMul[T=DT_FLOAT, transpose_a=false, transpose_b=false, _device=\"/job:localhost/replica:0/task:0/device:GPU:0\"](rnn/while/basic_lstm_cell/concat, rnn/while/basic_lstm_cell/MatMul/Enter)]]\n\t [[Node: Mean_4/_33 = _Recv[client_terminated=false, recv_device=\"/job:localhost/replica:0/task:0/device:CPU:0\", send_device=\"/job:localhost/replica:0/task:0/device:GPU:0\", send_device_incarnation=1, tensor_name=\"edge_1006_Mean_4\", tensor_type=DT_FLOAT, _device=\"/job:localhost/replica:0/task:0/device:CPU:0\"]()]]\n"
     ]
    }
   ],
   "source": [
    "for epoch in range(20):\n",
    "    \n",
    "    train_avg_loss, train_avg_acc = 0, 0\n",
    "    \n",
    "    for it in range(train_total_batch):\n",
    "        \n",
    "        #train_x_img, train_x_txt, train_x_txt_length, train_y\n",
    "        train_x_img, train_x_txt, length, train_y = data.get_train(BATCH_SIZE)\n",
    "        \n",
    "        #loss, acc, _, hypothesis_ = sess.run([model.loss, model.accuracy, model.update, model.genre_prob], \n",
    "        #                                     feed_dict={model.x_image: train_x, model.y_label: train_y, model.keep_prob:train_keep_prob, model.is_training:True})\n",
    "        \n",
    "        loss, acc, _, = sess.run([lstm_model.loss, lstm_model.accuracy, lstm_model.update],\n",
    "                            feed_dict={lstm_model.x: train_x_txt, lstm_model.x_len: length, lstm_model.y: train_y, lstm_model.keep_prob: 0.75})\n",
    "        \n",
    "        #train_ids, length, label = data.get_train(BATCH_SIZE)\n",
    "        \n",
    "        #loss, acc, _, = sess.run([model.loss, model.accuracy, model.update],\n",
    "        #                    feed_dict={model.x: train_ids, model.x_len: length, model.y: label, model.keep_prob: 0.75})\n",
    "        \n",
    "        train_avg_loss += loss / train_total_batch\n",
    "        train_avg_acc += acc / train_total_batch\n",
    "        \n",
    "        if it % 10 == 0 and it > 0:\n",
    "            #model.save(sess)\n",
    "            print(\"*Model Saved train_loss: {:.4f}, train_acc: {:.4f}\".format(loss/BATCH_SIZE, acc))\n",
    "        \n",
    "    test_avg_loss, test_avg_acc = test_model()\n",
    "    \n",
    "    train_acc_summary.append(train_avg_acc)\n",
    "    test_acc_summary.append(test_avg_acc)\n",
    "    train_loss_summary.append(train_avg_loss)\n",
    "    test_loss_summary.append(test_avg_loss)\n",
    "    #hypothesis_summary.append(hypothesis_)\n",
    "    \n",
    "    print(\"epoch {} - train_loss: {:.4f}, train_acc: {:.4f}, test_loss: {:.4f}, test_acc: {:.4f}\"\n",
    "          .format(epoch+1, train_avg_loss, train_avg_acc, test_avg_loss, test_avg_acc))  \n",
    "    \n",
    "    #print(\"epoch {} - train_loss: {:.4f}, train_acc: {:.4f}\"\n",
    "    #      .format(epoch+1, train_avg_loss, train_avg_acc))  "
   ]
  },
  {
   "cell_type": "code",
   "execution_count": null,
   "metadata": {},
   "outputs": [],
   "source": [
    "print('Max Train Accuracy {:.2f}%'.format(np.max(train_acc_summary)))\n",
    "print('Max Test Accuracy {:.2f}%'.format(np.max(test_acc_summary)))\n",
    "\n",
    "import matplotlib.pyplot as plt\n",
    "\n",
    "# Get the figure and the axes\n",
    "fig, (acc, loss) = plt.subplots(nrows=1,ncols=2, sharey=False, figsize=(15, 5))\n",
    "\n",
    "# 첫번째 그래프\n",
    "acc.plot(train_acc_summary, 'r', label='train')\n",
    "acc.plot(test_acc_summary, 'b', label='test')\n",
    "acc.legend(loc='upper left', frameon=False)\n",
    "acc.set(title='Accuracy', xlabel='Epoch', ylabel='Accuracy')\n",
    "\n",
    "# 두번째 그래프\n",
    "loss.plot(train_loss_summary, 'r', label='train')\n",
    "loss.plot(test_loss_summary, 'b', label='test')\n",
    "loss.legend(loc='upper left', frameon=False)\n",
    "loss.set(title='Loss', xlabel='Epoch', ylabel='Accuracy')\n",
    "\n",
    "# Title the figure\n",
    "fig.suptitle('TEST', fontsize=14, fontweight='bold')"
   ]
  },
  {
   "cell_type": "code",
   "execution_count": null,
   "metadata": {},
   "outputs": [],
   "source": [
    "#model.restore(sess)"
   ]
  },
  {
   "cell_type": "code",
   "execution_count": null,
   "metadata": {},
   "outputs": [],
   "source": [
    "#test_avg_loss, test_avg_acc = test_model()\n",
    "#test_avg_acc"
   ]
  },
  {
   "cell_type": "code",
   "execution_count": null,
   "metadata": {},
   "outputs": [],
   "source": [
    "hypothesis_summary[-1]"
   ]
  },
  {
   "cell_type": "code",
   "execution_count": null,
   "metadata": {},
   "outputs": [],
   "source": [
    "w = hypothesis_summary[-1]\n",
    "print(w.shape)\n",
    "w = w.reshape(134,91,3,4)\n",
    "\n",
    "w_min, w_max = np.min(w), np.max(w)\n",
    "\n",
    "classes = ['Romance', 'Horror', 'Adventure', 'Documentary']\n",
    "for i in range(4):\n",
    "    plt.subplot(2,5,i+1)\n",
    "    \n",
    "    wimg=255.0*(w[:,:,:,i].squeeze() - w_min)/(w_max-w_min)\n",
    "    plt.imshow(wimg.astype('uint8'))\n",
    "    plt.axis('off')\n",
    "    plt.title(classes[i])"
   ]
  },
  {
   "cell_type": "code",
   "execution_count": null,
   "metadata": {},
   "outputs": [],
   "source": [
    "w = best_softmax.Weights[:-1, :]\n",
    "w = w.reshape(32,32,3,10)\n",
    "\n",
    "w_min, w_max = np.min(w), np.max(w)\n",
    "\n",
    "classes = ['plane', 'car', 'bird', 'cat', 'deer', 'dog', 'frog', 'horse', 'ship', 'truck']\n",
    "for i in range(10):\n",
    "    plt.subplot(2,5,i+1)\n",
    "    \n",
    "    wimg=255.0*(w[:,:,:,i].squeeze() - w_min)/(w_max-w_min)\n",
    "    plt.imshow(wimg.astype('uint8'))\n",
    "    plt.axis('off')\n",
    "    plt.title(classes[i])"
   ]
  },
  {
   "cell_type": "code",
   "execution_count": null,
   "metadata": {},
   "outputs": [],
   "source": [
    "tt = tf.nn.softmax()"
   ]
  },
  {
   "cell_type": "code",
   "execution_count": null,
   "metadata": {},
   "outputs": [],
   "source": []
  }
 ],
 "metadata": {
  "kernelspec": {
   "display_name": "Python 3",
   "language": "python",
   "name": "python3"
  },
  "language_info": {
   "codemirror_mode": {
    "name": "ipython",
    "version": 3
   },
   "file_extension": ".py",
   "mimetype": "text/x-python",
   "name": "python",
   "nbconvert_exporter": "python",
   "pygments_lexer": "ipython3",
   "version": "3.6.4"
  }
 },
 "nbformat": 4,
 "nbformat_minor": 2
}
