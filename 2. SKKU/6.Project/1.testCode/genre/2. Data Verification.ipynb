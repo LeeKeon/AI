{
 "cells": [
  {
   "cell_type": "code",
   "execution_count": 3,
   "metadata": {},
   "outputs": [],
   "source": [
    "import matplotlib.pyplot as plt\n",
    "from scipy import misc\n",
    "import urllib.request\n",
    "import pandas as pd\n",
    "import requests\n",
    "\n",
    "labelPath = './dataset/MovieGenre_genre500_final.csv'\n",
    "posterPath = './dataset/poster_image/'\n",
    "encoding = 'euc-kr' # 문자 인코딩\n",
    "movie_df = pd.read_csv(labelPath, encoding=\"ISO-8859-1\") #판다스이용 csv파일 로딩"
   ]
  },
  {
   "cell_type": "code",
   "execution_count": null,
   "metadata": {},
   "outputs": [
    {
     "name": "stdout",
     "output_type": "stream",
     "text": [
      "417 <Response [404]>\n",
      "439 <Response [404]>\n"
     ]
    }
   ],
   "source": [
    "for movie in movie_df.values:\n",
    "    # movie[7] IMG URL\n",
    "    # movie[0] ID\n",
    "    # movie[3] URL\n",
    "    \n",
    "    response = requests.get(movie[3])\n",
    "    if(response.status_code!=200):\n",
    "        print(movie[0], response)\n",
    "    \n"
   ]
  },
  {
   "cell_type": "code",
   "execution_count": 9,
   "metadata": {},
   "outputs": [],
   "source": [
    "import requests\n",
    "\n",
    "#http://www.imdb.com/title/tt109198\n",
    "#http://www.imdb.com/title/tt0109198\n"
   ]
  },
  {
   "cell_type": "code",
   "execution_count": 12,
   "metadata": {},
   "outputs": [
    {
     "name": "stdout",
     "output_type": "stream",
     "text": [
      "404\n"
     ]
    }
   ],
   "source": [
    "response = requests.get('http://www.imdb.com/title/tt109198') \n",
    "print(response.status_code)"
   ]
  },
  {
   "cell_type": "code",
   "execution_count": null,
   "metadata": {},
   "outputs": [],
   "source": []
  }
 ],
 "metadata": {
  "kernelspec": {
   "display_name": "Python 3",
   "language": "python",
   "name": "python3"
  },
  "language_info": {
   "codemirror_mode": {
    "name": "ipython",
    "version": 3
   },
   "file_extension": ".py",
   "mimetype": "text/x-python",
   "name": "python",
   "nbconvert_exporter": "python",
   "pygments_lexer": "ipython3",
   "version": "3.6.4"
  }
 },
 "nbformat": 4,
 "nbformat_minor": 2
}
