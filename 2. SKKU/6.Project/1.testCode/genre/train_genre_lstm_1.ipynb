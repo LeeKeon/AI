{
 "cells": [
  {
   "cell_type": "code",
   "execution_count": 1,
   "metadata": {},
   "outputs": [
    {
     "name": "stderr",
     "output_type": "stream",
     "text": [
      "/etc/anaconda3/lib/python3.6/site-packages/h5py/__init__.py:36: FutureWarning: Conversion of the second argument of issubdtype from `float` to `np.floating` is deprecated. In future, it will be treated as `np.float64 == np.dtype(float).type`.\n",
      "  from ._conv import register_converters as _register_converters\n"
     ]
    }
   ],
   "source": [
    "# -*- coding: utf-8 -*-\n",
    "\n",
    "import os\n",
    "os.environ['CUDA_VISIBLE_DEVICES'] = \"2\"\n",
    "\n",
    "import tensorflow as tf\n",
    "import numpy as np\n",
    "import time\n",
    "\n",
    "from plot_loader import plot_data\n",
    "\n",
    "\n",
    "def initialize_session():\n",
    "    config = tf.ConfigProto()\n",
    "    config.gpu_options.per_process_gpu_memory_fraction = 0.4\n",
    "    return tf.Session(config=config)\n",
    "\n",
    "train_acc_summary = [] # 학습용 데이터의 오류를 중간 중간 기록한다\n",
    "test_acc_summary = []  # 테스트용 데이터의 오류를 중간 중간 기록한다\n",
    "\n"
   ]
  },
  {
   "cell_type": "code",
   "execution_count": 2,
   "metadata": {},
   "outputs": [],
   "source": [
    "##################################################\n",
    "max_len = 500           # sequence 단어 수 제한\n",
    "max_vocab = 30000       # maximum 단어 개수\n",
    "BATCH_SIZE = 10         # 배치 사이즈\n",
    "emb_dim = 128            # 단어 embedding dimension\n",
    "hidden_dim = 128        # RNN hidden dim\n",
    "learning_rate = 0.001  # Learning rate\n",
    "use_clip = True         # Gradient clipping 쓸지 여부\n",
    "class_size = 4\n",
    "train_acc_summary = [] # 학습용 데이터의 정확도를 중간 중간 기록한다\n",
    "test_acc_summary = []  # 테스트용 데이터의 정확도를 중간 중간 기록한다\n",
    "train_loss_summary = [] # 학습용 데이터의 정확도를 중간 중간 기록한다\n",
    "test_loss_summary = []  # 테스트용 데이터의 정확도를 중간 중간 기록한다\n",
    "##################################################\n",
    "data = plot_data(max_vocab=max_vocab, max_len=max_len)\n",
    "from genre_movie_rnn import Model\n",
    "END_TOKEN = \"<eos>\"\n",
    "model = Model(max_len=max_len,\n",
    "              emb_dim=emb_dim,\n",
    "              hidden_dim=hidden_dim,\n",
    "              vocab_size=max_vocab,\n",
    "              class_size=class_size,\n",
    "              use_clip=True, learning_rate=learning_rate, end_token=data.w2idx[END_TOKEN])\n",
    "\n",
    "sess = initialize_session()\n",
    "sess.run(tf.global_variables_initializer())"
   ]
  },
  {
   "cell_type": "code",
   "execution_count": 3,
   "metadata": {},
   "outputs": [
    {
     "name": "stdout",
     "output_type": "stream",
     "text": [
      "epoch 1 - train_loss: 1.0703, train_acc: 0.5240, test_loss: 0.8607, test_acc: 0.6689\n",
      "epoch 2 - train_loss: 0.4685, train_acc: 0.8385, test_loss: 0.6961, test_acc: 0.7585\n",
      "epoch 3 - train_loss: 0.1233, train_acc: 0.9617, test_loss: 0.7766, test_acc: 0.7594\n",
      "epoch 4 - train_loss: 0.0393, train_acc: 0.9883, test_loss: 0.9273, test_acc: 0.7248\n",
      "epoch 5 - train_loss: 0.0177, train_acc: 0.9933, test_loss: 1.1448, test_acc: 0.7198\n",
      "epoch 6 - train_loss: 0.0136, train_acc: 0.9940, test_loss: 0.9843, test_acc: 0.7795\n",
      "epoch 7 - train_loss: 0.0345, train_acc: 0.9881, test_loss: 1.0093, test_acc: 0.7114\n",
      "epoch 8 - train_loss: 0.0256, train_acc: 0.9910, test_loss: 1.1157, test_acc: 0.6955\n",
      "epoch 9 - train_loss: 0.0245, train_acc: 0.9900, test_loss: 1.0730, test_acc: 0.7106\n",
      "epoch 10 - train_loss: 0.0127, train_acc: 0.9944, test_loss: 1.1463, test_acc: 0.7484\n",
      "epoch 11 - train_loss: 0.0117, train_acc: 0.9942, test_loss: 1.1908, test_acc: 0.7576\n",
      "epoch 12 - train_loss: 0.0116, train_acc: 0.9940, test_loss: 1.2543, test_acc: 0.7526\n",
      "epoch 13 - train_loss: 0.0115, train_acc: 0.9940, test_loss: 1.3046, test_acc: 0.7568\n",
      "epoch 14 - train_loss: 0.0114, train_acc: 0.9940, test_loss: 1.3369, test_acc: 0.7610\n",
      "epoch 15 - train_loss: 0.0114, train_acc: 0.9940, test_loss: 1.3644, test_acc: 0.7695\n"
     ]
    }
   ],
   "source": [
    "def test_model():\n",
    "    total_batch = int(len(data.test_ids) / BATCH_SIZE)\n",
    "    test_loss, test_acc = 0, 0\n",
    "        \n",
    "    for _ in range(total_batch):\n",
    "        test_ids, length, label = data.get_test(BATCH_SIZE)\n",
    "        loss, acc = sess.run([model.loss, model.accuracy], feed_dict={model.x: test_ids, model.x_len: length, model.y: label})\n",
    "\n",
    "        test_loss += loss\n",
    "        test_acc += acc\n",
    "        \n",
    "    return test_loss/total_batch, test_acc/ total_batch\n",
    "#     print(\" --> test_loss: {:.3f} | test_acc: {:.3f}\".format(test_loss / test_cnt, same/test_cnt/BATCH_SIZE))\n",
    "\n",
    "total_batch = int(len(data.train_ids) / BATCH_SIZE)\n",
    "for epoch in range(15):\n",
    "    \n",
    "    train_avg_loss, train_avg_acc = 0, 0\n",
    "    \n",
    "    for it in range(total_batch):\n",
    "        train_ids, length, label = data.get_train(BATCH_SIZE)\n",
    "        \n",
    "        loss, acc, _, = sess.run([model.loss, model.accuracy, model.update],\n",
    "                            feed_dict={model.x: train_ids, model.x_len: length, model.y: label, model.keep_prob: 0.75})\n",
    "        train_avg_loss += loss / total_batch\n",
    "        train_avg_acc += acc / total_batch\n",
    "\n",
    "    test_avg_loss, test_avg_acc = test_model()\n",
    "    \n",
    "    train_acc_summary.append(train_avg_acc)\n",
    "    test_acc_summary.append(test_avg_acc)\n",
    "    train_loss_summary.append(train_avg_loss)\n",
    "    test_loss_summary.append(test_avg_loss)\n",
    "    \n",
    "    print(\"epoch {} - train_loss: {:.4f}, train_acc: {:.4f}, test_loss: {:.4f}, test_acc: {:.4f}\"\n",
    "          .format(epoch+1, train_avg_loss, train_avg_acc, test_avg_loss, test_avg_acc))  \n",
    "    \n"
   ]
  },
  {
   "cell_type": "code",
   "execution_count": 6,
   "metadata": {},
   "outputs": [
    {
     "name": "stdout",
     "output_type": "stream",
     "text": [
      "Max Train Accuracy 0.99%\n",
      "Max Test Accuracy 0.78%\n"
     ]
    },
    {
     "data": {
      "text/plain": [
       "Text(0.5,0.98,'TEST')"
      ]
     },
     "execution_count": 6,
     "metadata": {},
     "output_type": "execute_result"
    },
    {
     "data": {
      "image/png": "[encoded data removed]",
      "text/plain": [
       "<matplotlib.figure.Figure at 0x7fb6b0781358>"
      ]
     },
     "metadata": {},
     "output_type": "display_data"
    }
   ],
   "source": [
    "print('Max Train Accuracy {:.2f}%'.format(np.max(np.max(train_acc_summary))))\n",
    "print('Max Test Accuracy {:.2f}%'.format(np.max(test_acc_summary)))\n",
    "\n",
    "import matplotlib.pyplot as plt\n",
    "\n",
    "# Get the figure and the axes\n",
    "fig, (acc, loss) = plt.subplots(nrows=1,ncols=2, sharey=False, figsize=(15, 5))\n",
    "\n",
    "# 첫번째 그래프\n",
    "acc.plot(train_acc_summary, 'r', label='train')\n",
    "acc.plot(test_acc_summary, 'b', label='test')\n",
    "acc.legend(loc='upper left', frameon=False)\n",
    "acc.set(title='Accuracy', xlabel='Epoch', ylabel='Accuracy')\n",
    "\n",
    "# 두번째 그래프\n",
    "loss.plot(train_loss_summary, 'r', label='train')\n",
    "loss.plot(test_loss_summary, 'b', label='test')\n",
    "loss.legend(loc='upper left', frameon=False)\n",
    "loss.set(title='Loss', xlabel='Epoch', ylabel='Accuracy')\n",
    "\n",
    "# Title the figure\n",
    "fig.suptitle('TEST', fontsize=14, fontweight='bold')"
   ]
  },
  {
   "cell_type": "code",
   "execution_count": 5,
   "metadata": {},
   "outputs": [
    {
     "name": "stdout",
     "output_type": "stream",
     "text": [
      "Tensor(\"one_hot_1:0\", shape=(10, 4), dtype=float32)\n"
     ]
    }
   ],
   "source": [
    "print(tf.one_hot(tf.to_int32(tf.reshape(label, [-1])), 4, 1.0, 0.0))"
   ]
  },
  {
   "cell_type": "code",
   "execution_count": null,
   "metadata": {},
   "outputs": [],
   "source": [
    "train_ids[3]"
   ]
  },
  {
   "cell_type": "code",
   "execution_count": null,
   "metadata": {},
   "outputs": [],
   "source": [
    "train_ids"
   ]
  },
  {
   "cell_type": "code",
   "execution_count": null,
   "metadata": {},
   "outputs": [],
   "source": []
  }
 ],
 "metadata": {
  "kernelspec": {
   "display_name": "Python 3",
   "language": "python",
   "name": "python3"
  },
  "language_info": {
   "codemirror_mode": {
    "name": "ipython",
    "version": 3
   },
   "file_extension": ".py",
   "mimetype": "text/x-python",
   "name": "python",
   "nbconvert_exporter": "python",
   "pygments_lexer": "ipython3",
   "version": "3.6.4"
  }
 },
 "nbformat": 4,
 "nbformat_minor": 2
}
