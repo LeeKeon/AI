{
 "cells": [
  {
   "cell_type": "code",
   "execution_count": 1,
   "metadata": {},
   "outputs": [
    {
     "name": "stderr",
     "output_type": "stream",
     "text": [
      "/etc/anaconda3/lib/python3.6/site-packages/h5py/__init__.py:36: FutureWarning: Conversion of the second argument of issubdtype from `float` to `np.floating` is deprecated. In future, it will be treated as `np.float64 == np.dtype(float).type`.\n",
      "  from ._conv import register_converters as _register_converters\n",
      "Using TensorFlow backend.\n"
     ]
    },
    {
     "name": "stdout",
     "output_type": "stream",
     "text": [
      "x_train size 4800\n",
      "y_train size 4800\n",
      "x_test  size 1200\n",
      "y_test  size 1200\n"
     ]
    }
   ],
   "source": [
    "# -*- coding: utf-8 -*-\n",
    "\n",
    "import os\n",
    "os.environ['CUDA_VISIBLE_DEVICES'] = \"2\"\n",
    "\n",
    "import tensorflow as tf\n",
    "import numpy as np\n",
    "import time\n",
    "\n",
    "from genre_data_loader import movie_data\n",
    "data = movie_data(data_type='image')\n",
    "\n",
    "def initialize_session():\n",
    "    config = tf.ConfigProto()\n",
    "    config.gpu_options.per_process_gpu_memory_fraction = 0.4\n",
    "    return tf.Session(config=config)"
   ]
  },
  {
   "cell_type": "code",
   "execution_count": 2,
   "metadata": {
    "scrolled": true
   },
   "outputs": [
    {
     "name": "stdout",
     "output_type": "stream",
     "text": [
      "conv1 Tensor(\"MaxPool:0\", shape=(?, 67, 45, 64), dtype=float32)\n",
      "conv2 Tensor(\"dropout/mul:0\", shape=(?, 33, 22, 128), dtype=float32)\n",
      "conv3 Tensor(\"dropout_1/mul:0\", shape=(?, 16, 11, 256), dtype=float32)\n",
      "x_image Tensor(\"Mean:0\", shape=(?, 256), dtype=float32)\n"
     ]
    }
   ],
   "source": [
    "##################################################\n",
    "BATCH_SIZE = 128\n",
    "class_size = 4\n",
    "learning_rate = 0.001   # Learning rate\n",
    "use_clip = True         # Gradient clipping 쓸지 여부\n",
    "train_keep_prob = 0.7\n",
    "train_total_batch = int(data.train_size / BATCH_SIZE)\n",
    "test_total_batch = int(data.test_size / BATCH_SIZE)\n",
    "train_acc_summary = [] # 학습용 데이터의 정확도를 중간 중간 기록한다\n",
    "test_acc_summary = []  # 테스트용 데이터의 정확도를 중간 중간 기록한다\n",
    "train_loss_summary = [] # 학습용 데이터의 정확도를 중간 중간 기록한다\n",
    "test_loss_summary = []  # 테스트용 데이터의 정확도를 중간 중간 기록한다\n",
    "hypothesis_summary = []\n",
    "##################################################\n",
    "from genre_model_resnet_style import Model\n",
    "model = Model(use_clip=use_clip, class_size=class_size, learning_rate=learning_rate)\n",
    "\n",
    "sess = initialize_session()\n",
    "sess.run(tf.global_variables_initializer())\n",
    "\n",
    "def test_model():\n",
    "    test_loss, test_acc = 0, 0\n",
    "\n",
    "    for _ in range(test_total_batch):\n",
    "        test_x, test_y = data.get_test(BATCH_SIZE)\n",
    "        \n",
    "        loss, acc = sess.run([model.loss, model.accuracy],\n",
    "                              feed_dict={model.x_image: test_x, model.y_label: test_y, model.keep_prob : 1.0, model.is_training:False})\n",
    "        test_loss += loss\n",
    "        test_acc += acc\n",
    "        \n",
    "    return test_loss/test_total_batch, test_acc/test_total_batch\n",
    "    #print(\" * test loss: {:.3f} | test acc: {:.3f}\\n\".format(test_loss / test_cnt, sess.run(model.accuracy, feed_dict={model.x_image: test_x, model.y_label: test_label})))\n",
    "\n"
   ]
  },
  {
   "cell_type": "code",
   "execution_count": 3,
   "metadata": {
    "scrolled": true
   },
   "outputs": [
    {
     "name": "stdout",
     "output_type": "stream",
     "text": [
      "epoch 1 - train_loss: 1.3096, train_acc: 0.3706, test_loss: 1.3000, test_acc: 0.3742\n",
      "epoch 2 - train_loss: 1.2856, train_acc: 0.3985, test_loss: 1.2744, test_acc: 0.4125\n",
      "epoch 3 - train_loss: 1.2729, train_acc: 0.4010, test_loss: 1.2708, test_acc: 0.3733\n",
      "epoch 4 - train_loss: 1.2564, train_acc: 0.4215, test_loss: 1.2500, test_acc: 0.4225\n",
      "epoch 5 - train_loss: 1.2371, train_acc: 0.4287, test_loss: 1.2387, test_acc: 0.4417\n",
      "epoch 6 - train_loss: 1.2168, train_acc: 0.4573, test_loss: 1.2198, test_acc: 0.4450\n",
      "epoch 7 - train_loss: 1.2025, train_acc: 0.4656, test_loss: 1.2074, test_acc: 0.4683\n",
      "epoch 8 - train_loss: 1.1789, train_acc: 0.4821, test_loss: 1.1960, test_acc: 0.4608\n",
      "epoch 9 - train_loss: 1.1641, train_acc: 0.4927, test_loss: 1.1759, test_acc: 0.4733\n",
      "epoch 10 - train_loss: 1.1431, train_acc: 0.5056, test_loss: 1.1669, test_acc: 0.4800\n",
      "epoch 11 - train_loss: 1.1246, train_acc: 0.5158, test_loss: 1.1541, test_acc: 0.4950\n",
      "epoch 12 - train_loss: 1.1020, train_acc: 0.5340, test_loss: 1.1592, test_acc: 0.4858\n",
      "epoch 13 - train_loss: 1.0833, train_acc: 0.5419, test_loss: 1.1768, test_acc: 0.4850\n",
      "epoch 14 - train_loss: 1.0651, train_acc: 0.5504, test_loss: 1.1603, test_acc: 0.5000\n",
      "epoch 15 - train_loss: 1.0497, train_acc: 0.5623, test_loss: 1.1610, test_acc: 0.4925\n",
      "epoch 16 - train_loss: 1.0284, train_acc: 0.5706, test_loss: 1.1557, test_acc: 0.4983\n",
      "epoch 17 - train_loss: 1.0098, train_acc: 0.5827, test_loss: 1.1456, test_acc: 0.5050\n",
      "epoch 18 - train_loss: 0.9922, train_acc: 0.5898, test_loss: 1.1571, test_acc: 0.4992\n",
      "epoch 19 - train_loss: 0.9763, train_acc: 0.5942, test_loss: 1.1626, test_acc: 0.4975\n",
      "epoch 20 - train_loss: 0.9533, train_acc: 0.6092, test_loss: 1.1654, test_acc: 0.4908\n"
     ]
    }
   ],
   "source": [
    "for epoch in range(20):\n",
    "    \n",
    "    train_avg_loss, train_avg_acc = 0, 0\n",
    "    \n",
    "    for it in range(train_total_batch):\n",
    "        train_x, train_y = data.get_train(BATCH_SIZE)\n",
    "        \n",
    "        loss, acc, _, hypothesis_ = sess.run([model.loss, model.accuracy, model.update, model.genre_prob], feed_dict={model.x_image: train_x, model.y_label: train_y, model.keep_prob:train_keep_prob, model.is_training:True})\n",
    "        train_avg_loss += loss / train_total_batch\n",
    "        train_avg_acc += acc / train_total_batch\n",
    "        \n",
    "        #if it % 10 == 0 and it > 0:\n",
    "            #model.save(sess)\n",
    "            #print(\"*Model Saved train_loss: {:.4f}, train_acc: {:.4f}\".format(loss/BATCH_SIZE, acc))\n",
    "        \n",
    "    test_avg_loss, test_avg_acc = test_model()\n",
    "    \n",
    "    train_acc_summary.append(train_avg_acc)\n",
    "    test_acc_summary.append(test_avg_acc)\n",
    "    train_loss_summary.append(train_avg_loss)\n",
    "    test_loss_summary.append(test_avg_loss)\n",
    "    hypothesis_summary.append(hypothesis_)\n",
    "    \n",
    "    print(\"epoch {} - train_loss: {:.4f}, train_acc: {:.4f}, test_loss: {:.4f}, test_acc: {:.4f}\"\n",
    "          .format(epoch+1, train_avg_loss, train_avg_acc, test_avg_loss, test_avg_acc))  "
   ]
  },
  {
   "cell_type": "code",
   "execution_count": 6,
   "metadata": {},
   "outputs": [
    {
     "name": "stdout",
     "output_type": "stream",
     "text": [
      "Max Train Accuracy 0.61%\n",
      "Max Test Accuracy 0.51%\n"
     ]
    },
    {
     "data": {
      "text/plain": [
       "Text(0.5,0.98,'TEST')"
      ]
     },
     "execution_count": 6,
     "metadata": {},
     "output_type": "execute_result"
    },
    {
     "data": {
      "image/png": "[encoded data removed]",
      "text/plain": [
       "<matplotlib.figure.Figure at 0x7fc8ec463320>"
      ]
     },
     "metadata": {},
     "output_type": "display_data"
    }
   ],
   "source": [
    "print('Max Train Accuracy {:.2f}%'.format(np.max(train_acc_summary)))\n",
    "print('Max Test Accuracy {:.2f}%'.format(np.max(test_acc_summary)))\n",
    "\n",
    "import matplotlib.pyplot as plt\n",
    "\n",
    "# Get the figure and the axes\n",
    "fig, (acc, loss) = plt.subplots(nrows=1,ncols=2, sharey=False, figsize=(15, 5))\n",
    "\n",
    "# 첫번째 그래프\n",
    "acc.plot(train_acc_summary, 'r', label='train')\n",
    "acc.plot(test_acc_summary, 'b', label='test')\n",
    "acc.legend(loc='upper left', frameon=False)\n",
    "acc.set(title='Accuracy', xlabel='Epoch', ylabel='Accuracy')\n",
    "\n",
    "# 두번째 그래프\n",
    "loss.plot(train_loss_summary, 'r', label='train')\n",
    "loss.plot(test_loss_summary, 'b', label='test')\n",
    "loss.legend(loc='upper left', frameon=False)\n",
    "loss.set(title='Loss', xlabel='Epoch', ylabel='Accuracy')\n",
    "\n",
    "# Title the figure\n",
    "fig.suptitle('TEST', fontsize=14, fontweight='bold')"
   ]
  },
  {
   "cell_type": "code",
   "execution_count": 7,
   "metadata": {},
   "outputs": [],
   "source": [
    "#model.restore(sess)"
   ]
  },
  {
   "cell_type": "code",
   "execution_count": 8,
   "metadata": {},
   "outputs": [],
   "source": [
    "#test_avg_loss, test_avg_acc = test_model()\n",
    "#test_avg_acc"
   ]
  },
  {
   "cell_type": "code",
   "execution_count": 9,
   "metadata": {},
   "outputs": [
    {
     "data": {
      "text/plain": [
       "array([[3.3667773e-02, 5.6730127e-01, 1.3502705e-01, 2.6400390e-01],\n",
       "       [5.0630420e-01, 1.7291715e-03, 4.3757707e-01, 5.4389562e-02],\n",
       "       [5.5353588e-01, 1.2383614e-01, 1.2115230e-01, 2.0147564e-01],\n",
       "       [2.9286247e-01, 4.0355507e-02, 5.7774864e-02, 6.0900724e-01],\n",
       "       [2.7234644e-01, 2.7427709e-01, 1.4499238e-01, 3.0838409e-01],\n",
       "       [7.7068515e-02, 5.7179458e-02, 5.9014028e-01, 2.7561179e-01],\n",
       "       [6.0088265e-01, 1.9104604e-02, 2.0996752e-01, 1.7004529e-01],\n",
       "       [7.6992369e-01, 3.4708604e-02, 7.2463907e-02, 1.2290387e-01],\n",
       "       [8.5584480e-01, 8.6471923e-03, 6.6624872e-02, 6.8883099e-02],\n",
       "       [6.1563253e-01, 8.3853476e-02, 1.8142650e-01, 1.1908756e-01],\n",
       "       [1.8427598e-01, 6.1945081e-02, 1.6981272e-01, 5.8396620e-01],\n",
       "       [2.1332709e-01, 4.6126366e-01, 2.4385862e-01, 8.1550643e-02],\n",
       "       [1.0699044e-03, 3.6591440e-04, 9.5649278e-01, 4.2071413e-02],\n",
       "       [5.3166315e-02, 1.7690097e-01, 3.8146436e-01, 3.8846835e-01],\n",
       "       [1.3141927e-01, 1.4319406e-01, 1.9263139e-02, 7.0612353e-01],\n",
       "       [1.5187548e-01, 4.3014991e-01, 2.8862199e-02, 3.8911244e-01]],\n",
       "      dtype=float32)"
      ]
     },
     "execution_count": 9,
     "metadata": {},
     "output_type": "execute_result"
    }
   ],
   "source": [
    "hypothesis_summary[-1]"
   ]
  },
  {
   "cell_type": "code",
   "execution_count": 10,
   "metadata": {},
   "outputs": [
    {
     "name": "stdout",
     "output_type": "stream",
     "text": [
      "(16, 4)\n"
     ]
    },
    {
     "ename": "ValueError",
     "evalue": "cannot reshape array of size 64 into shape (134,91,3,4)",
     "output_type": "error",
     "traceback": [
      "\u001b[0;31m---------------------------------------------------------------------------\u001b[0m",
      "\u001b[0;31mValueError\u001b[0m                                Traceback (most recent call last)",
      "\u001b[0;32m<ipython-input-10-05f4eb1346f6>\u001b[0m in \u001b[0;36m<module>\u001b[0;34m()\u001b[0m\n\u001b[1;32m      1\u001b[0m \u001b[0mw\u001b[0m \u001b[0;34m=\u001b[0m \u001b[0mhypothesis_summary\u001b[0m\u001b[0;34m[\u001b[0m\u001b[0;34m-\u001b[0m\u001b[0;36m1\u001b[0m\u001b[0;34m]\u001b[0m\u001b[0;34m\u001b[0m\u001b[0m\n\u001b[1;32m      2\u001b[0m \u001b[0mprint\u001b[0m\u001b[0;34m(\u001b[0m\u001b[0mw\u001b[0m\u001b[0;34m.\u001b[0m\u001b[0mshape\u001b[0m\u001b[0;34m)\u001b[0m\u001b[0;34m\u001b[0m\u001b[0m\n\u001b[0;32m----> 3\u001b[0;31m \u001b[0mw\u001b[0m \u001b[0;34m=\u001b[0m \u001b[0mw\u001b[0m\u001b[0;34m.\u001b[0m\u001b[0mreshape\u001b[0m\u001b[0;34m(\u001b[0m\u001b[0;36m134\u001b[0m\u001b[0;34m,\u001b[0m\u001b[0;36m91\u001b[0m\u001b[0;34m,\u001b[0m\u001b[0;36m3\u001b[0m\u001b[0;34m,\u001b[0m\u001b[0;36m4\u001b[0m\u001b[0;34m)\u001b[0m\u001b[0;34m\u001b[0m\u001b[0m\n\u001b[0m\u001b[1;32m      4\u001b[0m \u001b[0;34m\u001b[0m\u001b[0m\n\u001b[1;32m      5\u001b[0m \u001b[0mw_min\u001b[0m\u001b[0;34m,\u001b[0m \u001b[0mw_max\u001b[0m \u001b[0;34m=\u001b[0m \u001b[0mnp\u001b[0m\u001b[0;34m.\u001b[0m\u001b[0mmin\u001b[0m\u001b[0;34m(\u001b[0m\u001b[0mw\u001b[0m\u001b[0;34m)\u001b[0m\u001b[0;34m,\u001b[0m \u001b[0mnp\u001b[0m\u001b[0;34m.\u001b[0m\u001b[0mmax\u001b[0m\u001b[0;34m(\u001b[0m\u001b[0mw\u001b[0m\u001b[0;34m)\u001b[0m\u001b[0;34m\u001b[0m\u001b[0m\n",
      "\u001b[0;31mValueError\u001b[0m: cannot reshape array of size 64 into shape (134,91,3,4)"
     ]
    }
   ],
   "source": [
    "w = hypothesis_summary[-1]\n",
    "print(w.shape)\n",
    "w = w.reshape(134,91,3,4)\n",
    "\n",
    "w_min, w_max = np.min(w), np.max(w)\n",
    "\n",
    "classes = ['Romance', 'Horror', 'Adventure', 'Documentary']\n",
    "for i in range(4):\n",
    "    plt.subplot(2,5,i+1)\n",
    "    \n",
    "    wimg=255.0*(w[:,:,:,i].squeeze() - w_min)/(w_max-w_min)\n",
    "    plt.imshow(wimg.astype('uint8'))\n",
    "    plt.axis('off')\n",
    "    plt.title(classes[i])"
   ]
  },
  {
   "cell_type": "code",
   "execution_count": null,
   "metadata": {},
   "outputs": [],
   "source": [
    "w = best_softmax.Weights[:-1, :]\n",
    "w = w.reshape(32,32,3,10)\n",
    "\n",
    "w_min, w_max = np.min(w), np.max(w)\n",
    "\n",
    "classes = ['plane', 'car', 'bird', 'cat', 'deer', 'dog', 'frog', 'horse', 'ship', 'truck']\n",
    "for i in range(10):\n",
    "    plt.subplot(2,5,i+1)\n",
    "    \n",
    "    wimg=255.0*(w[:,:,:,i].squeeze() - w_min)/(w_max-w_min)\n",
    "    plt.imshow(wimg.astype('uint8'))\n",
    "    plt.axis('off')\n",
    "    plt.title(classes[i])"
   ]
  },
  {
   "cell_type": "code",
   "execution_count": null,
   "metadata": {},
   "outputs": [],
   "source": [
    "tt = tf.nn.softmax()"
   ]
  },
  {
   "cell_type": "code",
   "execution_count": null,
   "metadata": {},
   "outputs": [],
   "source": []
  }
 ],
 "metadata": {
  "kernelspec": {
   "display_name": "Python 3",
   "language": "python",
   "name": "python3"
  },
  "language_info": {
   "codemirror_mode": {
    "name": "ipython",
    "version": 3
   },
   "file_extension": ".py",
   "mimetype": "text/x-python",
   "name": "python",
   "nbconvert_exporter": "python",
   "pygments_lexer": "ipython3",
   "version": "3.6.4"
  }
 },
 "nbformat": 4,
 "nbformat_minor": 2
}
