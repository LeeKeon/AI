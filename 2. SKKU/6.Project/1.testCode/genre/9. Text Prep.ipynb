{
 "cells": [
  {
   "cell_type": "code",
   "execution_count": 55,
   "metadata": {},
   "outputs": [],
   "source": [
    "import os\n",
    "import nltk\n",
    "\n",
    "img_path = \"./dataset/poster_image/new/\"\n",
    "label_path = \"./dataset/MovieGenre_fix_leekeon_total6000.csv\"\n",
    "plot_path = \"./dataset/poster_txt/Adventure/\"\n",
    "\n",
    "files = [file for file in os.listdir(plot_path)\n",
    "    if os.path.isfile(os.path.join(plot_path,file))]"
   ]
  },
  {
   "cell_type": "code",
   "execution_count": 56,
   "metadata": {},
   "outputs": [],
   "source": [
    "def content_prep(text, stopwords):\n",
    "    stopwords = nltk.corpus.stopwords.words('english')\n",
    "    content = []\n",
    "    wnl = nltk.WordNetLemmatizer()\n",
    "    \n",
    "    for c,w in text:\n",
    "        #word = wnl.lemmatize(w)\n",
    "        word = w\n",
    "        if word.lower() not in stopwords and re.search('[A-Za-z0-9]$', word):\n",
    "        #if word.lower() not in stopwords:\n",
    "            content+={(c, word)}\n",
    "    return content"
   ]
  },
  {
   "cell_type": "code",
   "execution_count": 57,
   "metadata": {},
   "outputs": [],
   "source": [
    "import re\n",
    "\n",
    "romance_sents = []\n",
    "wnl = nltk.WordNetLemmatizer()\n",
    "for file in files:        \n",
    "    with open(plot_path + file, \"r\", encoding=\"utf-8\") as fin:\n",
    "        sents = nltk.sent_tokenize(fin.readline())\n",
    "        for s in sents:\n",
    "            result_sent = ''\n",
    "            words = nltk.word_tokenize(s)\n",
    "            for w in words:\n",
    "                word_lem = wnl.lemmatize(w.lower())\n",
    "                \n",
    "                if word_lem not in stopwords and re.search('[A-Za-z0-9]$', word_lem):\n",
    "                    if(len(result_sent)<1):\n",
    "                        result_sent = word_lem\n",
    "                    else:\n",
    "                        result_sent = result_sent + ' ' + word_lem\n",
    "                    \n",
    "            romance_sents.append(result_sent)\n",
    "            #print(word)\n",
    "            #print('-'* 100)"
   ]
  },
  {
   "cell_type": "code",
   "execution_count": 59,
   "metadata": {},
   "outputs": [],
   "source": [
    "f = open(\"Romance.txt\", 'w')\n",
    "f.write('\\n'.join(romance_sents))\n",
    "f.close()"
   ]
  },
  {
   "cell_type": "code",
   "execution_count": 25,
   "metadata": {},
   "outputs": [
    {
     "name": "stdout",
     "output_type": "stream",
     "text": [
      "A love story between two hackers, Soyan and Loise.\n",
      "Like many other hackers, Soyan works for a company he previously hacked.\n"
     ]
    }
   ],
   "source": [
    "with open(plot_path + files[0], \"r\", encoding=\"utf-8\") as fin:\n",
    "    hi = nltk.sent_tokenize(fin.readline())\n",
    "    print(hi[0])\n",
    "    print(hi[1])"
   ]
  },
  {
   "cell_type": "code",
   "execution_count": 21,
   "metadata": {},
   "outputs": [
    {
     "name": "stdout",
     "output_type": "stream",
     "text": [
      "['A love story between two hackers, Soyan and Loise.', 'Like many other hackers, Soyan works for a company he previously hacked.']\n"
     ]
    }
   ],
   "source": [
    "content = []\n",
    "with open(plot_path + files[0], \"r\", encoding=\"utf-8\") as fin:\n",
    "    plot = fin.readline()\n",
    "    \n",
    "    sent = nltk.sent_tokenize(plot)\n",
    "    \n",
    "    print(sent)\n",
    "    "
   ]
  },
  {
   "cell_type": "code",
   "execution_count": null,
   "metadata": {},
   "outputs": [],
   "source": []
  }
 ],
 "metadata": {
  "kernelspec": {
   "display_name": "Python 3",
   "language": "python",
   "name": "python3"
  },
  "language_info": {
   "codemirror_mode": {
    "name": "ipython",
    "version": 3
   },
   "file_extension": ".py",
   "mimetype": "text/x-python",
   "name": "python",
   "nbconvert_exporter": "python",
   "pygments_lexer": "ipython3",
   "version": "3.6.4"
  }
 },
 "nbformat": 4,
 "nbformat_minor": 2
}
