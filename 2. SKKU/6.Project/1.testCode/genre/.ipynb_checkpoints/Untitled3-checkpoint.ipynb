{
 "cells": [
  {
   "cell_type": "code",
   "execution_count": 42,
   "metadata": {},
   "outputs": [],
   "source": [
    "import os\n",
    "import random\n",
    "import numpy as np\n",
    "\n",
    "class plot_data(object):\n",
    "    def __init__(self, path=\"./dataset/poster_txt\", max_vocab=20000, max_len=90, end_token=\"<eos>\"):\n",
    "        self.train_pt, self.val_pt, self.test_pt = 0, 0, 0\n",
    "        self.path = path\n",
    "        self.max_len = max_len\n",
    "        self.max_vocab = max_vocab\n",
    "\n",
    "        self.w2idx = {end_token: 0, \"<unk>\": 1}\n",
    "        self.x_ids, self.x_len, self.x_label = self.files_to_ids(path)\n",
    "        self.vocab_size = len(self.w2idx)\n",
    "\n",
    "\n",
    "        self.train_size = int(len(self.x_ids) * 0.8)\n",
    "        self.test_size = len(self.x_ids) - self.train_size\n",
    "\n",
    "        self.train_ids, self.train_len, self.train_label = \\\n",
    "        self.x_ids[0:self.train_size], self.x_len[0:self.train_size], self.x_label[0:self.train_size]\n",
    "\n",
    "        self.test_ids, self.test_len, self.test_label = \\\n",
    "        self.x_ids[self.train_size:-1], self.x_len[self.train_size:-1], self.x_label[self.train_size:-1]\n",
    "\n",
    "        self.idx2w = {}\n",
    "        for word in self.w2idx:\n",
    "            self.idx2w[self.w2idx[word]] = word\n",
    "\n",
    "    def get_w2idx(self, word):\n",
    "        return 1 if word not in self.w2idx else self.w2idx[word]\n",
    "\n",
    "    def files_to_ids(self, path):\n",
    "        self.adventure_list = os.listdir(path + \"/Adventure\")\n",
    "        self.documentary_list = os.listdir(path + \"/Documentary\")\n",
    "        self.horror_list = os.listdir(path + \"/Horror\")\n",
    "        self.romance_list = os.listdir(path + \"/Romance\")\n",
    "\n",
    "        size = min(len(self.adventure_list), len(self.documentary_list), len(self.horror_list), len(self.romance_list))\n",
    "        lines = []\n",
    "        for i in range(size):\n",
    "            with open(path + \"/Adventure/\" + self.adventure_list[i], \"r\", encoding=\"utf-8\") as fin:\n",
    "                lines.append(fin.readline())\n",
    "            with open(path + \"/Documentary/\" + self.documentary_list[i], \"r\", encoding=\"utf-8\") as fin:\n",
    "                lines.append(fin.readline())\n",
    "            with open(path + \"/Horror/\" + self.horror_list[i], \"r\", encoding=\"utf-8\") as fin:\n",
    "                lines.append(fin.readline())\n",
    "            with open(path + \"/Romance/\" + self.romance_list[i], \"r\", encoding=\"utf-8\") as fin:\n",
    "                lines.append(fin.readline())\n",
    "\n",
    "        cnt = {}\n",
    "        for line in lines:\n",
    "            for word in line.split():\n",
    "                if word in cnt:\n",
    "                    cnt[word] += 1\n",
    "                else:\n",
    "                    cnt[word] = 1\n",
    "        cnt_sort = sorted(cnt.items(), key=lambda cnt:cnt[1], reverse=True)\n",
    "        for word, count in cnt_sort:\n",
    "            self.w2idx[word] = len(self.w2idx)\n",
    "            if self.w2idx == self.max_vocab:\n",
    "                break\n",
    "\n",
    "        #random suffling\n",
    "        random.seed(777)\n",
    "        random.shuffle(lines)\n",
    "\n",
    "        length, ids, label = [], [], []\n",
    "        for num, line in enumerate(lines):\n",
    "            id = np.zeros(self.max_len, dtype=np.int32)\n",
    "            line += \" <eos>\"\n",
    "            words = line.split()\n",
    "            for i, word in enumerate(words):\n",
    "                if i == self.max_len:\n",
    "                    break\n",
    "                if word not in self.w2idx and len(self.w2idx) < self.max_vocab:\n",
    "                    self.w2idx[word] = len(self.w2idx)\n",
    "                id[i] = self.get_w2idx(word)\n",
    "            ids.append(id)\n",
    "            length.append(i)\n",
    "            label.append(num % 2)\n",
    "\n",
    "        return np.array(ids), np.array(length), np.array(label)\n",
    "\n",
    "    def get_train(self, batch_size=20):\n",
    "        pt = self.train_pt\n",
    "        self.train_pt = (self.train_pt + batch_size) % self.train_size\n",
    "        return self.train_ids[pt: pt+batch_size], self.train_len[pt: pt+batch_size], self.train_label[pt: pt+batch_size]\n",
    "\n",
    "    def get_test(self, batch_size=20):\n",
    "        pt = self.test_pt\n",
    "        self.test_pt = (self.test_pt + batch_size) % self.test_size\n",
    "        return self.test_ids[pt: pt+batch_size], self.test_len[pt: pt+batch_size], self.test_label[pt: pt+batch_size]\n"
   ]
  },
  {
   "cell_type": "code",
   "execution_count": 43,
   "metadata": {},
   "outputs": [],
   "source": [
    "data = plot_data()"
   ]
  },
  {
   "cell_type": "code",
   "execution_count": 68,
   "metadata": {},
   "outputs": [],
   "source": [
    "import os\n",
    "path=\"./dataset/poster_txt\"\n",
    "\n",
    "lines = []\n",
    "lines1 = []\n",
    "lines2 = []\n",
    "lines3 = []\n",
    "lines4 = []\n",
    "\n",
    "size = min(len(data.adventure_list), len(data.documentary_list), len(data.horror_list), len(data.romance_list))\n",
    "\n",
    "for i in range(size):\n",
    "    with open(path + \"/Adventure/\" + data.adventure_list[i], \"r\", encoding=\"utf-8\") as fin:\n",
    "        lines1.append(fin.readline())\n",
    "#         lines.append(fin.readline())\n",
    "    with open(path + \"/Documentary/\" + data.documentary_list[i], \"r\", encoding=\"utf-8\") as fin:\n",
    "        lines2.append(fin.readline())\n",
    "#         lines.append(fin.readline())\n",
    "    with open(path + \"/Horror/\" + data.horror_list[i], \"r\", encoding=\"utf-8\") as fin:\n",
    "        lines3.append(fin.readline())\n",
    "#         lines.append(fin.readline())\n",
    "    with open(path + \"/Romance/\" + data.romance_list[i], \"r\", encoding=\"utf-8\") as fin:\n",
    "        lines4.append(fin.readline())\n",
    "#         lines.append(fin.readline())"
   ]
  },
  {
   "cell_type": "code",
   "execution_count": 63,
   "metadata": {},
   "outputs": [],
   "source": [
    "cnt1 = {}\n",
    "end_token=\"<eos>\"\n",
    "w2idx = {end_token: 0, \"<unk>\": 1}\n",
    "x = 0\n",
    "for line in lines:\n",
    "    for word in line.split():\n",
    "        if word in cnt1:\n",
    "            cnt1[word] += 1\n",
    "        else:\n",
    "            cnt1[word] = 1\n",
    "cnt_sort = sorted(cnt1.items(), key=lambda cnt:cnt[1], reverse=True)\n",
    "for word, count in cnt_sort:\n",
    "    w2idx[word] = len(w2idx)\n",
    "        \n",
    "    "
   ]
  },
  {
   "cell_type": "code",
   "execution_count": 65,
   "metadata": {},
   "outputs": [
    {
     "data": {
      "text/plain": [
       "60119"
      ]
     },
     "execution_count": 65,
     "metadata": {},
     "output_type": "execute_result"
    }
   ],
   "source": [
    "len(w2idx)"
   ]
  },
  {
   "cell_type": "markdown",
   "metadata": {},
   "source": [
    "Adventure 단어수 : 24310\n",
    "Documentary 단어수 : 24594\n",
    "Horror 단어수 : 19456\n",
    "Romance 단어수 : 23960\n",
    "총 단어수 : 60119\n",
    "\n",
    "\n",
    "전체에서 가장 긴 sentence의 단어 개수 : 86\n",
    "Adventure 가장 긴 sentence의 단어 개 : 61\n",
    "Documentary 가장 긴 sentence의 단어 개 : 58\n",
    "Horror 가장 긴 sentence의 단어 개 : 81\n",
    "Romance 가장 긴 sentence의 단어 개 : 86"
   ]
  },
  {
   "cell_type": "code",
   "execution_count": 75,
   "metadata": {},
   "outputs": [
    {
     "name": "stdout",
     "output_type": "stream",
     "text": [
      "86\n"
     ]
    }
   ],
   "source": [
    "\n",
    "max_word_cnt = 0\n",
    "for line in lines4:\n",
    "    cnt = 0\n",
    "    for word in line.split():\n",
    "        cnt += 1\n",
    "    if (cnt > max_word_cnt):\n",
    "        max_word_cnt = cnt\n",
    "print(cnt)        "
   ]
  },
  {
   "cell_type": "code",
   "execution_count": 67,
   "metadata": {},
   "outputs": [
    {
     "data": {
      "text/plain": [
       "86"
      ]
     },
     "execution_count": 67,
     "metadata": {},
     "output_type": "execute_result"
    }
   ],
   "source": [
    "cnt"
   ]
  },
  {
   "cell_type": "code",
   "execution_count": null,
   "metadata": {},
   "outputs": [],
   "source": []
  }
 ],
 "metadata": {
  "kernelspec": {
   "display_name": "Python 3",
   "language": "python",
   "name": "python3"
  },
  "language_info": {
   "codemirror_mode": {
    "name": "ipython",
    "version": 3
   },
   "file_extension": ".py",
   "mimetype": "text/x-python",
   "name": "python",
   "nbconvert_exporter": "python",
   "pygments_lexer": "ipython3",
   "version": "3.6.4"
  }
 },
 "nbformat": 4,
 "nbformat_minor": 2
}
