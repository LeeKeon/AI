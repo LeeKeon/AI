{
 "cells": [
  {
   "cell_type": "code",
   "execution_count": 1,
   "metadata": {},
   "outputs": [
    {
     "name": "stderr",
     "output_type": "stream",
     "text": [
      "/etc/anaconda3/lib/python3.6/site-packages/h5py/__init__.py:36: FutureWarning: Conversion of the second argument of issubdtype from `float` to `np.floating` is deprecated. In future, it will be treated as `np.float64 == np.dtype(float).type`.\n",
      "  from ._conv import register_converters as _register_converters\n"
     ]
    }
   ],
   "source": [
    "import os\n",
    "os.environ['CUDA_VISIBLE_DEVICES'] = \"2\"\n",
    "\n",
    "import tensorflow as tf\n",
    "import numpy as np\n",
    "import time\n",
    "\n",
    "from cnn_model import Model\n",
    "from data_loader import movie_data\n",
    "\n",
    "data = movie_data()\n",
    "\n",
    "def initialize_session():\n",
    "    config = tf.ConfigProto()\n",
    "    config.gpu_options.per_process_gpu_memory_fraction = 0.4\n",
    "    return tf.Session(config=config)"
   ]
  },
  {
   "cell_type": "code",
   "execution_count": 2,
   "metadata": {},
   "outputs": [],
   "source": [
    "##################################################\n",
    "BATCH_SIZE = 100\n",
    "class_size = 23\n",
    "learning_rate = 0.001   # Learning rate\n",
    "use_clip = True         # Gradient clipping 쓸지 여부\n",
    "keep_prob = 0.8\n",
    "##################################################\n",
    "\n",
    "\n",
    "model = Model(use_clip=use_clip, class_size=class_size, learning_rate=learning_rate, keep_prob=keep_prob)\n",
    "\n",
    "sess = initialize_session()\n",
    "sess.run(tf.global_variables_initializer())"
   ]
  },
  {
   "cell_type": "code",
   "execution_count": 3,
   "metadata": {},
   "outputs": [
    {
     "ename": "SyntaxError",
     "evalue": "invalid syntax (<ipython-input-3-e805dedf6054>, line 8)",
     "output_type": "error",
     "traceback": [
      "\u001b[0;36m  File \u001b[0;32m\"<ipython-input-3-e805dedf6054>\"\u001b[0;36m, line \u001b[0;32m8\u001b[0m\n\u001b[0;31m    feed_dict={model.x_image: test_x, model.y_label: test_label, keep_prob=1.0})\u001b[0m\n\u001b[0m                                                                          ^\u001b[0m\n\u001b[0;31mSyntaxError\u001b[0m\u001b[0;31m:\u001b[0m invalid syntax\n"
     ]
    }
   ],
   "source": [
    "def test_model():\n",
    "    num_it = 10\n",
    "    test_loss, test_cnt, test_right = 0, 0, .0\n",
    "\n",
    "    for _ in range(num_it):\n",
    "        test_x, test_label = data.get_test(BATCH_SIZE)\n",
    "        loss, out = sess.run([model.loss, model.y_pred],\n",
    "                              feed_dict={model.x_image: test_x, model.y_label: test_label, keep_prob:1.0})\n",
    "        test_loss += loss\n",
    "        test_cnt += 1\n",
    "        for i, o in enumerate(out):\n",
    "            if o == test_label[i]:\n",
    "                test_right += 1\n",
    "    print(\" * test loss: {:.3f} | acc: {:.3f}\\n\".format(test_loss / test_cnt, test_right / test_cnt / BATCH_SIZE))\n",
    "    \n",
    "avg_loss, it_cnt, same = 0, 0, .0\n",
    "it_log, it_test, it_save, it_sample = 10, 100, 1000, 100\n",
    "start_time = time.time()\n",
    "for it in range(0, 10000):\n",
    "    train_x, label = data.get_train(BATCH_SIZE)\n",
    "#     for img in train_x:\n",
    "#         print(img.shape)\n",
    "#     print('-----')\n",
    "#     for l in label:\n",
    "#         print(l)\n",
    "    loss, _,  out = sess.run([model.loss, model.update, model.y_pred],\n",
    "                            feed_dict={model.x_image: train_x, model.y_label: label})\n",
    "#     print(prob)\n",
    "    for i, o in enumerate(out):\n",
    "        if o == label[i]:\n",
    "            same += 1\n",
    "    avg_loss += loss\n",
    "    it_cnt += 1\n",
    "    if it % it_log == 0 and it:\n",
    "        print(\" it: {:4d} | loss: {:.3f} | acc: {:.3f} - {:.2f}s\".format(\n",
    "            it, avg_loss / it_cnt, same/BATCH_SIZE/it_log, time.time() - start_time))\n",
    "        avg_loss, it_cnt, same = 0, 0, .0\n",
    "        \n",
    "    if it % it_test == 0 and it > 0:\n",
    "        test_model()"
   ]
  },
  {
   "cell_type": "code",
   "execution_count": null,
   "metadata": {},
   "outputs": [],
   "source": []
  },
  {
   "cell_type": "code",
   "execution_count": null,
   "metadata": {},
   "outputs": [],
   "source": []
  },
  {
   "cell_type": "code",
   "execution_count": null,
   "metadata": {},
   "outputs": [],
   "source": []
  },
  {
   "cell_type": "code",
   "execution_count": null,
   "metadata": {},
   "outputs": [],
   "source": []
  },
  {
   "cell_type": "code",
   "execution_count": null,
   "metadata": {},
   "outputs": [],
   "source": []
  },
  {
   "cell_type": "code",
   "execution_count": null,
   "metadata": {},
   "outputs": [],
   "source": []
  }
 ],
 "metadata": {
  "kernelspec": {
   "display_name": "Python 3",
   "language": "python",
   "name": "python3"
  },
  "language_info": {
   "codemirror_mode": {
    "name": "ipython",
    "version": 3
   },
   "file_extension": ".py",
   "mimetype": "text/x-python",
   "name": "python",
   "nbconvert_exporter": "python",
   "pygments_lexer": "ipython3",
   "version": "3.6.4"
  }
 },
 "nbformat": 4,
 "nbformat_minor": 2
}
