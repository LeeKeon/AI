{
 "cells": [
  {
   "cell_type": "code",
   "execution_count": 1,
   "metadata": {},
   "outputs": [],
   "source": [
    "import os"
   ]
  },
  {
   "cell_type": "code",
   "execution_count": 4,
   "metadata": {},
   "outputs": [],
   "source": [
    "posterPath = './dataset/poster_image/new'"
   ]
  },
  {
   "cell_type": "code",
   "execution_count": 5,
   "metadata": {},
   "outputs": [],
   "source": [
    "files = [file for file in os.listdir(posterPath) \n",
    "         if os.path.isfile(os.path.join(posterPath,file))]"
   ]
  },
  {
   "cell_type": "code",
   "execution_count": 10,
   "metadata": {},
   "outputs": [],
   "source": [
    "file_ids = []\n",
    "for file in files:\n",
    "    file_ids.append(file.split('.')[0])"
   ]
  },
  {
   "cell_type": "code",
   "execution_count": 17,
   "metadata": {},
   "outputs": [],
   "source": [
    "f = open(\"movie_dis.txt\", 'w')\n",
    "f.write('\\n'.join(file_ids))\n",
    "f.close()"
   ]
  },
  {
   "cell_type": "code",
   "execution_count": 16,
   "metadata": {},
   "outputs": [
    {
     "name": "stdout",
     "output_type": "stream",
     "text": [
      "0. Poster Vetorization.ipynb\t\t    cnn_model_test.py\r\n",
      "1-1. Poster Image Download (Adv).ipynb\t    data_loader.ipynb\r\n",
      "1-1. Poster Image Download (Doc).ipynb\t    data_loader.py\r\n",
      "1-1. Poster Image Download (Horror).ipynb   data_loader_test.py\r\n",
      "1-1. Poster Image Download (Romance).ipynb  dataset\r\n",
      "1-2. Image to CSV.ipynb\t\t\t    genre_model.py\r\n",
      "1-2. Poster Txt Download.ipynb\t\t    get_lyrics.ipynb\r\n",
      "1-3 Poster txt frequency.ipynb\t\t    models\r\n",
      "2. Data Verification.ipynb\t\t    movie_dis.txt\r\n",
      "5. Training Test.ipynb\t\t\t    nohup.out\r\n",
      "Poster_txt_download.py\t\t\t    sample_url\r\n",
      "Train_genre_cnn.ipynb\t\t\t    temp_training.ipynb\r\n",
      "Untitled2.ipynb\t\t\t\t    test.jpg\r\n",
      "Untitled3.ipynb\t\t\t\t    test_dataload.ipynb\r\n",
      "__pycache__\t\t\t\t    train_genre_cnn.py\r\n",
      "cnn_model.py\t\t\t\t    train_genre_cnn_2.ipynb\r\n"
     ]
    }
   ],
   "source": [
    "!ls"
   ]
  },
  {
   "cell_type": "code",
   "execution_count": null,
   "metadata": {},
   "outputs": [],
   "source": []
  }
 ],
 "metadata": {
  "kernelspec": {
   "display_name": "Python 3",
   "language": "python",
   "name": "python3"
  },
  "language_info": {
   "codemirror_mode": {
    "name": "ipython",
    "version": 3
   },
   "file_extension": ".py",
   "mimetype": "text/x-python",
   "name": "python",
   "nbconvert_exporter": "python",
   "pygments_lexer": "ipython3",
   "version": "3.6.4"
  }
 },
 "nbformat": 4,
 "nbformat_minor": 2
}
