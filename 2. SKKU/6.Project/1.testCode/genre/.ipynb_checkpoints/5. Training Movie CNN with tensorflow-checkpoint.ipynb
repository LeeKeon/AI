{
 "cells": [
  {
   "cell_type": "code",
   "execution_count": 1,
   "metadata": {},
   "outputs": [
    {
     "name": "stderr",
     "output_type": "stream",
     "text": [
      "/etc/anaconda3/lib/python3.6/site-packages/h5py/__init__.py:36: FutureWarning: Conversion of the second argument of issubdtype from `float` to `np.floating` is deprecated. In future, it will be treated as `np.float64 == np.dtype(float).type`.\n",
      "  from ._conv import register_converters as _register_converters\n",
      "Using TensorFlow backend.\n"
     ]
    },
    {
     "name": "stdout",
     "output_type": "stream",
     "text": [
      "x_train size 4800\n",
      "y_train size 4800\n",
      "x_test  size 1200\n",
      "y_test  size 1200\n"
     ]
    }
   ],
   "source": [
    "# -*- coding: utf-8 -*-\n",
    "\n",
    "import os\n",
    "os.environ['CUDA_VISIBLE_DEVICES'] = \"2\"\n",
    "\n",
    "import tensorflow as tf\n",
    "import numpy as np\n",
    "import time\n",
    "\n",
    "from genre_data_loader import movie_data\n",
    "data = movie_data(data_type='image')\n",
    "\n",
    "def initialize_session():\n",
    "    config = tf.ConfigProto()\n",
    "    config.gpu_options.per_process_gpu_memory_fraction = 0.4\n",
    "    return tf.Session(config=config)"
   ]
  },
  {
   "cell_type": "code",
   "execution_count": 2,
   "metadata": {
    "scrolled": true
   },
   "outputs": [
    {
     "name": "stdout",
     "output_type": "stream",
     "text": [
      "conv1 Tensor(\"MaxPool:0\", shape=(?, 67, 45, 64), dtype=float32)\n",
      "conv2 Tensor(\"dropout/mul:0\", shape=(?, 33, 22, 128), dtype=float32)\n",
      "conv3 Tensor(\"dropout_1/mul:0\", shape=(?, 16, 11, 256), dtype=float32)\n",
      "x_image Tensor(\"Mean:0\", shape=(?, 256), dtype=float32)\n"
     ]
    }
   ],
   "source": [
    "##################################################\n",
    "BATCH_SIZE = 16\n",
    "class_size = 4\n",
    "learning_rate = 0.001   # Learning rate\n",
    "use_clip = True         # Gradient clipping 쓸지 여부\n",
    "train_keep_prob = 0.7\n",
    "train_total_batch = int(data.train_size / BATCH_SIZE)\n",
    "test_total_batch = int(data.test_size / BATCH_SIZE)\n",
    "train_acc_summary = [] # 학습용 데이터의 정확도를 중간 중간 기록한다\n",
    "test_acc_summary = []  # 테스트용 데이터의 정확도를 중간 중간 기록한다\n",
    "train_loss_summary = [] # 학습용 데이터의 정확도를 중간 중간 기록한다\n",
    "test_loss_summary = []  # 테스트용 데이터의 정확도를 중간 중간 기록한다\n",
    "hypothesis_summary = []\n",
    "##################################################\n",
    "from genre_model_resnet_style import Model\n",
    "model = Model(use_clip=use_clip, class_size=class_size, learning_rate=learning_rate)\n",
    "\n",
    "sess = initialize_session()\n",
    "sess.run(tf.global_variables_initializer())\n",
    "\n",
    "def test_model():\n",
    "    test_loss, test_acc = 0, 0\n",
    "\n",
    "    for _ in range(test_total_batch):\n",
    "        test_x, test_y = data.get_test(BATCH_SIZE)\n",
    "        \n",
    "        loss, acc = sess.run([model.loss, model.accuracy],\n",
    "                              feed_dict={model.x_image: test_x, model.y_label: test_y, model.keep_prob : 1.0, model.is_training:False})\n",
    "        test_loss += loss\n",
    "        test_acc += acc\n",
    "        \n",
    "    return test_loss/test_total_batch, test_acc/test_total_batch\n",
    "    #print(\" * test loss: {:.3f} | test acc: {:.3f}\\n\".format(test_loss / test_cnt, sess.run(model.accuracy, feed_dict={model.x_image: test_x, model.y_label: test_label})))\n",
    "\n"
   ]
  },
  {
   "cell_type": "code",
   "execution_count": null,
   "metadata": {
    "scrolled": true
   },
   "outputs": [],
   "source": [
    "for epoch in range(3):\n",
    "    \n",
    "    train_avg_loss, train_avg_acc = 0, 0\n",
    "    \n",
    "    for it in range(train_total_batch):\n",
    "        train_x, train_y = data.get_train(BATCH_SIZE)\n",
    "        \n",
    "        loss, acc, _, hypothesis_ = sess.run([model.loss, model.accuracy, model.update, model.genre_prob], feed_dict={model.x_image: train_x, model.y_label: train_y, model.keep_prob:train_keep_prob, model.is_training:True})\n",
    "        train_avg_loss += loss / train_total_batch\n",
    "        train_avg_acc += acc / train_total_batch\n",
    "        \n",
    "        #if it % 10 == 0 and it > 0:\n",
    "            #model.save(sess)\n",
    "            #print(\"*Model Saved train_loss: {:.4f}, train_acc: {:.4f}\".format(loss/BATCH_SIZE, acc))\n",
    "        \n",
    "    test_avg_loss, test_avg_acc = test_model()\n",
    "    \n",
    "    train_acc_summary.append(train_avg_acc)\n",
    "    test_acc_summary.append(test_avg_acc)\n",
    "    train_loss_summary.append(train_avg_loss)\n",
    "    test_loss_summary.append(test_avg_loss)\n",
    "    hypothesis_summary.append(hypothesis_)\n",
    "    \n",
    "    print(\"epoch {} - train_loss: {:.4f}, train_acc: {:.4f}, test_loss: {:.4f}, test_acc: {:.4f}\"\n",
    "          .format(epoch+1, train_avg_loss, train_avg_acc, test_avg_loss, test_avg_acc))  "
   ]
  },
  {
   "cell_type": "code",
   "execution_count": null,
   "metadata": {},
   "outputs": [],
   "source": [
    "train_x, train_y = data.get_train(1)\n",
    "x_image_, layers_ = sess.run([model.x_img, model.layers], feed_dict={model.x_image: train_x, model.y_label: train_y, model.keep_prob:train_keep_prob, model.is_training:True})"
   ]
  },
  {
   "cell_type": "code",
   "execution_count": 12,
   "metadata": {},
   "outputs": [
    {
     "name": "stdout",
     "output_type": "stream",
     "text": [
      "Max Train Accuracy 0.66%\n",
      "Max Test Accuracy 0.53%\n"
     ]
    },
    {
     "data": {
      "text/plain": [
       "Text(0.5,0.98,'TEST')"
      ]
     },
     "execution_count": 12,
     "metadata": {},
     "output_type": "execute_result"
    },
    {
     "data": {
      "image/png": "[encoded data removed]",
      "text/plain": [
       "<matplotlib.figure.Figure at 0x7f1ad447aba8>"
      ]
     },
     "metadata": {},
     "output_type": "display_data"
    }
   ],
   "source": [
    "print('Max Train Accuracy {:.2f}%'.format(np.max(train_acc_summary)))\n",
    "print('Max Test Accuracy {:.2f}%'.format(np.max(test_acc_summary)))\n",
    "\n",
    "import matplotlib.pyplot as plt\n",
    "\n",
    "# Get the figure and the axes\n",
    "fig, (acc, loss) = plt.subplots(nrows=1,ncols=2, sharey=False, figsize=(15, 5))\n",
    "\n",
    "# 첫번째 그래프\n",
    "acc.plot(train_acc_summary, 'r', label='train')\n",
    "acc.plot(test_acc_summary, 'b', label='test')\n",
    "acc.legend(loc='upper left', frameon=False)\n",
    "acc.set(title='Accuracy', xlabel='Epoch', ylabel='Accuracy')\n",
    "\n",
    "# 두번째 그래프\n",
    "loss.plot(train_loss_summary, 'r', label='train')\n",
    "loss.plot(test_loss_summary, 'b', label='test')\n",
    "loss.legend(loc='upper left', frameon=False)\n",
    "loss.set(title='Loss', xlabel='Epoch', ylabel='Accuracy')\n",
    "\n",
    "# Title the figure\n",
    "fig.suptitle('TEST', fontsize=14, fontweight='bold')"
   ]
  },
  {
   "cell_type": "code",
   "execution_count": 5,
   "metadata": {},
   "outputs": [],
   "source": [
    "#model.restore(sess)"
   ]
  },
  {
   "cell_type": "code",
   "execution_count": 6,
   "metadata": {},
   "outputs": [],
   "source": [
    "#test_avg_loss, test_avg_acc = test_model()\n",
    "#test_avg_acc"
   ]
  },
  {
   "cell_type": "code",
   "execution_count": 7,
   "metadata": {},
   "outputs": [
    {
     "data": {
      "text/plain": [
       "array([[0.15825252, 0.40750936, 0.2770514 , 0.15718675],\n",
       "       [0.46564367, 0.19541696, 0.09303059, 0.24590884],\n",
       "       [0.19596133, 0.0341502 , 0.6759269 , 0.0939615 ],\n",
       "       [0.5231801 , 0.03894639, 0.3231333 , 0.11474025],\n",
       "       [0.21186185, 0.23936549, 0.41223904, 0.13653363],\n",
       "       [0.31860173, 0.08095544, 0.3086285 , 0.29181433],\n",
       "       [0.5140438 , 0.03716851, 0.11867462, 0.33011302],\n",
       "       [0.24948367, 0.1346603 , 0.46634737, 0.14950864],\n",
       "       [0.3909058 , 0.04443169, 0.39421588, 0.17044662],\n",
       "       [0.07421759, 0.70146084, 0.05369759, 0.170624  ],\n",
       "       [0.08532017, 0.14240488, 0.6042142 , 0.1680608 ],\n",
       "       [0.22135095, 0.46212044, 0.03698602, 0.27954262],\n",
       "       [0.12143537, 0.51273847, 0.05946766, 0.30635855],\n",
       "       [0.7283237 , 0.02918489, 0.08678128, 0.15571004],\n",
       "       [0.12034856, 0.04309276, 0.727246  , 0.10931261],\n",
       "       [0.29041964, 0.08419596, 0.45602614, 0.16935831],\n",
       "       [0.34167263, 0.23487249, 0.10495519, 0.31849965],\n",
       "       [0.07511929, 0.44989   , 0.2365065 , 0.23848417],\n",
       "       [0.16798963, 0.23381858, 0.50905037, 0.08914143],\n",
       "       [0.6833421 , 0.04740203, 0.15848905, 0.11076683],\n",
       "       [0.12657845, 0.5158788 , 0.04164817, 0.31589457],\n",
       "       [0.3247701 , 0.29785308, 0.2502042 , 0.12717265],\n",
       "       [0.29243287, 0.05469346, 0.52747357, 0.12540016],\n",
       "       [0.4064588 , 0.2269238 , 0.23286359, 0.13375379],\n",
       "       [0.3331983 , 0.2655047 , 0.26296353, 0.13833342],\n",
       "       [0.09923215, 0.09069086, 0.6351392 , 0.1749378 ],\n",
       "       [0.5395604 , 0.19952455, 0.09975695, 0.1611581 ],\n",
       "       [0.05245608, 0.6361008 , 0.10019111, 0.21125197],\n",
       "       [0.11788703, 0.46247503, 0.0536406 , 0.3659973 ],\n",
       "       [0.25974712, 0.19798559, 0.18808703, 0.3541803 ],\n",
       "       [0.5000972 , 0.17232467, 0.20237097, 0.12520716],\n",
       "       [0.14442301, 0.5154242 , 0.02695016, 0.31320262],\n",
       "       [0.05286276, 0.605687  , 0.12020752, 0.22124262],\n",
       "       [0.12933445, 0.53684825, 0.07303429, 0.260783  ],\n",
       "       [0.55760175, 0.02049815, 0.29823154, 0.12366855],\n",
       "       [0.23326159, 0.03048373, 0.64467925, 0.09157542],\n",
       "       [0.05082364, 0.27637857, 0.52097857, 0.1518192 ],\n",
       "       [0.27990285, 0.0102651 , 0.6433839 , 0.06644811],\n",
       "       [0.4018578 , 0.23185572, 0.101881  , 0.26440543],\n",
       "       [0.17999417, 0.5406629 , 0.12302934, 0.15631358],\n",
       "       [0.36964968, 0.08249411, 0.2956876 , 0.25216866],\n",
       "       [0.44425422, 0.04645002, 0.27820092, 0.23109482],\n",
       "       [0.0544576 , 0.40678504, 0.2667554 , 0.2720019 ],\n",
       "       [0.21885362, 0.00723015, 0.7121006 , 0.06181558],\n",
       "       [0.22389144, 0.22711778, 0.3632798 , 0.18571095],\n",
       "       [0.52398187, 0.1964809 , 0.11732788, 0.16220935],\n",
       "       [0.46954545, 0.0679756 , 0.33413172, 0.12834726],\n",
       "       [0.36095107, 0.20618671, 0.10068531, 0.33217692],\n",
       "       [0.10067033, 0.55436957, 0.11267387, 0.23228624],\n",
       "       [0.43807372, 0.01446264, 0.43835974, 0.10910387],\n",
       "       [0.5534761 , 0.13968241, 0.18278782, 0.12405371],\n",
       "       [0.4809044 , 0.06609266, 0.20085089, 0.25215203],\n",
       "       [0.3997947 , 0.212129  , 0.20386419, 0.18421213],\n",
       "       [0.19881263, 0.28510916, 0.32318455, 0.19289358],\n",
       "       [0.66562164, 0.00985874, 0.21003336, 0.11448629],\n",
       "       [0.7348386 , 0.02587263, 0.08288886, 0.15639992],\n",
       "       [0.51922965, 0.10814604, 0.24997857, 0.12264572],\n",
       "       [0.5516844 , 0.11133742, 0.22270665, 0.11427158],\n",
       "       [0.30940735, 0.10118204, 0.41524503, 0.17416565],\n",
       "       [0.42983693, 0.24764891, 0.20608556, 0.1164287 ],\n",
       "       [0.03755938, 0.35658112, 0.4856121 , 0.12024738],\n",
       "       [0.11658353, 0.15132563, 0.57515216, 0.1569387 ],\n",
       "       [0.1548936 , 0.44385776, 0.04146033, 0.35978836],\n",
       "       [0.13498136, 0.51982486, 0.0529171 , 0.2922767 ]], dtype=float32)"
      ]
     },
     "execution_count": 7,
     "metadata": {},
     "output_type": "execute_result"
    }
   ],
   "source": [
    "hypothesis_summary[-1]"
   ]
  },
  {
   "cell_type": "code",
   "execution_count": 8,
   "metadata": {},
   "outputs": [
    {
     "name": "stdout",
     "output_type": "stream",
     "text": [
      "(64, 4)\n"
     ]
    },
    {
     "ename": "ValueError",
     "evalue": "cannot reshape array of size 256 into shape (134,91,3,4)",
     "output_type": "error",
     "traceback": [
      "\u001b[0;31m---------------------------------------------------------------------------\u001b[0m",
      "\u001b[0;31mValueError\u001b[0m                                Traceback (most recent call last)",
      "\u001b[0;32m<ipython-input-8-05f4eb1346f6>\u001b[0m in \u001b[0;36m<module>\u001b[0;34m()\u001b[0m\n\u001b[1;32m      1\u001b[0m \u001b[0mw\u001b[0m \u001b[0;34m=\u001b[0m \u001b[0mhypothesis_summary\u001b[0m\u001b[0;34m[\u001b[0m\u001b[0;34m-\u001b[0m\u001b[0;36m1\u001b[0m\u001b[0;34m]\u001b[0m\u001b[0;34m\u001b[0m\u001b[0m\n\u001b[1;32m      2\u001b[0m \u001b[0mprint\u001b[0m\u001b[0;34m(\u001b[0m\u001b[0mw\u001b[0m\u001b[0;34m.\u001b[0m\u001b[0mshape\u001b[0m\u001b[0;34m)\u001b[0m\u001b[0;34m\u001b[0m\u001b[0m\n\u001b[0;32m----> 3\u001b[0;31m \u001b[0mw\u001b[0m \u001b[0;34m=\u001b[0m \u001b[0mw\u001b[0m\u001b[0;34m.\u001b[0m\u001b[0mreshape\u001b[0m\u001b[0;34m(\u001b[0m\u001b[0;36m134\u001b[0m\u001b[0;34m,\u001b[0m\u001b[0;36m91\u001b[0m\u001b[0;34m,\u001b[0m\u001b[0;36m3\u001b[0m\u001b[0;34m,\u001b[0m\u001b[0;36m4\u001b[0m\u001b[0;34m)\u001b[0m\u001b[0;34m\u001b[0m\u001b[0m\n\u001b[0m\u001b[1;32m      4\u001b[0m \u001b[0;34m\u001b[0m\u001b[0m\n\u001b[1;32m      5\u001b[0m \u001b[0mw_min\u001b[0m\u001b[0;34m,\u001b[0m \u001b[0mw_max\u001b[0m \u001b[0;34m=\u001b[0m \u001b[0mnp\u001b[0m\u001b[0;34m.\u001b[0m\u001b[0mmin\u001b[0m\u001b[0;34m(\u001b[0m\u001b[0mw\u001b[0m\u001b[0;34m)\u001b[0m\u001b[0;34m,\u001b[0m \u001b[0mnp\u001b[0m\u001b[0;34m.\u001b[0m\u001b[0mmax\u001b[0m\u001b[0;34m(\u001b[0m\u001b[0mw\u001b[0m\u001b[0;34m)\u001b[0m\u001b[0;34m\u001b[0m\u001b[0m\n",
      "\u001b[0;31mValueError\u001b[0m: cannot reshape array of size 256 into shape (134,91,3,4)"
     ]
    }
   ],
   "source": [
    "w = hypothesis_summary[-1]\n",
    "print(w.shape)\n",
    "w = w.reshape(134,91,3,4)\n",
    "\n",
    "w_min, w_max = np.min(w), np.max(w)\n",
    "\n",
    "classes = ['Romance', 'Horror', 'Adventure', 'Documentary']\n",
    "for i in range(4):\n",
    "    plt.subplot(2,5,i+1)\n",
    "    \n",
    "    wimg=255.0*(w[:,:,:,i].squeeze() - w_min)/(w_max-w_min)\n",
    "    plt.imshow(wimg.astype('uint8'))\n",
    "    plt.axis('off')\n",
    "    plt.title(classes[i])"
   ]
  },
  {
   "cell_type": "code",
   "execution_count": null,
   "metadata": {},
   "outputs": [],
   "source": [
    "w = best_softmax.Weights[:-1, :]\n",
    "w = w.reshape(32,32,3,10)\n",
    "\n",
    "w_min, w_max = np.min(w), np.max(w)\n",
    "\n",
    "classes = ['plane', 'car', 'bird', 'cat', 'deer', 'dog', 'frog', 'horse', 'ship', 'truck']\n",
    "for i in range(10):\n",
    "    plt.subplot(2,5,i+1)\n",
    "    \n",
    "    wimg=255.0*(w[:,:,:,i].squeeze() - w_min)/(w_max-w_min)\n",
    "    plt.imshow(wimg.astype('uint8'))\n",
    "    plt.axis('off')\n",
    "    plt.title(classes[i])"
   ]
  },
  {
   "cell_type": "code",
   "execution_count": null,
   "metadata": {},
   "outputs": [],
   "source": [
    "tt = tf.nn.softmax()"
   ]
  },
  {
   "cell_type": "code",
   "execution_count": null,
   "metadata": {},
   "outputs": [],
   "source": []
  }
 ],
 "metadata": {
  "kernelspec": {
   "display_name": "Python 3",
   "language": "python",
   "name": "python3"
  },
  "language_info": {
   "codemirror_mode": {
    "name": "ipython",
    "version": 3
   },
   "file_extension": ".py",
   "mimetype": "text/x-python",
   "name": "python",
   "nbconvert_exporter": "python",
   "pygments_lexer": "ipython3",
   "version": "3.6.4"
  }
 },
 "nbformat": 4,
 "nbformat_minor": 2
}
