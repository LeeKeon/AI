{
 "cells": [
  {
   "cell_type": "code",
   "execution_count": 1,
   "metadata": {},
   "outputs": [
    {
     "name": "stderr",
     "output_type": "stream",
     "text": [
      "/etc/anaconda3/lib/python3.6/site-packages/h5py/__init__.py:36: FutureWarning: Conversion of the second argument of issubdtype from `float` to `np.floating` is deprecated. In future, it will be treated as `np.float64 == np.dtype(float).type`.\n",
      "  from ._conv import register_converters as _register_converters\n"
     ]
    }
   ],
   "source": [
    "import os\n",
    "os.environ['CUDA_VISIBLE_DEVICES'] = \"2\"\n",
    "\n",
    "import tensorflow as tf\n",
    "import numpy as np\n",
    "import time\n",
    "\n",
    "from cnn_model import Model\n",
    "from data_loader import movie_data\n",
    "\n",
    "def initialize_session():\n",
    "    config = tf.ConfigProto()\n",
    "    config.gpu_options.per_process_gpu_memory_fraction = 0.4\n",
    "    return tf.Session(config=config)"
   ]
  },
  {
   "cell_type": "code",
   "execution_count": null,
   "metadata": {},
   "outputs": [],
   "source": [
    "##################################################\n",
    "BATCH_SIZE = 20\n",
    "class_size = 26\n",
    "learning_rate = 0.01   # Learning rate\n",
    "use_clip = True         # Gradient clipping 쓸지 여부\n",
    "keep_prob = 0.5\n",
    "##################################################\n",
    "\n",
    "data = movie_data()\n",
    "model = Model(use_clip=use_clip, class_size=class_size, learning_rate=learning_rate, keep_prob=keep_prob)\n",
    "\n",
    "sess = initialize_session()\n",
    "sess.run(tf.global_variables_initializer())"
   ]
  },
  {
   "cell_type": "code",
   "execution_count": null,
   "metadata": {},
   "outputs": [],
   "source": [
    "\n",
    "avg_loss, it_cnt, same = 0, 0, .0\n",
    "it_log, it_test, it_save, it_sample = 10, 100, 1000, 100\n",
    "start_time = time.time()\n",
    "for it in range(0, 10000):\n",
    "    train_x, label = data.get_train(BATCH_SIZE)\n",
    "    loss, _, out = sess.run([model.loss, model.update, model.out_y],\n",
    "                            feed_dict={model.x_image: train_x, model.y_label: label})\n",
    "    for i, o in enumerate(out):\n",
    "        if o == label[i]:\n",
    "            same += 1\n",
    "#     print(prob)\n",
    "    avg_loss += loss\n",
    "    it_cnt += 1\n",
    "    if it % it_log == 0 and it:\n",
    "        print(\" it: {:4d} | loss: {:.3f} | acc: {:.3f} - {:.2f}s\".format(\n",
    "            it, avg_loss / it_cnt, same/BATCH_SIZE/it_log, time.time() - start_time))\n",
    "        avg_loss, it_cnt, same = 0, 0, .0\n"
   ]
  },
  {
   "cell_type": "code",
   "execution_count": null,
   "metadata": {},
   "outputs": [],
   "source": [
    "train_x, lable = data.get_train(BATCH_SIZE)"
   ]
  },
  {
   "cell_type": "code",
   "execution_count": null,
   "metadata": {},
   "outputs": [],
   "source": [
    "lable"
   ]
  },
  {
   "cell_type": "code",
   "execution_count": null,
   "metadata": {},
   "outputs": [],
   "source": []
  },
  {
   "cell_type": "code",
   "execution_count": null,
   "metadata": {},
   "outputs": [],
   "source": []
  },
  {
   "cell_type": "code",
   "execution_count": null,
   "metadata": {},
   "outputs": [],
   "source": []
  },
  {
   "cell_type": "code",
   "execution_count": null,
   "metadata": {},
   "outputs": [],
   "source": []
  }
 ],
 "metadata": {
  "kernelspec": {
   "display_name": "Python 3",
   "language": "python",
   "name": "python3"
  },
  "language_info": {
   "codemirror_mode": {
    "name": "ipython",
    "version": 3
   },
   "file_extension": ".py",
   "mimetype": "text/x-python",
   "name": "python",
   "nbconvert_exporter": "python",
   "pygments_lexer": "ipython3",
   "version": "3.6.4"
  }
 },
 "nbformat": 4,
 "nbformat_minor": 2
}
