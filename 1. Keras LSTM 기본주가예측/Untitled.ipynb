{
 "cells": [
  {
   "cell_type": "code",
   "execution_count": 1,
   "metadata": {},
   "outputs": [
    {
     "name": "stderr",
     "output_type": "stream",
     "text": [
      "Using TensorFlow backend.\n"
     ]
    }
   ],
   "source": [
    "import os\n",
    "import pandas as pd\n",
    "import numpy as np\n",
    "from keras.models import Sequential\n",
    "from keras.layers import Dense\n",
    "from keras.layers import LSTM\n",
    "from sklearn.preprocessing import MinMaxScaler\n",
    "import matplotlib.pyplot as plt\n",
    "import math\n",
    "from sklearn.metrics import mean_squared_error"
   ]
  },
  {
   "cell_type": "code",
   "execution_count": 18,
   "metadata": {},
   "outputs": [],
   "source": [
    "look_back = 1\n",
    "def create_dataset(dataset, look_back=1):\n",
    "    dataX, dataY = [], []\n",
    "    for i in range(len(dataset)-look_back-1):\n",
    "        a = dataset[i:(i + look_back)]\n",
    "        dataX.append(a)\n",
    "        dataY.append(dataset[i + look_back])\n",
    "    return np.array(dataX), np.array(dataY)"
   ]
  },
  {
   "cell_type": "code",
   "execution_count": 19,
   "metadata": {},
   "outputs": [
    {
     "name": "stdout",
     "output_type": "stream",
     "text": [
      "803 90\n"
     ]
    },
    {
     "name": "stderr",
     "output_type": "stream",
     "text": [
      "C:\\Users\\Keon\\AppData\\Local\\conda\\conda\\envs\\tensorflow35\\lib\\site-packages\\sklearn\\utils\\validation.py:475: DataConversionWarning: Data with input dtype int64 was converted to float64 by MinMaxScaler.\n",
      "  warnings.warn(msg, DataConversionWarning)\n"
     ]
    }
   ],
   "source": [
    "# file loader\n",
    "# sydtpath = \"D:\\sydt\"\n",
    "# naturalEndoTekCode = \"A168330\"\n",
    "fullpath = 'A168330.csv'\n",
    "pandf = pd.read_csv(fullpath, index_col=\"Date\")\n",
    " \n",
    "# convert nparray\n",
    "nparr = pandf['Close'].values[::-1]\n",
    "nparr.astype('float32')\n",
    "#print(nparr)\n",
    " \n",
    "# normalization\n",
    "scaler = MinMaxScaler(feature_range=(0, 1))\n",
    "nptf = scaler.fit_transform(nparr.reshape(-1, 1))\n",
    " \n",
    "# split train, test\n",
    "train_size = int(len(nptf) * 0.9)\n",
    "test_size = len(nptf) - train_size\n",
    "train, test = nptf[0:train_size], nptf[train_size:len(nptf)]\n",
    "print(len(train), len(test))\n",
    " \n",
    "# create dataset for learning\n",
    "trainX, trainY = create_dataset(train, look_back)\n",
    "testX, testY = create_dataset(test, look_back)\n",
    "\n",
    "# reshape input to be [samples, time steps, features]\n",
    "#trainX = np.reshape(trainX, (trainX.shape[0], 1, trainX.shape[1]))\n",
    "#testX = np.reshape(testX, (testX.shape[0], 1, testX.shape[1]))"
   ]
  },
  {
   "cell_type": "code",
   "execution_count": 21,
   "metadata": {},
   "outputs": [
    {
     "name": "stdout",
     "output_type": "stream",
     "text": [
      "_________________________________________________________________\n",
      "Layer (type)                 Output Shape              Param #   \n",
      "=================================================================\n",
      "lstm_7 (LSTM)                (None, 4)                 96        \n",
      "_________________________________________________________________\n",
      "dense_7 (Dense)              (None, 1)                 5         \n",
      "=================================================================\n",
      "Total params: 101\n",
      "Trainable params: 101\n",
      "Non-trainable params: 0\n",
      "_________________________________________________________________\n"
     ]
    }
   ],
   "source": [
    "# simple lstm network learning\n",
    "model = Sequential()\n",
    "model.add(LSTM(4, input_shape=(1, 1)))\n",
    "model.add(Dense(1))\n",
    "model.compile(loss='mean_squared_error', optimizer='adam')\n",
    "model.summary()"
   ]
  },
  {
   "cell_type": "code",
   "execution_count": 22,
   "metadata": {},
   "outputs": [
    {
     "name": "stdout",
     "output_type": "stream",
     "text": [
      "Epoch 1/20\n",
      "801/801 [==============================] - 7s 9ms/step - loss: 0.0520\n",
      "Epoch 2/20\n",
      "801/801 [==============================] - 6s 8ms/step - loss: 0.0106\n",
      "Epoch 3/20\n",
      "801/801 [==============================] - 6s 8ms/step - loss: 0.0012\n",
      "Epoch 4/20\n",
      "801/801 [==============================] - 6s 8ms/step - loss: 9.3140e-04\n",
      "Epoch 5/20\n",
      "801/801 [==============================] - 6s 8ms/step - loss: 9.3390e-04\n",
      "Epoch 6/20\n",
      "801/801 [==============================] - 6s 8ms/step - loss: 9.4472e-04\n",
      "Epoch 7/20\n",
      "801/801 [==============================] - 6s 8ms/step - loss: 9.2154e-04\n",
      "Epoch 8/20\n",
      "801/801 [==============================] - 6s 8ms/step - loss: 9.2909e-04\n",
      "Epoch 9/20\n",
      "801/801 [==============================] - 6s 8ms/step - loss: 9.2684e-04\n",
      "Epoch 10/20\n",
      "801/801 [==============================] - 6s 8ms/step - loss: 9.0738e-04\n",
      "Epoch 11/20\n",
      "801/801 [==============================] - 6s 8ms/step - loss: 9.1668e-04\n",
      "Epoch 12/20\n",
      "801/801 [==============================] - 6s 8ms/step - loss: 9.2242e-04\n",
      "Epoch 13/20\n",
      "801/801 [==============================] - 6s 8ms/step - loss: 9.1102e-04\n",
      "Epoch 14/20\n",
      "801/801 [==============================] - 6s 8ms/step - loss: 9.2191e-04\n",
      "Epoch 15/20\n",
      "801/801 [==============================] - 6s 8ms/step - loss: 8.8880e-04\n",
      "Epoch 16/20\n",
      "801/801 [==============================] - 6s 8ms/step - loss: 9.0682e-04\n",
      "Epoch 17/20\n",
      "801/801 [==============================] - 6s 8ms/step - loss: 9.3051e-04\n",
      "Epoch 18/20\n",
      "801/801 [==============================] - 6s 8ms/step - loss: 8.6723e-04\n",
      "Epoch 19/20\n",
      "801/801 [==============================] - 6s 8ms/step - loss: 9.1057e-04\n",
      "Epoch 20/20\n",
      "801/801 [==============================] - 6s 8ms/step - loss: 9.0884e-04\n"
     ]
    },
    {
     "data": {
      "text/plain": [
       "<keras.callbacks.History at 0x2e9fb630>"
      ]
     },
     "execution_count": 22,
     "metadata": {},
     "output_type": "execute_result"
    }
   ],
   "source": [
    "model.fit(trainX, trainY, epochs=20, batch_size=1, verbose=1)"
   ]
  },
  {
   "cell_type": "code",
   "execution_count": 23,
   "metadata": {},
   "outputs": [
    {
     "name": "stdout",
     "output_type": "stream",
     "text": [
      "Train Score: 1050.57 RMSE\n",
      "Predict the Close value of final day: 31374\n"
     ]
    },
    {
     "data": {
      "image/png": "[encoded data removed]",
      "text/plain": [
       "<Figure size 432x288 with 1 Axes>"
      ]
     },
     "metadata": {},
     "output_type": "display_data"
    }
   ],
   "source": [
    "# make prediction\n",
    "testPredict = model.predict(testX)\n",
    "testPredict = scaler.inverse_transform(testPredict)\n",
    "testY = scaler.inverse_transform(testY)\n",
    "testScore = math.sqrt(mean_squared_error(testY, testPredict))\n",
    "print('Train Score: %.2f RMSE' % testScore)\n",
    " \n",
    "# predict last value (or tomorrow?)\n",
    "lastX = nptf[-1]\n",
    "lastX = np.reshape(lastX, (1, 1, 1))\n",
    "lastY = model.predict(lastX)\n",
    "lastY = scaler.inverse_transform(lastY)\n",
    "print('Predict the Close value of final day: %d' % lastY)  # 데이터 입력 마지막 다음날 종가 예측\n",
    " \n",
    "# plot\n",
    "plt.plot(testPredict)\n",
    "plt.plot(testY)\n",
    "plt.show()"
   ]
  },
  {
   "cell_type": "raw",
   "metadata": {},
   "source": [
    "4\n",
    "# Train Score: 1034.33 RMSE\n",
    "Predict the Close value of final day: 31381\n",
    "\n",
    "\n",
    "8   \n",
    "#Train Score: 1490480958.17 RMSE\n",
    "Predict the Close value of final day: 31697"
   ]
  },
  {
   "cell_type": "code",
   "execution_count": null,
   "metadata": {},
   "outputs": [],
   "source": []
  }
 ],
 "metadata": {
  "kernelspec": {
   "display_name": "Python 3",
   "language": "python",
   "name": "python3"
  },
  "language_info": {
   "codemirror_mode": {
    "name": "ipython",
    "version": 3
   },
   "file_extension": ".py",
   "mimetype": "text/x-python",
   "name": "python",
   "nbconvert_exporter": "python",
   "pygments_lexer": "ipython3",
   "version": "3.5.5"
  }
 },
 "nbformat": 4,
 "nbformat_minor": 2
}
